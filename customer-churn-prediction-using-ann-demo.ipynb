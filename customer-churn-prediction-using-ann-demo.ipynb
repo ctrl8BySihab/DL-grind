{
 "cells": [
  {
   "cell_type": "code",
   "execution_count": 1,
   "id": "a197aa01",
   "metadata": {
    "_cell_guid": "b1076dfc-b9ad-4769-8c92-a6c4dae69d19",
    "_uuid": "8f2839f25d086af736a60e9eeb907d3b93b6e0e5",
    "execution": {
     "iopub.execute_input": "2025-08-04T06:38:42.141990Z",
     "iopub.status.busy": "2025-08-04T06:38:42.141672Z",
     "iopub.status.idle": "2025-08-04T06:38:44.025591Z",
     "shell.execute_reply": "2025-08-04T06:38:44.024543Z"
    },
    "papermill": {
     "duration": 1.892036,
     "end_time": "2025-08-04T06:38:44.027161",
     "exception": false,
     "start_time": "2025-08-04T06:38:42.135125",
     "status": "completed"
    },
    "tags": []
   },
   "outputs": [
    {
     "name": "stdout",
     "output_type": "stream",
     "text": [
      "/kaggle/input/credit-card-customer-churn-prediction/Churn_Modelling.csv\n"
     ]
    }
   ],
   "source": [
    "# This Python 3 environment comes with many helpful analytics libraries installed\n",
    "# It is defined by the kaggle/python Docker image: https://github.com/kaggle/docker-python\n",
    "# For example, here's several helpful packages to load\n",
    "\n",
    "import numpy as np # linear algebra\n",
    "import pandas as pd # data processing, CSV file I/O (e.g. pd.read_csv)\n",
    "\n",
    "# Input data files are available in the read-only \"../input/\" directory\n",
    "# For example, running this (by clicking run or pressing Shift+Enter) will list all files under the input directory\n",
    "\n",
    "import os\n",
    "for dirname, _, filenames in os.walk('/kaggle/input'):\n",
    "    for filename in filenames:\n",
    "        print(os.path.join(dirname, filename))\n",
    "\n",
    "# You can write up to 20GB to the current directory (/kaggle/working/) that gets preserved as output when you create a version using \"Save & Run All\" \n",
    "# You can also write temporary files to /kaggle/temp/, but they won't be saved outside of the current session"
   ]
  },
  {
   "cell_type": "code",
   "execution_count": 2,
   "id": "e268fcd5",
   "metadata": {
    "execution": {
     "iopub.execute_input": "2025-08-04T06:38:44.038117Z",
     "iopub.status.busy": "2025-08-04T06:38:44.037699Z",
     "iopub.status.idle": "2025-08-04T06:38:44.081631Z",
     "shell.execute_reply": "2025-08-04T06:38:44.080821Z"
    },
    "papermill": {
     "duration": 0.051063,
     "end_time": "2025-08-04T06:38:44.083257",
     "exception": false,
     "start_time": "2025-08-04T06:38:44.032194",
     "status": "completed"
    },
    "tags": []
   },
   "outputs": [],
   "source": [
    "df = pd.read_csv(\"/kaggle/input/credit-card-customer-churn-prediction/Churn_Modelling.csv\")"
   ]
  },
  {
   "cell_type": "code",
   "execution_count": 3,
   "id": "c101868c",
   "metadata": {
    "execution": {
     "iopub.execute_input": "2025-08-04T06:38:44.093692Z",
     "iopub.status.busy": "2025-08-04T06:38:44.093363Z",
     "iopub.status.idle": "2025-08-04T06:38:44.131051Z",
     "shell.execute_reply": "2025-08-04T06:38:44.130235Z"
    },
    "papermill": {
     "duration": 0.044571,
     "end_time": "2025-08-04T06:38:44.132521",
     "exception": false,
     "start_time": "2025-08-04T06:38:44.087950",
     "status": "completed"
    },
    "tags": []
   },
   "outputs": [
    {
     "data": {
      "text/html": [
       "<div>\n",
       "<style scoped>\n",
       "    .dataframe tbody tr th:only-of-type {\n",
       "        vertical-align: middle;\n",
       "    }\n",
       "\n",
       "    .dataframe tbody tr th {\n",
       "        vertical-align: top;\n",
       "    }\n",
       "\n",
       "    .dataframe thead th {\n",
       "        text-align: right;\n",
       "    }\n",
       "</style>\n",
       "<table border=\"1\" class=\"dataframe\">\n",
       "  <thead>\n",
       "    <tr style=\"text-align: right;\">\n",
       "      <th></th>\n",
       "      <th>RowNumber</th>\n",
       "      <th>CustomerId</th>\n",
       "      <th>Surname</th>\n",
       "      <th>CreditScore</th>\n",
       "      <th>Geography</th>\n",
       "      <th>Gender</th>\n",
       "      <th>Age</th>\n",
       "      <th>Tenure</th>\n",
       "      <th>Balance</th>\n",
       "      <th>NumOfProducts</th>\n",
       "      <th>HasCrCard</th>\n",
       "      <th>IsActiveMember</th>\n",
       "      <th>EstimatedSalary</th>\n",
       "      <th>Exited</th>\n",
       "    </tr>\n",
       "  </thead>\n",
       "  <tbody>\n",
       "    <tr>\n",
       "      <th>7689</th>\n",
       "      <td>7690</td>\n",
       "      <td>15777452</td>\n",
       "      <td>Sauve</td>\n",
       "      <td>587</td>\n",
       "      <td>France</td>\n",
       "      <td>Female</td>\n",
       "      <td>46</td>\n",
       "      <td>6</td>\n",
       "      <td>88820.29</td>\n",
       "      <td>1</td>\n",
       "      <td>0</td>\n",
       "      <td>0</td>\n",
       "      <td>70224.34</td>\n",
       "      <td>0</td>\n",
       "    </tr>\n",
       "    <tr>\n",
       "      <th>4650</th>\n",
       "      <td>4651</td>\n",
       "      <td>15664214</td>\n",
       "      <td>Hearn</td>\n",
       "      <td>670</td>\n",
       "      <td>France</td>\n",
       "      <td>Male</td>\n",
       "      <td>33</td>\n",
       "      <td>2</td>\n",
       "      <td>141204.65</td>\n",
       "      <td>2</td>\n",
       "      <td>1</td>\n",
       "      <td>0</td>\n",
       "      <td>76257.46</td>\n",
       "      <td>0</td>\n",
       "    </tr>\n",
       "    <tr>\n",
       "      <th>9377</th>\n",
       "      <td>9378</td>\n",
       "      <td>15709447</td>\n",
       "      <td>Reed</td>\n",
       "      <td>584</td>\n",
       "      <td>France</td>\n",
       "      <td>Female</td>\n",
       "      <td>26</td>\n",
       "      <td>0</td>\n",
       "      <td>146286.22</td>\n",
       "      <td>1</td>\n",
       "      <td>1</td>\n",
       "      <td>0</td>\n",
       "      <td>105105.35</td>\n",
       "      <td>0</td>\n",
       "    </tr>\n",
       "    <tr>\n",
       "      <th>7214</th>\n",
       "      <td>7215</td>\n",
       "      <td>15652658</td>\n",
       "      <td>Finch</td>\n",
       "      <td>721</td>\n",
       "      <td>France</td>\n",
       "      <td>Male</td>\n",
       "      <td>36</td>\n",
       "      <td>1</td>\n",
       "      <td>155176.83</td>\n",
       "      <td>2</td>\n",
       "      <td>1</td>\n",
       "      <td>1</td>\n",
       "      <td>49653.37</td>\n",
       "      <td>0</td>\n",
       "    </tr>\n",
       "    <tr>\n",
       "      <th>9564</th>\n",
       "      <td>9565</td>\n",
       "      <td>15720083</td>\n",
       "      <td>Fiorentino</td>\n",
       "      <td>554</td>\n",
       "      <td>Spain</td>\n",
       "      <td>Male</td>\n",
       "      <td>42</td>\n",
       "      <td>1</td>\n",
       "      <td>0.00</td>\n",
       "      <td>2</td>\n",
       "      <td>0</td>\n",
       "      <td>1</td>\n",
       "      <td>183492.90</td>\n",
       "      <td>0</td>\n",
       "    </tr>\n",
       "  </tbody>\n",
       "</table>\n",
       "</div>"
      ],
      "text/plain": [
       "      RowNumber  CustomerId     Surname  CreditScore Geography  Gender  Age  \\\n",
       "7689       7690    15777452       Sauve          587    France  Female   46   \n",
       "4650       4651    15664214       Hearn          670    France    Male   33   \n",
       "9377       9378    15709447        Reed          584    France  Female   26   \n",
       "7214       7215    15652658       Finch          721    France    Male   36   \n",
       "9564       9565    15720083  Fiorentino          554     Spain    Male   42   \n",
       "\n",
       "      Tenure    Balance  NumOfProducts  HasCrCard  IsActiveMember  \\\n",
       "7689       6   88820.29              1          0               0   \n",
       "4650       2  141204.65              2          1               0   \n",
       "9377       0  146286.22              1          1               0   \n",
       "7214       1  155176.83              2          1               1   \n",
       "9564       1       0.00              2          0               1   \n",
       "\n",
       "      EstimatedSalary  Exited  \n",
       "7689         70224.34       0  \n",
       "4650         76257.46       0  \n",
       "9377        105105.35       0  \n",
       "7214         49653.37       0  \n",
       "9564        183492.90       0  "
      ]
     },
     "execution_count": 3,
     "metadata": {},
     "output_type": "execute_result"
    }
   ],
   "source": [
    "df.sample(5)"
   ]
  },
  {
   "cell_type": "code",
   "execution_count": 4,
   "id": "3af86008",
   "metadata": {
    "execution": {
     "iopub.execute_input": "2025-08-04T06:38:44.143674Z",
     "iopub.status.busy": "2025-08-04T06:38:44.143357Z",
     "iopub.status.idle": "2025-08-04T06:38:44.169490Z",
     "shell.execute_reply": "2025-08-04T06:38:44.168345Z"
    },
    "papermill": {
     "duration": 0.033603,
     "end_time": "2025-08-04T06:38:44.171233",
     "exception": false,
     "start_time": "2025-08-04T06:38:44.137630",
     "status": "completed"
    },
    "tags": []
   },
   "outputs": [
    {
     "name": "stdout",
     "output_type": "stream",
     "text": [
      "<class 'pandas.core.frame.DataFrame'>\n",
      "RangeIndex: 10000 entries, 0 to 9999\n",
      "Data columns (total 14 columns):\n",
      " #   Column           Non-Null Count  Dtype  \n",
      "---  ------           --------------  -----  \n",
      " 0   RowNumber        10000 non-null  int64  \n",
      " 1   CustomerId       10000 non-null  int64  \n",
      " 2   Surname          10000 non-null  object \n",
      " 3   CreditScore      10000 non-null  int64  \n",
      " 4   Geography        10000 non-null  object \n",
      " 5   Gender           10000 non-null  object \n",
      " 6   Age              10000 non-null  int64  \n",
      " 7   Tenure           10000 non-null  int64  \n",
      " 8   Balance          10000 non-null  float64\n",
      " 9   NumOfProducts    10000 non-null  int64  \n",
      " 10  HasCrCard        10000 non-null  int64  \n",
      " 11  IsActiveMember   10000 non-null  int64  \n",
      " 12  EstimatedSalary  10000 non-null  float64\n",
      " 13  Exited           10000 non-null  int64  \n",
      "dtypes: float64(2), int64(9), object(3)\n",
      "memory usage: 1.1+ MB\n"
     ]
    }
   ],
   "source": [
    "df.info()"
   ]
  },
  {
   "cell_type": "code",
   "execution_count": 5,
   "id": "dc5b9206",
   "metadata": {
    "execution": {
     "iopub.execute_input": "2025-08-04T06:38:44.182408Z",
     "iopub.status.busy": "2025-08-04T06:38:44.182140Z",
     "iopub.status.idle": "2025-08-04T06:38:44.193367Z",
     "shell.execute_reply": "2025-08-04T06:38:44.192405Z"
    },
    "papermill": {
     "duration": 0.018473,
     "end_time": "2025-08-04T06:38:44.194707",
     "exception": false,
     "start_time": "2025-08-04T06:38:44.176234",
     "status": "completed"
    },
    "tags": []
   },
   "outputs": [
    {
     "name": "stdout",
     "output_type": "stream",
     "text": [
      "Duplicated Value found: 0\n"
     ]
    }
   ],
   "source": [
    "print(f\"Duplicated Value found: {df.duplicated().sum()}\")"
   ]
  },
  {
   "cell_type": "code",
   "execution_count": 6,
   "id": "3ba95a38",
   "metadata": {
    "execution": {
     "iopub.execute_input": "2025-08-04T06:38:44.205934Z",
     "iopub.status.busy": "2025-08-04T06:38:44.205604Z",
     "iopub.status.idle": "2025-08-04T06:38:44.213314Z",
     "shell.execute_reply": "2025-08-04T06:38:44.212440Z"
    },
    "papermill": {
     "duration": 0.015124,
     "end_time": "2025-08-04T06:38:44.214820",
     "exception": false,
     "start_time": "2025-08-04T06:38:44.199696",
     "status": "completed"
    },
    "tags": []
   },
   "outputs": [
    {
     "data": {
      "text/plain": [
       "Geography\n",
       "France     5014\n",
       "Germany    2509\n",
       "Spain      2477\n",
       "Name: count, dtype: int64"
      ]
     },
     "execution_count": 6,
     "metadata": {},
     "output_type": "execute_result"
    }
   ],
   "source": [
    "df[\"Geography\"].value_counts()"
   ]
  },
  {
   "cell_type": "code",
   "execution_count": 7,
   "id": "9528e380",
   "metadata": {
    "execution": {
     "iopub.execute_input": "2025-08-04T06:38:44.226606Z",
     "iopub.status.busy": "2025-08-04T06:38:44.226273Z",
     "iopub.status.idle": "2025-08-04T06:38:44.233213Z",
     "shell.execute_reply": "2025-08-04T06:38:44.232395Z"
    },
    "papermill": {
     "duration": 0.014776,
     "end_time": "2025-08-04T06:38:44.234620",
     "exception": false,
     "start_time": "2025-08-04T06:38:44.219844",
     "status": "completed"
    },
    "tags": []
   },
   "outputs": [],
   "source": [
    "df.drop(columns = [\"RowNumber\", \"CustomerId\", \"Surname\"],inplace=True)"
   ]
  },
  {
   "cell_type": "code",
   "execution_count": 8,
   "id": "f8d3b716",
   "metadata": {
    "execution": {
     "iopub.execute_input": "2025-08-04T06:38:44.246051Z",
     "iopub.status.busy": "2025-08-04T06:38:44.245746Z",
     "iopub.status.idle": "2025-08-04T06:38:44.258495Z",
     "shell.execute_reply": "2025-08-04T06:38:44.257406Z"
    },
    "papermill": {
     "duration": 0.020735,
     "end_time": "2025-08-04T06:38:44.260524",
     "exception": false,
     "start_time": "2025-08-04T06:38:44.239789",
     "status": "completed"
    },
    "tags": []
   },
   "outputs": [
    {
     "data": {
      "text/html": [
       "<div>\n",
       "<style scoped>\n",
       "    .dataframe tbody tr th:only-of-type {\n",
       "        vertical-align: middle;\n",
       "    }\n",
       "\n",
       "    .dataframe tbody tr th {\n",
       "        vertical-align: top;\n",
       "    }\n",
       "\n",
       "    .dataframe thead th {\n",
       "        text-align: right;\n",
       "    }\n",
       "</style>\n",
       "<table border=\"1\" class=\"dataframe\">\n",
       "  <thead>\n",
       "    <tr style=\"text-align: right;\">\n",
       "      <th></th>\n",
       "      <th>CreditScore</th>\n",
       "      <th>Geography</th>\n",
       "      <th>Gender</th>\n",
       "      <th>Age</th>\n",
       "      <th>Tenure</th>\n",
       "      <th>Balance</th>\n",
       "      <th>NumOfProducts</th>\n",
       "      <th>HasCrCard</th>\n",
       "      <th>IsActiveMember</th>\n",
       "      <th>EstimatedSalary</th>\n",
       "      <th>Exited</th>\n",
       "    </tr>\n",
       "  </thead>\n",
       "  <tbody>\n",
       "    <tr>\n",
       "      <th>2655</th>\n",
       "      <td>850</td>\n",
       "      <td>Germany</td>\n",
       "      <td>Male</td>\n",
       "      <td>53</td>\n",
       "      <td>2</td>\n",
       "      <td>94078.97</td>\n",
       "      <td>2</td>\n",
       "      <td>1</td>\n",
       "      <td>0</td>\n",
       "      <td>36980.54</td>\n",
       "      <td>0</td>\n",
       "    </tr>\n",
       "    <tr>\n",
       "      <th>1467</th>\n",
       "      <td>624</td>\n",
       "      <td>Germany</td>\n",
       "      <td>Female</td>\n",
       "      <td>35</td>\n",
       "      <td>0</td>\n",
       "      <td>180303.24</td>\n",
       "      <td>2</td>\n",
       "      <td>1</td>\n",
       "      <td>0</td>\n",
       "      <td>163587.90</td>\n",
       "      <td>0</td>\n",
       "    </tr>\n",
       "    <tr>\n",
       "      <th>2557</th>\n",
       "      <td>837</td>\n",
       "      <td>France</td>\n",
       "      <td>Male</td>\n",
       "      <td>26</td>\n",
       "      <td>4</td>\n",
       "      <td>89900.24</td>\n",
       "      <td>2</td>\n",
       "      <td>1</td>\n",
       "      <td>0</td>\n",
       "      <td>175477.03</td>\n",
       "      <td>0</td>\n",
       "    </tr>\n",
       "    <tr>\n",
       "      <th>7648</th>\n",
       "      <td>610</td>\n",
       "      <td>Spain</td>\n",
       "      <td>Female</td>\n",
       "      <td>31</td>\n",
       "      <td>5</td>\n",
       "      <td>0.00</td>\n",
       "      <td>2</td>\n",
       "      <td>0</td>\n",
       "      <td>0</td>\n",
       "      <td>63736.36</td>\n",
       "      <td>0</td>\n",
       "    </tr>\n",
       "    <tr>\n",
       "      <th>3910</th>\n",
       "      <td>620</td>\n",
       "      <td>France</td>\n",
       "      <td>Female</td>\n",
       "      <td>70</td>\n",
       "      <td>3</td>\n",
       "      <td>87926.24</td>\n",
       "      <td>2</td>\n",
       "      <td>1</td>\n",
       "      <td>0</td>\n",
       "      <td>33350.26</td>\n",
       "      <td>1</td>\n",
       "    </tr>\n",
       "  </tbody>\n",
       "</table>\n",
       "</div>"
      ],
      "text/plain": [
       "      CreditScore Geography  Gender  Age  Tenure    Balance  NumOfProducts  \\\n",
       "2655          850   Germany    Male   53       2   94078.97              2   \n",
       "1467          624   Germany  Female   35       0  180303.24              2   \n",
       "2557          837    France    Male   26       4   89900.24              2   \n",
       "7648          610     Spain  Female   31       5       0.00              2   \n",
       "3910          620    France  Female   70       3   87926.24              2   \n",
       "\n",
       "      HasCrCard  IsActiveMember  EstimatedSalary  Exited  \n",
       "2655          1               0         36980.54       0  \n",
       "1467          1               0        163587.90       0  \n",
       "2557          1               0        175477.03       0  \n",
       "7648          0               0         63736.36       0  \n",
       "3910          1               0         33350.26       1  "
      ]
     },
     "execution_count": 8,
     "metadata": {},
     "output_type": "execute_result"
    }
   ],
   "source": [
    "df.sample(5)"
   ]
  },
  {
   "cell_type": "code",
   "execution_count": 9,
   "id": "7ca9ae0e",
   "metadata": {
    "execution": {
     "iopub.execute_input": "2025-08-04T06:38:44.273725Z",
     "iopub.status.busy": "2025-08-04T06:38:44.273370Z",
     "iopub.status.idle": "2025-08-04T06:38:44.287907Z",
     "shell.execute_reply": "2025-08-04T06:38:44.286367Z"
    },
    "papermill": {
     "duration": 0.02306,
     "end_time": "2025-08-04T06:38:44.289939",
     "exception": false,
     "start_time": "2025-08-04T06:38:44.266879",
     "status": "completed"
    },
    "tags": []
   },
   "outputs": [],
   "source": [
    "df = pd.get_dummies(df,columns=[\"Geography\",\"Gender\"],drop_first=True, dtype=int)"
   ]
  },
  {
   "cell_type": "code",
   "execution_count": 10,
   "id": "265c748b",
   "metadata": {
    "execution": {
     "iopub.execute_input": "2025-08-04T06:38:44.302596Z",
     "iopub.status.busy": "2025-08-04T06:38:44.302179Z",
     "iopub.status.idle": "2025-08-04T06:38:44.315013Z",
     "shell.execute_reply": "2025-08-04T06:38:44.314118Z"
    },
    "papermill": {
     "duration": 0.021017,
     "end_time": "2025-08-04T06:38:44.316423",
     "exception": false,
     "start_time": "2025-08-04T06:38:44.295406",
     "status": "completed"
    },
    "tags": []
   },
   "outputs": [
    {
     "data": {
      "text/html": [
       "<div>\n",
       "<style scoped>\n",
       "    .dataframe tbody tr th:only-of-type {\n",
       "        vertical-align: middle;\n",
       "    }\n",
       "\n",
       "    .dataframe tbody tr th {\n",
       "        vertical-align: top;\n",
       "    }\n",
       "\n",
       "    .dataframe thead th {\n",
       "        text-align: right;\n",
       "    }\n",
       "</style>\n",
       "<table border=\"1\" class=\"dataframe\">\n",
       "  <thead>\n",
       "    <tr style=\"text-align: right;\">\n",
       "      <th></th>\n",
       "      <th>CreditScore</th>\n",
       "      <th>Age</th>\n",
       "      <th>Tenure</th>\n",
       "      <th>Balance</th>\n",
       "      <th>NumOfProducts</th>\n",
       "      <th>HasCrCard</th>\n",
       "      <th>IsActiveMember</th>\n",
       "      <th>EstimatedSalary</th>\n",
       "      <th>Exited</th>\n",
       "      <th>Geography_Germany</th>\n",
       "      <th>Geography_Spain</th>\n",
       "      <th>Gender_Male</th>\n",
       "    </tr>\n",
       "  </thead>\n",
       "  <tbody>\n",
       "    <tr>\n",
       "      <th>5130</th>\n",
       "      <td>691</td>\n",
       "      <td>38</td>\n",
       "      <td>9</td>\n",
       "      <td>163965.69</td>\n",
       "      <td>2</td>\n",
       "      <td>0</td>\n",
       "      <td>1</td>\n",
       "      <td>103511.26</td>\n",
       "      <td>0</td>\n",
       "      <td>1</td>\n",
       "      <td>0</td>\n",
       "      <td>1</td>\n",
       "    </tr>\n",
       "    <tr>\n",
       "      <th>9990</th>\n",
       "      <td>714</td>\n",
       "      <td>33</td>\n",
       "      <td>3</td>\n",
       "      <td>35016.60</td>\n",
       "      <td>1</td>\n",
       "      <td>1</td>\n",
       "      <td>0</td>\n",
       "      <td>53667.08</td>\n",
       "      <td>0</td>\n",
       "      <td>1</td>\n",
       "      <td>0</td>\n",
       "      <td>1</td>\n",
       "    </tr>\n",
       "    <tr>\n",
       "      <th>3803</th>\n",
       "      <td>850</td>\n",
       "      <td>51</td>\n",
       "      <td>4</td>\n",
       "      <td>124425.99</td>\n",
       "      <td>1</td>\n",
       "      <td>0</td>\n",
       "      <td>0</td>\n",
       "      <td>118545.49</td>\n",
       "      <td>1</td>\n",
       "      <td>1</td>\n",
       "      <td>0</td>\n",
       "      <td>1</td>\n",
       "    </tr>\n",
       "    <tr>\n",
       "      <th>2438</th>\n",
       "      <td>628</td>\n",
       "      <td>61</td>\n",
       "      <td>1</td>\n",
       "      <td>97361.66</td>\n",
       "      <td>1</td>\n",
       "      <td>1</td>\n",
       "      <td>1</td>\n",
       "      <td>149922.38</td>\n",
       "      <td>1</td>\n",
       "      <td>1</td>\n",
       "      <td>0</td>\n",
       "      <td>0</td>\n",
       "    </tr>\n",
       "    <tr>\n",
       "      <th>4658</th>\n",
       "      <td>700</td>\n",
       "      <td>28</td>\n",
       "      <td>8</td>\n",
       "      <td>159900.38</td>\n",
       "      <td>1</td>\n",
       "      <td>0</td>\n",
       "      <td>0</td>\n",
       "      <td>22698.56</td>\n",
       "      <td>0</td>\n",
       "      <td>0</td>\n",
       "      <td>1</td>\n",
       "      <td>1</td>\n",
       "    </tr>\n",
       "  </tbody>\n",
       "</table>\n",
       "</div>"
      ],
      "text/plain": [
       "      CreditScore  Age  Tenure    Balance  NumOfProducts  HasCrCard  \\\n",
       "5130          691   38       9  163965.69              2          0   \n",
       "9990          714   33       3   35016.60              1          1   \n",
       "3803          850   51       4  124425.99              1          0   \n",
       "2438          628   61       1   97361.66              1          1   \n",
       "4658          700   28       8  159900.38              1          0   \n",
       "\n",
       "      IsActiveMember  EstimatedSalary  Exited  Geography_Germany  \\\n",
       "5130               1        103511.26       0                  1   \n",
       "9990               0         53667.08       0                  1   \n",
       "3803               0        118545.49       1                  1   \n",
       "2438               1        149922.38       1                  1   \n",
       "4658               0         22698.56       0                  0   \n",
       "\n",
       "      Geography_Spain  Gender_Male  \n",
       "5130                0            1  \n",
       "9990                0            1  \n",
       "3803                0            1  \n",
       "2438                0            0  \n",
       "4658                1            1  "
      ]
     },
     "execution_count": 10,
     "metadata": {},
     "output_type": "execute_result"
    }
   ],
   "source": [
    "df.sample(5)"
   ]
  },
  {
   "cell_type": "code",
   "execution_count": 11,
   "id": "04377f7d",
   "metadata": {
    "execution": {
     "iopub.execute_input": "2025-08-04T06:38:44.328892Z",
     "iopub.status.busy": "2025-08-04T06:38:44.328545Z",
     "iopub.status.idle": "2025-08-04T06:38:46.009000Z",
     "shell.execute_reply": "2025-08-04T06:38:46.007771Z"
    },
    "papermill": {
     "duration": 1.68886,
     "end_time": "2025-08-04T06:38:46.010813",
     "exception": false,
     "start_time": "2025-08-04T06:38:44.321953",
     "status": "completed"
    },
    "tags": []
   },
   "outputs": [
    {
     "name": "stdout",
     "output_type": "stream",
     "text": [
      "Dataset split into training and testing set\n"
     ]
    }
   ],
   "source": [
    "#split the dataset into training and testing set\n",
    "\n",
    "X = df.drop(columns=['Exited'])\n",
    "y = df['Exited'].values\n",
    "\n",
    "from sklearn.model_selection import train_test_split\n",
    "X_train,X_test,y_train,y_test = train_test_split(X,y,test_size=0.2,random_state=0)\n",
    "\n",
    "print(\"Dataset split into training and testing set\")"
   ]
  },
  {
   "cell_type": "code",
   "execution_count": 12,
   "id": "8caf6b08",
   "metadata": {
    "execution": {
     "iopub.execute_input": "2025-08-04T06:38:46.023506Z",
     "iopub.status.busy": "2025-08-04T06:38:46.022790Z",
     "iopub.status.idle": "2025-08-04T06:38:46.073163Z",
     "shell.execute_reply": "2025-08-04T06:38:46.072171Z"
    },
    "papermill": {
     "duration": 0.058441,
     "end_time": "2025-08-04T06:38:46.074838",
     "exception": false,
     "start_time": "2025-08-04T06:38:46.016397",
     "status": "completed"
    },
    "tags": []
   },
   "outputs": [
    {
     "data": {
      "text/plain": [
       "array([[-0.55204276, -0.36890377,  1.04473698, ...,  1.75486502,\n",
       "        -0.57369368, -1.09168714],\n",
       "       [-1.31490297,  0.10961719, -1.031415  , ..., -0.5698444 ,\n",
       "        -0.57369368, -1.09168714],\n",
       "       [ 0.57162971,  0.30102557,  1.04473698, ..., -0.5698444 ,\n",
       "         1.74309049, -1.09168714],\n",
       "       ...,\n",
       "       [-0.74791227, -0.27319958, -1.37744033, ..., -0.5698444 ,\n",
       "         1.74309049,  0.91601335],\n",
       "       [-0.00566991, -0.46460796, -0.33936434, ...,  1.75486502,\n",
       "        -0.57369368,  0.91601335],\n",
       "       [-0.79945688, -0.84742473,  1.04473698, ...,  1.75486502,\n",
       "        -0.57369368,  0.91601335]])"
      ]
     },
     "execution_count": 12,
     "metadata": {},
     "output_type": "execute_result"
    }
   ],
   "source": [
    "#transform the X values\n",
    "\n",
    "from sklearn.preprocessing import StandardScaler\n",
    "scaler = StandardScaler()\n",
    "\n",
    "X_train_trf = scaler.fit_transform(X_train)\n",
    "X_test_trf = scaler.transform(X_test)\n",
    "\n",
    "X_train_trf\n",
    "X_test_trf"
   ]
  },
  {
   "cell_type": "code",
   "execution_count": 13,
   "id": "bf9df253",
   "metadata": {
    "execution": {
     "iopub.execute_input": "2025-08-04T06:38:46.087274Z",
     "iopub.status.busy": "2025-08-04T06:38:46.086965Z",
     "iopub.status.idle": "2025-08-04T06:39:02.991023Z",
     "shell.execute_reply": "2025-08-04T06:39:02.989886Z"
    },
    "papermill": {
     "duration": 16.912481,
     "end_time": "2025-08-04T06:39:02.992906",
     "exception": false,
     "start_time": "2025-08-04T06:38:46.080425",
     "status": "completed"
    },
    "tags": []
   },
   "outputs": [
    {
     "name": "stderr",
     "output_type": "stream",
     "text": [
      "2025-08-04 06:38:48.015398: E external/local_xla/xla/stream_executor/cuda/cuda_fft.cc:477] Unable to register cuFFT factory: Attempting to register factory for plugin cuFFT when one has already been registered\n",
      "WARNING: All log messages before absl::InitializeLog() is called are written to STDERR\n",
      "E0000 00:00:1754289528.248075      13 cuda_dnn.cc:8310] Unable to register cuDNN factory: Attempting to register factory for plugin cuDNN when one has already been registered\n",
      "E0000 00:00:1754289528.317659      13 cuda_blas.cc:1418] Unable to register cuBLAS factory: Attempting to register factory for plugin cuBLAS when one has already been registered\n"
     ]
    }
   ],
   "source": [
    "import tensorflow\n",
    "from tensorflow import keras\n",
    "from tensorflow.keras import Sequential \n",
    "from tensorflow.keras.layers import Dense"
   ]
  },
  {
   "cell_type": "code",
   "execution_count": 14,
   "id": "d03af324",
   "metadata": {
    "execution": {
     "iopub.execute_input": "2025-08-04T06:39:03.006622Z",
     "iopub.status.busy": "2025-08-04T06:39:03.006009Z",
     "iopub.status.idle": "2025-08-04T06:39:03.113046Z",
     "shell.execute_reply": "2025-08-04T06:39:03.112125Z"
    },
    "papermill": {
     "duration": 0.115446,
     "end_time": "2025-08-04T06:39:03.114476",
     "exception": false,
     "start_time": "2025-08-04T06:39:02.999030",
     "status": "completed"
    },
    "tags": []
   },
   "outputs": [
    {
     "name": "stderr",
     "output_type": "stream",
     "text": [
      "/usr/local/lib/python3.11/dist-packages/keras/src/layers/core/dense.py:87: UserWarning: Do not pass an `input_shape`/`input_dim` argument to a layer. When using Sequential models, prefer using an `Input(shape)` object as the first layer in the model instead.\n",
      "  super().__init__(activity_regularizer=activity_regularizer, **kwargs)\n",
      "2025-08-04 06:39:03.017815: E external/local_xla/xla/stream_executor/cuda/cuda_driver.cc:152] failed call to cuInit: INTERNAL: CUDA error: Failed call to cuInit: UNKNOWN ERROR (303)\n"
     ]
    }
   ],
   "source": [
    "#building model architecture\n",
    "\n",
    "model = Sequential()\n",
    "\n",
    "model.add(Dense(11,activation='sigmoid',input_dim=11))\n",
    "model.add(Dense(6,activation='sigmoid'))\n",
    "model.add(Dense(3,activation='sigmoid'))\n",
    "model.add(Dense(1,activation='sigmoid'))"
   ]
  },
  {
   "cell_type": "code",
   "execution_count": 15,
   "id": "14cecda2",
   "metadata": {
    "execution": {
     "iopub.execute_input": "2025-08-04T06:39:03.127145Z",
     "iopub.status.busy": "2025-08-04T06:39:03.126813Z",
     "iopub.status.idle": "2025-08-04T06:39:03.143054Z",
     "shell.execute_reply": "2025-08-04T06:39:03.142063Z"
    },
    "papermill": {
     "duration": 0.024014,
     "end_time": "2025-08-04T06:39:03.144369",
     "exception": false,
     "start_time": "2025-08-04T06:39:03.120355",
     "status": "completed"
    },
    "tags": []
   },
   "outputs": [
    {
     "data": {
      "text/html": [
       "<pre style=\"white-space:pre;overflow-x:auto;line-height:normal;font-family:Menlo,'DejaVu Sans Mono',consolas,'Courier New',monospace\"><span style=\"font-weight: bold\">Model: \"sequential\"</span>\n",
       "</pre>\n"
      ],
      "text/plain": [
       "\u001b[1mModel: \"sequential\"\u001b[0m\n"
      ]
     },
     "metadata": {},
     "output_type": "display_data"
    },
    {
     "data": {
      "text/html": [
       "<pre style=\"white-space:pre;overflow-x:auto;line-height:normal;font-family:Menlo,'DejaVu Sans Mono',consolas,'Courier New',monospace\">┏━━━━━━━━━━━━━━━━━━━━━━━━━━━━━━━━━┳━━━━━━━━━━━━━━━━━━━━━━━━┳━━━━━━━━━━━━━━━┓\n",
       "┃<span style=\"font-weight: bold\"> Layer (type)                    </span>┃<span style=\"font-weight: bold\"> Output Shape           </span>┃<span style=\"font-weight: bold\">       Param # </span>┃\n",
       "┡━━━━━━━━━━━━━━━━━━━━━━━━━━━━━━━━━╇━━━━━━━━━━━━━━━━━━━━━━━━╇━━━━━━━━━━━━━━━┩\n",
       "│ dense (<span style=\"color: #0087ff; text-decoration-color: #0087ff\">Dense</span>)                   │ (<span style=\"color: #00d7ff; text-decoration-color: #00d7ff\">None</span>, <span style=\"color: #00af00; text-decoration-color: #00af00\">11</span>)             │           <span style=\"color: #00af00; text-decoration-color: #00af00\">132</span> │\n",
       "├─────────────────────────────────┼────────────────────────┼───────────────┤\n",
       "│ dense_1 (<span style=\"color: #0087ff; text-decoration-color: #0087ff\">Dense</span>)                 │ (<span style=\"color: #00d7ff; text-decoration-color: #00d7ff\">None</span>, <span style=\"color: #00af00; text-decoration-color: #00af00\">6</span>)              │            <span style=\"color: #00af00; text-decoration-color: #00af00\">72</span> │\n",
       "├─────────────────────────────────┼────────────────────────┼───────────────┤\n",
       "│ dense_2 (<span style=\"color: #0087ff; text-decoration-color: #0087ff\">Dense</span>)                 │ (<span style=\"color: #00d7ff; text-decoration-color: #00d7ff\">None</span>, <span style=\"color: #00af00; text-decoration-color: #00af00\">3</span>)              │            <span style=\"color: #00af00; text-decoration-color: #00af00\">21</span> │\n",
       "├─────────────────────────────────┼────────────────────────┼───────────────┤\n",
       "│ dense_3 (<span style=\"color: #0087ff; text-decoration-color: #0087ff\">Dense</span>)                 │ (<span style=\"color: #00d7ff; text-decoration-color: #00d7ff\">None</span>, <span style=\"color: #00af00; text-decoration-color: #00af00\">1</span>)              │             <span style=\"color: #00af00; text-decoration-color: #00af00\">4</span> │\n",
       "└─────────────────────────────────┴────────────────────────┴───────────────┘\n",
       "</pre>\n"
      ],
      "text/plain": [
       "┏━━━━━━━━━━━━━━━━━━━━━━━━━━━━━━━━━┳━━━━━━━━━━━━━━━━━━━━━━━━┳━━━━━━━━━━━━━━━┓\n",
       "┃\u001b[1m \u001b[0m\u001b[1mLayer (type)                   \u001b[0m\u001b[1m \u001b[0m┃\u001b[1m \u001b[0m\u001b[1mOutput Shape          \u001b[0m\u001b[1m \u001b[0m┃\u001b[1m \u001b[0m\u001b[1m      Param #\u001b[0m\u001b[1m \u001b[0m┃\n",
       "┡━━━━━━━━━━━━━━━━━━━━━━━━━━━━━━━━━╇━━━━━━━━━━━━━━━━━━━━━━━━╇━━━━━━━━━━━━━━━┩\n",
       "│ dense (\u001b[38;5;33mDense\u001b[0m)                   │ (\u001b[38;5;45mNone\u001b[0m, \u001b[38;5;34m11\u001b[0m)             │           \u001b[38;5;34m132\u001b[0m │\n",
       "├─────────────────────────────────┼────────────────────────┼───────────────┤\n",
       "│ dense_1 (\u001b[38;5;33mDense\u001b[0m)                 │ (\u001b[38;5;45mNone\u001b[0m, \u001b[38;5;34m6\u001b[0m)              │            \u001b[38;5;34m72\u001b[0m │\n",
       "├─────────────────────────────────┼────────────────────────┼───────────────┤\n",
       "│ dense_2 (\u001b[38;5;33mDense\u001b[0m)                 │ (\u001b[38;5;45mNone\u001b[0m, \u001b[38;5;34m3\u001b[0m)              │            \u001b[38;5;34m21\u001b[0m │\n",
       "├─────────────────────────────────┼────────────────────────┼───────────────┤\n",
       "│ dense_3 (\u001b[38;5;33mDense\u001b[0m)                 │ (\u001b[38;5;45mNone\u001b[0m, \u001b[38;5;34m1\u001b[0m)              │             \u001b[38;5;34m4\u001b[0m │\n",
       "└─────────────────────────────────┴────────────────────────┴───────────────┘\n"
      ]
     },
     "metadata": {},
     "output_type": "display_data"
    },
    {
     "data": {
      "text/html": [
       "<pre style=\"white-space:pre;overflow-x:auto;line-height:normal;font-family:Menlo,'DejaVu Sans Mono',consolas,'Courier New',monospace\"><span style=\"font-weight: bold\"> Total params: </span><span style=\"color: #00af00; text-decoration-color: #00af00\">229</span> (916.00 B)\n",
       "</pre>\n"
      ],
      "text/plain": [
       "\u001b[1m Total params: \u001b[0m\u001b[38;5;34m229\u001b[0m (916.00 B)\n"
      ]
     },
     "metadata": {},
     "output_type": "display_data"
    },
    {
     "data": {
      "text/html": [
       "<pre style=\"white-space:pre;overflow-x:auto;line-height:normal;font-family:Menlo,'DejaVu Sans Mono',consolas,'Courier New',monospace\"><span style=\"font-weight: bold\"> Trainable params: </span><span style=\"color: #00af00; text-decoration-color: #00af00\">229</span> (916.00 B)\n",
       "</pre>\n"
      ],
      "text/plain": [
       "\u001b[1m Trainable params: \u001b[0m\u001b[38;5;34m229\u001b[0m (916.00 B)\n"
      ]
     },
     "metadata": {},
     "output_type": "display_data"
    },
    {
     "data": {
      "text/html": [
       "<pre style=\"white-space:pre;overflow-x:auto;line-height:normal;font-family:Menlo,'DejaVu Sans Mono',consolas,'Courier New',monospace\"><span style=\"font-weight: bold\"> Non-trainable params: </span><span style=\"color: #00af00; text-decoration-color: #00af00\">0</span> (0.00 B)\n",
       "</pre>\n"
      ],
      "text/plain": [
       "\u001b[1m Non-trainable params: \u001b[0m\u001b[38;5;34m0\u001b[0m (0.00 B)\n"
      ]
     },
     "metadata": {},
     "output_type": "display_data"
    }
   ],
   "source": [
    "model.summary()"
   ]
  },
  {
   "cell_type": "code",
   "execution_count": 16,
   "id": "3c201187",
   "metadata": {
    "execution": {
     "iopub.execute_input": "2025-08-04T06:39:03.158237Z",
     "iopub.status.busy": "2025-08-04T06:39:03.157958Z",
     "iopub.status.idle": "2025-08-04T06:39:03.173182Z",
     "shell.execute_reply": "2025-08-04T06:39:03.172257Z"
    },
    "papermill": {
     "duration": 0.023874,
     "end_time": "2025-08-04T06:39:03.174811",
     "exception": false,
     "start_time": "2025-08-04T06:39:03.150937",
     "status": "completed"
    },
    "tags": []
   },
   "outputs": [],
   "source": [
    "model.compile(optimizer='Adam',loss='binary_crossentropy',metrics=['accuracy'])"
   ]
  },
  {
   "cell_type": "code",
   "execution_count": 17,
   "id": "d0efec64",
   "metadata": {
    "execution": {
     "iopub.execute_input": "2025-08-04T06:39:03.188489Z",
     "iopub.status.busy": "2025-08-04T06:39:03.188221Z",
     "iopub.status.idle": "2025-08-04T06:39:41.124487Z",
     "shell.execute_reply": "2025-08-04T06:39:41.122702Z"
    },
    "papermill": {
     "duration": 37.945887,
     "end_time": "2025-08-04T06:39:41.126998",
     "exception": false,
     "start_time": "2025-08-04T06:39:03.181111",
     "status": "completed"
    },
    "tags": []
   },
   "outputs": [
    {
     "name": "stdout",
     "output_type": "stream",
     "text": [
      "Epoch 1/100\n",
      "\u001b[1m128/128\u001b[0m \u001b[32m━━━━━━━━━━━━━━━━━━━━\u001b[0m\u001b[37m\u001b[0m \u001b[1m3s\u001b[0m 5ms/step - accuracy: 0.7856 - loss: 0.5477 - val_accuracy: 0.7969 - val_loss: 0.5073\n",
      "Epoch 2/100\n",
      "\u001b[1m128/128\u001b[0m \u001b[32m━━━━━━━━━━━━━━━━━━━━\u001b[0m\u001b[37m\u001b[0m \u001b[1m0s\u001b[0m 3ms/step - accuracy: 0.7918 - loss: 0.5106 - val_accuracy: 0.7969 - val_loss: 0.4996\n",
      "Epoch 3/100\n",
      "\u001b[1m128/128\u001b[0m \u001b[32m━━━━━━━━━━━━━━━━━━━━\u001b[0m\u001b[37m\u001b[0m \u001b[1m0s\u001b[0m 3ms/step - accuracy: 0.8038 - loss: 0.4895 - val_accuracy: 0.7969 - val_loss: 0.4934\n",
      "Epoch 4/100\n",
      "\u001b[1m128/128\u001b[0m \u001b[32m━━━━━━━━━━━━━━━━━━━━\u001b[0m\u001b[37m\u001b[0m \u001b[1m0s\u001b[0m 2ms/step - accuracy: 0.7969 - loss: 0.4914 - val_accuracy: 0.7969 - val_loss: 0.4842\n",
      "Epoch 5/100\n",
      "\u001b[1m128/128\u001b[0m \u001b[32m━━━━━━━━━━━━━━━━━━━━\u001b[0m\u001b[37m\u001b[0m \u001b[1m0s\u001b[0m 2ms/step - accuracy: 0.7937 - loss: 0.4845 - val_accuracy: 0.7969 - val_loss: 0.4723\n",
      "Epoch 6/100\n",
      "\u001b[1m128/128\u001b[0m \u001b[32m━━━━━━━━━━━━━━━━━━━━\u001b[0m\u001b[37m\u001b[0m \u001b[1m0s\u001b[0m 3ms/step - accuracy: 0.7939 - loss: 0.4705 - val_accuracy: 0.7969 - val_loss: 0.4597\n",
      "Epoch 7/100\n",
      "\u001b[1m128/128\u001b[0m \u001b[32m━━━━━━━━━━━━━━━━━━━━\u001b[0m\u001b[37m\u001b[0m \u001b[1m0s\u001b[0m 3ms/step - accuracy: 0.7973 - loss: 0.4529 - val_accuracy: 0.7969 - val_loss: 0.4487\n",
      "Epoch 8/100\n",
      "\u001b[1m128/128\u001b[0m \u001b[32m━━━━━━━━━━━━━━━━━━━━\u001b[0m\u001b[37m\u001b[0m \u001b[1m0s\u001b[0m 2ms/step - accuracy: 0.8007 - loss: 0.4389 - val_accuracy: 0.7969 - val_loss: 0.4412\n",
      "Epoch 9/100\n",
      "\u001b[1m128/128\u001b[0m \u001b[32m━━━━━━━━━━━━━━━━━━━━\u001b[0m\u001b[37m\u001b[0m \u001b[1m0s\u001b[0m 2ms/step - accuracy: 0.8023 - loss: 0.4266 - val_accuracy: 0.7969 - val_loss: 0.4366\n",
      "Epoch 10/100\n",
      "\u001b[1m128/128\u001b[0m \u001b[32m━━━━━━━━━━━━━━━━━━━━\u001b[0m\u001b[37m\u001b[0m \u001b[1m0s\u001b[0m 2ms/step - accuracy: 0.7945 - loss: 0.4359 - val_accuracy: 0.8031 - val_loss: 0.4334\n",
      "Epoch 11/100\n",
      "\u001b[1m128/128\u001b[0m \u001b[32m━━━━━━━━━━━━━━━━━━━━\u001b[0m\u001b[37m\u001b[0m \u001b[1m0s\u001b[0m 3ms/step - accuracy: 0.8008 - loss: 0.4356 - val_accuracy: 0.8112 - val_loss: 0.4312\n",
      "Epoch 12/100\n",
      "\u001b[1m128/128\u001b[0m \u001b[32m━━━━━━━━━━━━━━━━━━━━\u001b[0m\u001b[37m\u001b[0m \u001b[1m0s\u001b[0m 2ms/step - accuracy: 0.8198 - loss: 0.4196 - val_accuracy: 0.8175 - val_loss: 0.4295\n",
      "Epoch 13/100\n",
      "\u001b[1m128/128\u001b[0m \u001b[32m━━━━━━━━━━━━━━━━━━━━\u001b[0m\u001b[37m\u001b[0m \u001b[1m0s\u001b[0m 3ms/step - accuracy: 0.8147 - loss: 0.4324 - val_accuracy: 0.8181 - val_loss: 0.4280\n",
      "Epoch 14/100\n",
      "\u001b[1m128/128\u001b[0m \u001b[32m━━━━━━━━━━━━━━━━━━━━\u001b[0m\u001b[37m\u001b[0m \u001b[1m0s\u001b[0m 3ms/step - accuracy: 0.8244 - loss: 0.4125 - val_accuracy: 0.8169 - val_loss: 0.4264\n",
      "Epoch 15/100\n",
      "\u001b[1m128/128\u001b[0m \u001b[32m━━━━━━━━━━━━━━━━━━━━\u001b[0m\u001b[37m\u001b[0m \u001b[1m0s\u001b[0m 3ms/step - accuracy: 0.8138 - loss: 0.4180 - val_accuracy: 0.8194 - val_loss: 0.4248\n",
      "Epoch 16/100\n",
      "\u001b[1m128/128\u001b[0m \u001b[32m━━━━━━━━━━━━━━━━━━━━\u001b[0m\u001b[37m\u001b[0m \u001b[1m0s\u001b[0m 3ms/step - accuracy: 0.8178 - loss: 0.4220 - val_accuracy: 0.8206 - val_loss: 0.4229\n",
      "Epoch 17/100\n",
      "\u001b[1m128/128\u001b[0m \u001b[32m━━━━━━━━━━━━━━━━━━━━\u001b[0m\u001b[37m\u001b[0m \u001b[1m0s\u001b[0m 2ms/step - accuracy: 0.8209 - loss: 0.4140 - val_accuracy: 0.8238 - val_loss: 0.4213\n",
      "Epoch 18/100\n",
      "\u001b[1m128/128\u001b[0m \u001b[32m━━━━━━━━━━━━━━━━━━━━\u001b[0m\u001b[37m\u001b[0m \u001b[1m0s\u001b[0m 2ms/step - accuracy: 0.8194 - loss: 0.4261 - val_accuracy: 0.8244 - val_loss: 0.4190\n",
      "Epoch 19/100\n",
      "\u001b[1m128/128\u001b[0m \u001b[32m━━━━━━━━━━━━━━━━━━━━\u001b[0m\u001b[37m\u001b[0m \u001b[1m0s\u001b[0m 3ms/step - accuracy: 0.8230 - loss: 0.4173 - val_accuracy: 0.8263 - val_loss: 0.4169\n",
      "Epoch 20/100\n",
      "\u001b[1m128/128\u001b[0m \u001b[32m━━━━━━━━━━━━━━━━━━━━\u001b[0m\u001b[37m\u001b[0m \u001b[1m0s\u001b[0m 3ms/step - accuracy: 0.8259 - loss: 0.4170 - val_accuracy: 0.8306 - val_loss: 0.4149\n",
      "Epoch 21/100\n",
      "\u001b[1m128/128\u001b[0m \u001b[32m━━━━━━━━━━━━━━━━━━━━\u001b[0m\u001b[37m\u001b[0m \u001b[1m0s\u001b[0m 3ms/step - accuracy: 0.8258 - loss: 0.4154 - val_accuracy: 0.8306 - val_loss: 0.4128\n",
      "Epoch 22/100\n",
      "\u001b[1m128/128\u001b[0m \u001b[32m━━━━━━━━━━━━━━━━━━━━\u001b[0m\u001b[37m\u001b[0m \u001b[1m0s\u001b[0m 3ms/step - accuracy: 0.8329 - loss: 0.4109 - val_accuracy: 0.8325 - val_loss: 0.4108\n",
      "Epoch 23/100\n",
      "\u001b[1m128/128\u001b[0m \u001b[32m━━━━━━━━━━━━━━━━━━━━\u001b[0m\u001b[37m\u001b[0m \u001b[1m0s\u001b[0m 3ms/step - accuracy: 0.8278 - loss: 0.4101 - val_accuracy: 0.8363 - val_loss: 0.4088\n",
      "Epoch 24/100\n",
      "\u001b[1m128/128\u001b[0m \u001b[32m━━━━━━━━━━━━━━━━━━━━\u001b[0m\u001b[37m\u001b[0m \u001b[1m0s\u001b[0m 3ms/step - accuracy: 0.8401 - loss: 0.3944 - val_accuracy: 0.8369 - val_loss: 0.4069\n",
      "Epoch 25/100\n",
      "\u001b[1m128/128\u001b[0m \u001b[32m━━━━━━━━━━━━━━━━━━━━\u001b[0m\u001b[37m\u001b[0m \u001b[1m0s\u001b[0m 3ms/step - accuracy: 0.8439 - loss: 0.3934 - val_accuracy: 0.8375 - val_loss: 0.4048\n",
      "Epoch 26/100\n",
      "\u001b[1m128/128\u001b[0m \u001b[32m━━━━━━━━━━━━━━━━━━━━\u001b[0m\u001b[37m\u001b[0m \u001b[1m0s\u001b[0m 2ms/step - accuracy: 0.8381 - loss: 0.4024 - val_accuracy: 0.8394 - val_loss: 0.4027\n",
      "Epoch 27/100\n",
      "\u001b[1m128/128\u001b[0m \u001b[32m━━━━━━━━━━━━━━━━━━━━\u001b[0m\u001b[37m\u001b[0m \u001b[1m0s\u001b[0m 3ms/step - accuracy: 0.8350 - loss: 0.3995 - val_accuracy: 0.8381 - val_loss: 0.4007\n",
      "Epoch 28/100\n",
      "\u001b[1m128/128\u001b[0m \u001b[32m━━━━━━━━━━━━━━━━━━━━\u001b[0m\u001b[37m\u001b[0m \u001b[1m0s\u001b[0m 3ms/step - accuracy: 0.8384 - loss: 0.3949 - val_accuracy: 0.8375 - val_loss: 0.3988\n",
      "Epoch 29/100\n",
      "\u001b[1m128/128\u001b[0m \u001b[32m━━━━━━━━━━━━━━━━━━━━\u001b[0m\u001b[37m\u001b[0m \u001b[1m0s\u001b[0m 3ms/step - accuracy: 0.8323 - loss: 0.3976 - val_accuracy: 0.8400 - val_loss: 0.3966\n",
      "Epoch 30/100\n",
      "\u001b[1m128/128\u001b[0m \u001b[32m━━━━━━━━━━━━━━━━━━━━\u001b[0m\u001b[37m\u001b[0m \u001b[1m0s\u001b[0m 3ms/step - accuracy: 0.8452 - loss: 0.3810 - val_accuracy: 0.8381 - val_loss: 0.3948\n",
      "Epoch 31/100\n",
      "\u001b[1m128/128\u001b[0m \u001b[32m━━━━━━━━━━━━━━━━━━━━\u001b[0m\u001b[37m\u001b[0m \u001b[1m0s\u001b[0m 2ms/step - accuracy: 0.8391 - loss: 0.3934 - val_accuracy: 0.8413 - val_loss: 0.3924\n",
      "Epoch 32/100\n",
      "\u001b[1m128/128\u001b[0m \u001b[32m━━━━━━━━━━━━━━━━━━━━\u001b[0m\u001b[37m\u001b[0m \u001b[1m0s\u001b[0m 2ms/step - accuracy: 0.8475 - loss: 0.3854 - val_accuracy: 0.8413 - val_loss: 0.3904\n",
      "Epoch 33/100\n",
      "\u001b[1m128/128\u001b[0m \u001b[32m━━━━━━━━━━━━━━━━━━━━\u001b[0m\u001b[37m\u001b[0m \u001b[1m0s\u001b[0m 3ms/step - accuracy: 0.8459 - loss: 0.3809 - val_accuracy: 0.8438 - val_loss: 0.3885\n",
      "Epoch 34/100\n",
      "\u001b[1m128/128\u001b[0m \u001b[32m━━━━━━━━━━━━━━━━━━━━\u001b[0m\u001b[37m\u001b[0m \u001b[1m0s\u001b[0m 2ms/step - accuracy: 0.8410 - loss: 0.3826 - val_accuracy: 0.8450 - val_loss: 0.3865\n",
      "Epoch 35/100\n",
      "\u001b[1m128/128\u001b[0m \u001b[32m━━━━━━━━━━━━━━━━━━━━\u001b[0m\u001b[37m\u001b[0m \u001b[1m0s\u001b[0m 3ms/step - accuracy: 0.8477 - loss: 0.3795 - val_accuracy: 0.8456 - val_loss: 0.3849\n",
      "Epoch 36/100\n",
      "\u001b[1m128/128\u001b[0m \u001b[32m━━━━━━━━━━━━━━━━━━━━\u001b[0m\u001b[37m\u001b[0m \u001b[1m0s\u001b[0m 3ms/step - accuracy: 0.8423 - loss: 0.3814 - val_accuracy: 0.8456 - val_loss: 0.3828\n",
      "Epoch 37/100\n",
      "\u001b[1m128/128\u001b[0m \u001b[32m━━━━━━━━━━━━━━━━━━━━\u001b[0m\u001b[37m\u001b[0m \u001b[1m0s\u001b[0m 3ms/step - accuracy: 0.8553 - loss: 0.3673 - val_accuracy: 0.8475 - val_loss: 0.3814\n",
      "Epoch 38/100\n",
      "\u001b[1m128/128\u001b[0m \u001b[32m━━━━━━━━━━━━━━━━━━━━\u001b[0m\u001b[37m\u001b[0m \u001b[1m0s\u001b[0m 2ms/step - accuracy: 0.8517 - loss: 0.3688 - val_accuracy: 0.8487 - val_loss: 0.3794\n",
      "Epoch 39/100\n",
      "\u001b[1m128/128\u001b[0m \u001b[32m━━━━━━━━━━━━━━━━━━━━\u001b[0m\u001b[37m\u001b[0m \u001b[1m0s\u001b[0m 2ms/step - accuracy: 0.8535 - loss: 0.3667 - val_accuracy: 0.8506 - val_loss: 0.3788\n",
      "Epoch 40/100\n",
      "\u001b[1m128/128\u001b[0m \u001b[32m━━━━━━━━━━━━━━━━━━━━\u001b[0m\u001b[37m\u001b[0m \u001b[1m0s\u001b[0m 3ms/step - accuracy: 0.8471 - loss: 0.3729 - val_accuracy: 0.8506 - val_loss: 0.3766\n",
      "Epoch 41/100\n",
      "\u001b[1m128/128\u001b[0m \u001b[32m━━━━━━━━━━━━━━━━━━━━\u001b[0m\u001b[37m\u001b[0m \u001b[1m0s\u001b[0m 2ms/step - accuracy: 0.8440 - loss: 0.3780 - val_accuracy: 0.8506 - val_loss: 0.3760\n",
      "Epoch 42/100\n",
      "\u001b[1m128/128\u001b[0m \u001b[32m━━━━━━━━━━━━━━━━━━━━\u001b[0m\u001b[37m\u001b[0m \u001b[1m0s\u001b[0m 2ms/step - accuracy: 0.8560 - loss: 0.3626 - val_accuracy: 0.8519 - val_loss: 0.3741\n",
      "Epoch 43/100\n",
      "\u001b[1m128/128\u001b[0m \u001b[32m━━━━━━━━━━━━━━━━━━━━\u001b[0m\u001b[37m\u001b[0m \u001b[1m0s\u001b[0m 2ms/step - accuracy: 0.8585 - loss: 0.3577 - val_accuracy: 0.8562 - val_loss: 0.3731\n",
      "Epoch 44/100\n",
      "\u001b[1m128/128\u001b[0m \u001b[32m━━━━━━━━━━━━━━━━━━━━\u001b[0m\u001b[37m\u001b[0m \u001b[1m0s\u001b[0m 2ms/step - accuracy: 0.8496 - loss: 0.3649 - val_accuracy: 0.8525 - val_loss: 0.3722\n",
      "Epoch 45/100\n",
      "\u001b[1m128/128\u001b[0m \u001b[32m━━━━━━━━━━━━━━━━━━━━\u001b[0m\u001b[37m\u001b[0m \u001b[1m0s\u001b[0m 2ms/step - accuracy: 0.8598 - loss: 0.3516 - val_accuracy: 0.8531 - val_loss: 0.3712\n",
      "Epoch 46/100\n",
      "\u001b[1m128/128\u001b[0m \u001b[32m━━━━━━━━━━━━━━━━━━━━\u001b[0m\u001b[37m\u001b[0m \u001b[1m0s\u001b[0m 2ms/step - accuracy: 0.8591 - loss: 0.3577 - val_accuracy: 0.8569 - val_loss: 0.3699\n",
      "Epoch 47/100\n",
      "\u001b[1m128/128\u001b[0m \u001b[32m━━━━━━━━━━━━━━━━━━━━\u001b[0m\u001b[37m\u001b[0m \u001b[1m0s\u001b[0m 2ms/step - accuracy: 0.8611 - loss: 0.3558 - val_accuracy: 0.8512 - val_loss: 0.3697\n",
      "Epoch 48/100\n",
      "\u001b[1m128/128\u001b[0m \u001b[32m━━━━━━━━━━━━━━━━━━━━\u001b[0m\u001b[37m\u001b[0m \u001b[1m0s\u001b[0m 2ms/step - accuracy: 0.8586 - loss: 0.3566 - val_accuracy: 0.8569 - val_loss: 0.3683\n",
      "Epoch 49/100\n",
      "\u001b[1m128/128\u001b[0m \u001b[32m━━━━━━━━━━━━━━━━━━━━\u001b[0m\u001b[37m\u001b[0m \u001b[1m0s\u001b[0m 3ms/step - accuracy: 0.8601 - loss: 0.3546 - val_accuracy: 0.8562 - val_loss: 0.3675\n",
      "Epoch 50/100\n",
      "\u001b[1m128/128\u001b[0m \u001b[32m━━━━━━━━━━━━━━━━━━━━\u001b[0m\u001b[37m\u001b[0m \u001b[1m0s\u001b[0m 2ms/step - accuracy: 0.8586 - loss: 0.3521 - val_accuracy: 0.8537 - val_loss: 0.3668\n",
      "Epoch 51/100\n",
      "\u001b[1m128/128\u001b[0m \u001b[32m━━━━━━━━━━━━━━━━━━━━\u001b[0m\u001b[37m\u001b[0m \u001b[1m0s\u001b[0m 3ms/step - accuracy: 0.8614 - loss: 0.3524 - val_accuracy: 0.8544 - val_loss: 0.3665\n",
      "Epoch 52/100\n",
      "\u001b[1m128/128\u001b[0m \u001b[32m━━━━━━━━━━━━━━━━━━━━\u001b[0m\u001b[37m\u001b[0m \u001b[1m0s\u001b[0m 3ms/step - accuracy: 0.8581 - loss: 0.3623 - val_accuracy: 0.8537 - val_loss: 0.3658\n",
      "Epoch 53/100\n",
      "\u001b[1m128/128\u001b[0m \u001b[32m━━━━━━━━━━━━━━━━━━━━\u001b[0m\u001b[37m\u001b[0m \u001b[1m0s\u001b[0m 2ms/step - accuracy: 0.8584 - loss: 0.3558 - val_accuracy: 0.8525 - val_loss: 0.3653\n",
      "Epoch 54/100\n",
      "\u001b[1m128/128\u001b[0m \u001b[32m━━━━━━━━━━━━━━━━━━━━\u001b[0m\u001b[37m\u001b[0m \u001b[1m0s\u001b[0m 2ms/step - accuracy: 0.8611 - loss: 0.3450 - val_accuracy: 0.8512 - val_loss: 0.3647\n",
      "Epoch 55/100\n",
      "\u001b[1m128/128\u001b[0m \u001b[32m━━━━━━━━━━━━━━━━━━━━\u001b[0m\u001b[37m\u001b[0m \u001b[1m0s\u001b[0m 2ms/step - accuracy: 0.8572 - loss: 0.3546 - val_accuracy: 0.8512 - val_loss: 0.3654\n",
      "Epoch 56/100\n",
      "\u001b[1m128/128\u001b[0m \u001b[32m━━━━━━━━━━━━━━━━━━━━\u001b[0m\u001b[37m\u001b[0m \u001b[1m0s\u001b[0m 3ms/step - accuracy: 0.8547 - loss: 0.3538 - val_accuracy: 0.8519 - val_loss: 0.3646\n",
      "Epoch 57/100\n",
      "\u001b[1m128/128\u001b[0m \u001b[32m━━━━━━━━━━━━━━━━━━━━\u001b[0m\u001b[37m\u001b[0m \u001b[1m0s\u001b[0m 3ms/step - accuracy: 0.8580 - loss: 0.3542 - val_accuracy: 0.8544 - val_loss: 0.3634\n",
      "Epoch 58/100\n",
      "\u001b[1m128/128\u001b[0m \u001b[32m━━━━━━━━━━━━━━━━━━━━\u001b[0m\u001b[37m\u001b[0m \u001b[1m0s\u001b[0m 3ms/step - accuracy: 0.8566 - loss: 0.3577 - val_accuracy: 0.8525 - val_loss: 0.3631\n",
      "Epoch 59/100\n",
      "\u001b[1m128/128\u001b[0m \u001b[32m━━━━━━━━━━━━━━━━━━━━\u001b[0m\u001b[37m\u001b[0m \u001b[1m0s\u001b[0m 2ms/step - accuracy: 0.8532 - loss: 0.3604 - val_accuracy: 0.8537 - val_loss: 0.3637\n",
      "Epoch 60/100\n",
      "\u001b[1m128/128\u001b[0m \u001b[32m━━━━━━━━━━━━━━━━━━━━\u001b[0m\u001b[37m\u001b[0m \u001b[1m0s\u001b[0m 2ms/step - accuracy: 0.8658 - loss: 0.3402 - val_accuracy: 0.8531 - val_loss: 0.3631\n",
      "Epoch 61/100\n",
      "\u001b[1m128/128\u001b[0m \u001b[32m━━━━━━━━━━━━━━━━━━━━\u001b[0m\u001b[37m\u001b[0m \u001b[1m0s\u001b[0m 2ms/step - accuracy: 0.8676 - loss: 0.3390 - val_accuracy: 0.8500 - val_loss: 0.3617\n",
      "Epoch 62/100\n",
      "\u001b[1m128/128\u001b[0m \u001b[32m━━━━━━━━━━━━━━━━━━━━\u001b[0m\u001b[37m\u001b[0m \u001b[1m0s\u001b[0m 2ms/step - accuracy: 0.8666 - loss: 0.3374 - val_accuracy: 0.8525 - val_loss: 0.3626\n",
      "Epoch 63/100\n",
      "\u001b[1m128/128\u001b[0m \u001b[32m━━━━━━━━━━━━━━━━━━━━\u001b[0m\u001b[37m\u001b[0m \u001b[1m0s\u001b[0m 2ms/step - accuracy: 0.8526 - loss: 0.3543 - val_accuracy: 0.8537 - val_loss: 0.3621\n",
      "Epoch 64/100\n",
      "\u001b[1m128/128\u001b[0m \u001b[32m━━━━━━━━━━━━━━━━━━━━\u001b[0m\u001b[37m\u001b[0m \u001b[1m0s\u001b[0m 2ms/step - accuracy: 0.8734 - loss: 0.3248 - val_accuracy: 0.8531 - val_loss: 0.3607\n",
      "Epoch 65/100\n",
      "\u001b[1m128/128\u001b[0m \u001b[32m━━━━━━━━━━━━━━━━━━━━\u001b[0m\u001b[37m\u001b[0m \u001b[1m0s\u001b[0m 2ms/step - accuracy: 0.8591 - loss: 0.3398 - val_accuracy: 0.8537 - val_loss: 0.3607\n",
      "Epoch 66/100\n",
      "\u001b[1m128/128\u001b[0m \u001b[32m━━━━━━━━━━━━━━━━━━━━\u001b[0m\u001b[37m\u001b[0m \u001b[1m0s\u001b[0m 2ms/step - accuracy: 0.8593 - loss: 0.3463 - val_accuracy: 0.8537 - val_loss: 0.3603\n",
      "Epoch 67/100\n",
      "\u001b[1m128/128\u001b[0m \u001b[32m━━━━━━━━━━━━━━━━━━━━\u001b[0m\u001b[37m\u001b[0m \u001b[1m0s\u001b[0m 3ms/step - accuracy: 0.8622 - loss: 0.3470 - val_accuracy: 0.8512 - val_loss: 0.3606\n",
      "Epoch 68/100\n",
      "\u001b[1m128/128\u001b[0m \u001b[32m━━━━━━━━━━━━━━━━━━━━\u001b[0m\u001b[37m\u001b[0m \u001b[1m0s\u001b[0m 3ms/step - accuracy: 0.8622 - loss: 0.3400 - val_accuracy: 0.8537 - val_loss: 0.3608\n",
      "Epoch 69/100\n",
      "\u001b[1m128/128\u001b[0m \u001b[32m━━━━━━━━━━━━━━━━━━━━\u001b[0m\u001b[37m\u001b[0m \u001b[1m0s\u001b[0m 3ms/step - accuracy: 0.8671 - loss: 0.3318 - val_accuracy: 0.8531 - val_loss: 0.3602\n",
      "Epoch 70/100\n",
      "\u001b[1m128/128\u001b[0m \u001b[32m━━━━━━━━━━━━━━━━━━━━\u001b[0m\u001b[37m\u001b[0m \u001b[1m0s\u001b[0m 3ms/step - accuracy: 0.8603 - loss: 0.3499 - val_accuracy: 0.8525 - val_loss: 0.3601\n",
      "Epoch 71/100\n",
      "\u001b[1m128/128\u001b[0m \u001b[32m━━━━━━━━━━━━━━━━━━━━\u001b[0m\u001b[37m\u001b[0m \u001b[1m0s\u001b[0m 3ms/step - accuracy: 0.8667 - loss: 0.3304 - val_accuracy: 0.8537 - val_loss: 0.3591\n",
      "Epoch 72/100\n",
      "\u001b[1m128/128\u001b[0m \u001b[32m━━━━━━━━━━━━━━━━━━━━\u001b[0m\u001b[37m\u001b[0m \u001b[1m0s\u001b[0m 3ms/step - accuracy: 0.8700 - loss: 0.3247 - val_accuracy: 0.8531 - val_loss: 0.3592\n",
      "Epoch 73/100\n",
      "\u001b[1m128/128\u001b[0m \u001b[32m━━━━━━━━━━━━━━━━━━━━\u001b[0m\u001b[37m\u001b[0m \u001b[1m0s\u001b[0m 3ms/step - accuracy: 0.8655 - loss: 0.3347 - val_accuracy: 0.8550 - val_loss: 0.3590\n",
      "Epoch 74/100\n",
      "\u001b[1m128/128\u001b[0m \u001b[32m━━━━━━━━━━━━━━━━━━━━\u001b[0m\u001b[37m\u001b[0m \u001b[1m0s\u001b[0m 3ms/step - accuracy: 0.8654 - loss: 0.3409 - val_accuracy: 0.8550 - val_loss: 0.3583\n",
      "Epoch 75/100\n",
      "\u001b[1m128/128\u001b[0m \u001b[32m━━━━━━━━━━━━━━━━━━━━\u001b[0m\u001b[37m\u001b[0m \u001b[1m0s\u001b[0m 3ms/step - accuracy: 0.8734 - loss: 0.3244 - val_accuracy: 0.8544 - val_loss: 0.3581\n",
      "Epoch 76/100\n",
      "\u001b[1m128/128\u001b[0m \u001b[32m━━━━━━━━━━━━━━━━━━━━\u001b[0m\u001b[37m\u001b[0m \u001b[1m0s\u001b[0m 3ms/step - accuracy: 0.8647 - loss: 0.3252 - val_accuracy: 0.8519 - val_loss: 0.3581\n",
      "Epoch 77/100\n",
      "\u001b[1m128/128\u001b[0m \u001b[32m━━━━━━━━━━━━━━━━━━━━\u001b[0m\u001b[37m\u001b[0m \u001b[1m0s\u001b[0m 3ms/step - accuracy: 0.8585 - loss: 0.3497 - val_accuracy: 0.8544 - val_loss: 0.3613\n",
      "Epoch 78/100\n",
      "\u001b[1m128/128\u001b[0m \u001b[32m━━━━━━━━━━━━━━━━━━━━\u001b[0m\u001b[37m\u001b[0m \u001b[1m0s\u001b[0m 3ms/step - accuracy: 0.8596 - loss: 0.3422 - val_accuracy: 0.8519 - val_loss: 0.3576\n",
      "Epoch 79/100\n",
      "\u001b[1m128/128\u001b[0m \u001b[32m━━━━━━━━━━━━━━━━━━━━\u001b[0m\u001b[37m\u001b[0m \u001b[1m0s\u001b[0m 3ms/step - accuracy: 0.8719 - loss: 0.3281 - val_accuracy: 0.8562 - val_loss: 0.3579\n",
      "Epoch 80/100\n",
      "\u001b[1m128/128\u001b[0m \u001b[32m━━━━━━━━━━━━━━━━━━━━\u001b[0m\u001b[37m\u001b[0m \u001b[1m0s\u001b[0m 3ms/step - accuracy: 0.8585 - loss: 0.3480 - val_accuracy: 0.8544 - val_loss: 0.3598\n",
      "Epoch 81/100\n",
      "\u001b[1m128/128\u001b[0m \u001b[32m━━━━━━━━━━━━━━━━━━━━\u001b[0m\u001b[37m\u001b[0m \u001b[1m0s\u001b[0m 3ms/step - accuracy: 0.8616 - loss: 0.3423 - val_accuracy: 0.8562 - val_loss: 0.3569\n",
      "Epoch 82/100\n",
      "\u001b[1m128/128\u001b[0m \u001b[32m━━━━━━━━━━━━━━━━━━━━\u001b[0m\u001b[37m\u001b[0m \u001b[1m0s\u001b[0m 3ms/step - accuracy: 0.8685 - loss: 0.3272 - val_accuracy: 0.8537 - val_loss: 0.3574\n",
      "Epoch 83/100\n",
      "\u001b[1m128/128\u001b[0m \u001b[32m━━━━━━━━━━━━━━━━━━━━\u001b[0m\u001b[37m\u001b[0m \u001b[1m0s\u001b[0m 3ms/step - accuracy: 0.8661 - loss: 0.3299 - val_accuracy: 0.8550 - val_loss: 0.3566\n",
      "Epoch 84/100\n",
      "\u001b[1m128/128\u001b[0m \u001b[32m━━━━━━━━━━━━━━━━━━━━\u001b[0m\u001b[37m\u001b[0m \u001b[1m0s\u001b[0m 3ms/step - accuracy: 0.8661 - loss: 0.3381 - val_accuracy: 0.8562 - val_loss: 0.3571\n",
      "Epoch 85/100\n",
      "\u001b[1m128/128\u001b[0m \u001b[32m━━━━━━━━━━━━━━━━━━━━\u001b[0m\u001b[37m\u001b[0m \u001b[1m0s\u001b[0m 3ms/step - accuracy: 0.8705 - loss: 0.3272 - val_accuracy: 0.8537 - val_loss: 0.3569\n",
      "Epoch 86/100\n",
      "\u001b[1m128/128\u001b[0m \u001b[32m━━━━━━━━━━━━━━━━━━━━\u001b[0m\u001b[37m\u001b[0m \u001b[1m0s\u001b[0m 3ms/step - accuracy: 0.8638 - loss: 0.3356 - val_accuracy: 0.8550 - val_loss: 0.3561\n",
      "Epoch 87/100\n",
      "\u001b[1m128/128\u001b[0m \u001b[32m━━━━━━━━━━━━━━━━━━━━\u001b[0m\u001b[37m\u001b[0m \u001b[1m0s\u001b[0m 3ms/step - accuracy: 0.8702 - loss: 0.3164 - val_accuracy: 0.8537 - val_loss: 0.3562\n",
      "Epoch 88/100\n",
      "\u001b[1m128/128\u001b[0m \u001b[32m━━━━━━━━━━━━━━━━━━━━\u001b[0m\u001b[37m\u001b[0m \u001b[1m0s\u001b[0m 3ms/step - accuracy: 0.8668 - loss: 0.3357 - val_accuracy: 0.8537 - val_loss: 0.3562\n",
      "Epoch 89/100\n",
      "\u001b[1m128/128\u001b[0m \u001b[32m━━━━━━━━━━━━━━━━━━━━\u001b[0m\u001b[37m\u001b[0m \u001b[1m0s\u001b[0m 2ms/step - accuracy: 0.8608 - loss: 0.3379 - val_accuracy: 0.8562 - val_loss: 0.3556\n",
      "Epoch 90/100\n",
      "\u001b[1m128/128\u001b[0m \u001b[32m━━━━━━━━━━━━━━━━━━━━\u001b[0m\u001b[37m\u001b[0m \u001b[1m0s\u001b[0m 3ms/step - accuracy: 0.8580 - loss: 0.3370 - val_accuracy: 0.8550 - val_loss: 0.3553\n",
      "Epoch 91/100\n",
      "\u001b[1m128/128\u001b[0m \u001b[32m━━━━━━━━━━━━━━━━━━━━\u001b[0m\u001b[37m\u001b[0m \u001b[1m0s\u001b[0m 3ms/step - accuracy: 0.8745 - loss: 0.3243 - val_accuracy: 0.8556 - val_loss: 0.3557\n",
      "Epoch 92/100\n",
      "\u001b[1m128/128\u001b[0m \u001b[32m━━━━━━━━━━━━━━━━━━━━\u001b[0m\u001b[37m\u001b[0m \u001b[1m0s\u001b[0m 3ms/step - accuracy: 0.8625 - loss: 0.3447 - val_accuracy: 0.8544 - val_loss: 0.3552\n",
      "Epoch 93/100\n",
      "\u001b[1m128/128\u001b[0m \u001b[32m━━━━━━━━━━━━━━━━━━━━\u001b[0m\u001b[37m\u001b[0m \u001b[1m0s\u001b[0m 3ms/step - accuracy: 0.8617 - loss: 0.3389 - val_accuracy: 0.8569 - val_loss: 0.3552\n",
      "Epoch 94/100\n",
      "\u001b[1m128/128\u001b[0m \u001b[32m━━━━━━━━━━━━━━━━━━━━\u001b[0m\u001b[37m\u001b[0m \u001b[1m0s\u001b[0m 3ms/step - accuracy: 0.8623 - loss: 0.3389 - val_accuracy: 0.8556 - val_loss: 0.3548\n",
      "Epoch 95/100\n",
      "\u001b[1m128/128\u001b[0m \u001b[32m━━━━━━━━━━━━━━━━━━━━\u001b[0m\u001b[37m\u001b[0m \u001b[1m0s\u001b[0m 3ms/step - accuracy: 0.8695 - loss: 0.3276 - val_accuracy: 0.8544 - val_loss: 0.3549\n",
      "Epoch 96/100\n",
      "\u001b[1m128/128\u001b[0m \u001b[32m━━━━━━━━━━━━━━━━━━━━\u001b[0m\u001b[37m\u001b[0m \u001b[1m0s\u001b[0m 3ms/step - accuracy: 0.8753 - loss: 0.3150 - val_accuracy: 0.8550 - val_loss: 0.3549\n",
      "Epoch 97/100\n",
      "\u001b[1m128/128\u001b[0m \u001b[32m━━━━━━━━━━━━━━━━━━━━\u001b[0m\u001b[37m\u001b[0m \u001b[1m0s\u001b[0m 3ms/step - accuracy: 0.8638 - loss: 0.3277 - val_accuracy: 0.8544 - val_loss: 0.3562\n",
      "Epoch 98/100\n",
      "\u001b[1m128/128\u001b[0m \u001b[32m━━━━━━━━━━━━━━━━━━━━\u001b[0m\u001b[37m\u001b[0m \u001b[1m0s\u001b[0m 3ms/step - accuracy: 0.8681 - loss: 0.3318 - val_accuracy: 0.8537 - val_loss: 0.3544\n",
      "Epoch 99/100\n",
      "\u001b[1m128/128\u001b[0m \u001b[32m━━━━━━━━━━━━━━━━━━━━\u001b[0m\u001b[37m\u001b[0m \u001b[1m0s\u001b[0m 3ms/step - accuracy: 0.8688 - loss: 0.3204 - val_accuracy: 0.8562 - val_loss: 0.3545\n",
      "Epoch 100/100\n",
      "\u001b[1m128/128\u001b[0m \u001b[32m━━━━━━━━━━━━━━━━━━━━\u001b[0m\u001b[37m\u001b[0m \u001b[1m0s\u001b[0m 3ms/step - accuracy: 0.8748 - loss: 0.3167 - val_accuracy: 0.8556 - val_loss: 0.3540\n"
     ]
    }
   ],
   "source": [
    "model_history = model.fit(X_train_trf,y_train,batch_size=50,epochs=100,verbose=1,validation_split=0.2)"
   ]
  },
  {
   "cell_type": "code",
   "execution_count": 18,
   "id": "20be3cb9",
   "metadata": {
    "execution": {
     "iopub.execute_input": "2025-08-04T06:39:41.209494Z",
     "iopub.status.busy": "2025-08-04T06:39:41.209162Z",
     "iopub.status.idle": "2025-08-04T06:39:41.220136Z",
     "shell.execute_reply": "2025-08-04T06:39:41.219013Z"
    },
    "papermill": {
     "duration": 0.054525,
     "end_time": "2025-08-04T06:39:41.222413",
     "exception": false,
     "start_time": "2025-08-04T06:39:41.167888",
     "status": "completed"
    },
    "tags": []
   },
   "outputs": [
    {
     "data": {
      "text/plain": [
       "[array([[-2.92002439e-01,  2.34207317e-01, -2.27516919e-01,\n",
       "          4.00668532e-01,  6.39911965e-02, -4.76283953e-02,\n",
       "          3.07009388e-02, -1.76943719e-01, -1.18143126e-01,\n",
       "         -7.26274699e-02, -8.39990079e-02],\n",
       "        [ 5.52720502e-02, -1.50980330e+00, -2.60995865e-01,\n",
       "          9.83466506e-02,  8.75353336e-01,  1.53424132e+00,\n",
       "          5.10036170e-01,  1.41739696e-01,  9.19408679e-01,\n",
       "         -3.83565933e-01,  1.15174305e+00],\n",
       "        [-8.16024616e-02, -1.48952395e-01,  2.44711921e-01,\n",
       "          3.36198390e-01,  1.28023084e-02, -3.50680143e-01,\n",
       "         -1.81439444e-02, -3.60116094e-01,  6.92515597e-02,\n",
       "         -1.02592595e-01,  2.11844102e-01],\n",
       "        [-8.66161942e-01, -1.68391794e-01, -7.79270053e-01,\n",
       "         -1.34480500e+00, -9.82028693e-02,  1.74409121e-01,\n",
       "          1.63104391e+00, -4.17064905e-01,  4.00179714e-01,\n",
       "         -7.86484480e-01, -1.34223014e-01],\n",
       "        [-8.19757819e-01, -7.18538046e-01, -4.60571796e-01,\n",
       "         -8.51207137e-01,  3.31403685e+00,  8.62954497e-01,\n",
       "          2.18199348e+00, -7.05473721e-01,  3.36941624e+00,\n",
       "          1.12765360e+00,  6.94989026e-01],\n",
       "        [-9.21125412e-02, -1.87166497e-01, -1.73446417e-01,\n",
       "          1.10573180e-01,  6.04939461e-01, -1.32430598e-01,\n",
       "          3.45288627e-02, -2.08563715e-01, -3.76147516e-02,\n",
       "         -1.73000380e-01,  1.07861660e-01],\n",
       "        [ 4.44767654e-01, -8.51972938e-01,  2.04426274e-01,\n",
       "          3.67095560e-01,  4.34731603e-01,  8.20942581e-01,\n",
       "         -4.79138382e-02,  1.40877783e+00,  3.60785365e-01,\n",
       "         -6.62394822e-01,  4.89425629e-01],\n",
       "        [-7.07534328e-02, -2.76990443e-01, -2.72359997e-01,\n",
       "         -4.36177462e-01,  2.39644676e-01,  9.73408446e-02,\n",
       "          1.60812382e-02,  4.22142625e-01, -1.32238224e-01,\n",
       "          1.14497662e-01, -3.16216320e-01],\n",
       "        [-5.24924874e-01, -1.25247249e-02, -5.60356319e-01,\n",
       "         -7.53890574e-01,  7.94732332e-01, -1.22322172e-01,\n",
       "         -8.46747756e-01,  2.13589057e-01, -2.82841735e-04,\n",
       "         -3.54022533e-01,  1.58466414e-01],\n",
       "        [-1.20761737e-01,  5.83236665e-02,  3.00828964e-01,\n",
       "          9.70418081e-02, -9.50339437e-02, -2.99650788e-01,\n",
       "          7.66565278e-02, -8.18700641e-02,  2.77117252e-01,\n",
       "          2.39416391e-01,  4.04613078e-01],\n",
       "        [ 1.53572664e-01, -4.95478868e-01,  6.95055962e-01,\n",
       "          3.82670045e-01, -2.54888684e-01,  1.22041360e-01,\n",
       "         -1.51382804e-01,  7.09669411e-01, -8.85864571e-02,\n",
       "          4.47684616e-01, -4.94994372e-01]], dtype=float32),\n",
       " array([ 0.18084243, -0.364554  , -0.43704155, -0.07201766,  0.60477597,\n",
       "        -0.1851073 ,  1.7593716 , -0.35835692,  1.0426437 ,  0.07902706,\n",
       "         0.5226345 ], dtype=float32)]"
      ]
     },
     "execution_count": 18,
     "metadata": {},
     "output_type": "execute_result"
    }
   ],
   "source": [
    "model.layers[0].get_weights()"
   ]
  },
  {
   "cell_type": "code",
   "execution_count": 19,
   "id": "870c3899",
   "metadata": {
    "execution": {
     "iopub.execute_input": "2025-08-04T06:39:41.373547Z",
     "iopub.status.busy": "2025-08-04T06:39:41.373236Z",
     "iopub.status.idle": "2025-08-04T06:39:41.382654Z",
     "shell.execute_reply": "2025-08-04T06:39:41.381643Z"
    },
    "papermill": {
     "duration": 0.121251,
     "end_time": "2025-08-04T06:39:41.384341",
     "exception": false,
     "start_time": "2025-08-04T06:39:41.263090",
     "status": "completed"
    },
    "tags": []
   },
   "outputs": [
    {
     "data": {
      "text/plain": [
       "[array([[-0.27429068, -0.8519223 ,  0.5240091 ,  0.01261557,  0.8745606 ,\n",
       "          0.6990312 ],\n",
       "        [-0.7635556 ,  0.09378074,  0.6973339 ,  0.83940226,  0.5026595 ,\n",
       "          1.0279089 ],\n",
       "        [-0.06375228, -0.4460137 , -0.05988098,  0.42564547,  0.08553302,\n",
       "          0.15700412],\n",
       "        [-0.693215  , -0.7502064 ,  0.19199103,  0.54761565,  0.42573974,\n",
       "          0.6805665 ],\n",
       "        [-0.28521284, -0.23030664,  0.8967961 ,  0.97097945,  0.6757808 ,\n",
       "          0.7605935 ],\n",
       "        [ 1.1060741 ,  1.1885787 , -1.4737886 , -1.2276696 , -1.3312993 ,\n",
       "         -1.1480402 ],\n",
       "        [-0.9148294 , -0.73797315,  0.9833023 ,  0.33577326,  0.23781791,\n",
       "          0.00919677],\n",
       "        [-1.097918  , -0.372035  ,  0.26164496,  1.1436777 ,  1.1484036 ,\n",
       "          0.94546753],\n",
       "        [-1.3139093 , -1.7269074 ,  1.6264678 ,  0.75075376,  1.399859  ,\n",
       "          1.4285231 ],\n",
       "        [ 1.1033868 ,  1.2284963 , -0.91902906, -0.85256463, -0.88067853,\n",
       "         -1.0601556 ],\n",
       "        [ 0.78799194,  1.3678465 , -1.23308   , -0.8467869 , -0.99472797,\n",
       "         -0.95967877]], dtype=float32),\n",
       " array([ 0.77117723,  0.4552745 , -0.30008337, -0.2966301 , -0.5599285 ,\n",
       "        -0.473403  ], dtype=float32)]"
      ]
     },
     "execution_count": 19,
     "metadata": {},
     "output_type": "execute_result"
    }
   ],
   "source": [
    "model.layers[1].get_weights()"
   ]
  },
  {
   "cell_type": "code",
   "execution_count": 20,
   "id": "678a1f37",
   "metadata": {
    "execution": {
     "iopub.execute_input": "2025-08-04T06:39:41.466584Z",
     "iopub.status.busy": "2025-08-04T06:39:41.466243Z",
     "iopub.status.idle": "2025-08-04T06:39:41.475657Z",
     "shell.execute_reply": "2025-08-04T06:39:41.474747Z"
    },
    "papermill": {
     "duration": 0.052644,
     "end_time": "2025-08-04T06:39:41.477405",
     "exception": false,
     "start_time": "2025-08-04T06:39:41.424761",
     "status": "completed"
    },
    "tags": []
   },
   "outputs": [
    {
     "data": {
      "text/plain": [
       "[array([[ 1.727245  , -2.412121  , -2.2255318 ],\n",
       "        [ 2.3145542 , -2.2906656 , -2.1484556 ],\n",
       "        [-1.6880139 ,  1.515875  ,  0.29928994],\n",
       "        [-0.24978296,  1.3876636 ,  1.2916679 ],\n",
       "        [-1.2501346 ,  0.33823097,  1.6480283 ],\n",
       "        [-1.3501036 ,  1.2694403 ,  1.2651677 ]], dtype=float32),\n",
       " array([ 0.61853486, -0.23101595, -0.3771284 ], dtype=float32)]"
      ]
     },
     "execution_count": 20,
     "metadata": {},
     "output_type": "execute_result"
    }
   ],
   "source": [
    "model.layers[2].get_weights()"
   ]
  },
  {
   "cell_type": "code",
   "execution_count": 21,
   "id": "670f4719",
   "metadata": {
    "execution": {
     "iopub.execute_input": "2025-08-04T06:39:41.560642Z",
     "iopub.status.busy": "2025-08-04T06:39:41.560293Z",
     "iopub.status.idle": "2025-08-04T06:39:41.876148Z",
     "shell.execute_reply": "2025-08-04T06:39:41.875220Z"
    },
    "papermill": {
     "duration": 0.358276,
     "end_time": "2025-08-04T06:39:41.877684",
     "exception": false,
     "start_time": "2025-08-04T06:39:41.519408",
     "status": "completed"
    },
    "tags": []
   },
   "outputs": [
    {
     "name": "stdout",
     "output_type": "stream",
     "text": [
      "\u001b[1m63/63\u001b[0m \u001b[32m━━━━━━━━━━━━━━━━━━━━\u001b[0m\u001b[37m\u001b[0m \u001b[1m0s\u001b[0m 2ms/step\n"
     ]
    }
   ],
   "source": [
    "y_pred = model.predict(X_test_trf)"
   ]
  },
  {
   "cell_type": "code",
   "execution_count": 22,
   "id": "32c18b9f",
   "metadata": {
    "execution": {
     "iopub.execute_input": "2025-08-04T06:39:41.962039Z",
     "iopub.status.busy": "2025-08-04T06:39:41.961691Z",
     "iopub.status.idle": "2025-08-04T06:39:41.966772Z",
     "shell.execute_reply": "2025-08-04T06:39:41.965873Z"
    },
    "papermill": {
     "duration": 0.048368,
     "end_time": "2025-08-04T06:39:41.968375",
     "exception": false,
     "start_time": "2025-08-04T06:39:41.920007",
     "status": "completed"
    },
    "tags": []
   },
   "outputs": [],
   "source": [
    "y_pred_final = np.where(y_pred>0.5, 1, 0)"
   ]
  },
  {
   "cell_type": "code",
   "execution_count": 23,
   "id": "69d52978",
   "metadata": {
    "execution": {
     "iopub.execute_input": "2025-08-04T06:39:42.054785Z",
     "iopub.status.busy": "2025-08-04T06:39:42.054236Z",
     "iopub.status.idle": "2025-08-04T06:39:42.059982Z",
     "shell.execute_reply": "2025-08-04T06:39:42.059242Z"
    },
    "papermill": {
     "duration": 0.050207,
     "end_time": "2025-08-04T06:39:42.061271",
     "exception": false,
     "start_time": "2025-08-04T06:39:42.011064",
     "status": "completed"
    },
    "tags": []
   },
   "outputs": [
    {
     "data": {
      "text/plain": [
       "array([[0],\n",
       "       [0],\n",
       "       [0],\n",
       "       ...,\n",
       "       [0],\n",
       "       [0],\n",
       "       [0]])"
      ]
     },
     "execution_count": 23,
     "metadata": {},
     "output_type": "execute_result"
    }
   ],
   "source": [
    "y_pred_final"
   ]
  },
  {
   "cell_type": "code",
   "execution_count": 24,
   "id": "754e5241",
   "metadata": {
    "execution": {
     "iopub.execute_input": "2025-08-04T06:39:42.145072Z",
     "iopub.status.busy": "2025-08-04T06:39:42.144757Z",
     "iopub.status.idle": "2025-08-04T06:39:42.151093Z",
     "shell.execute_reply": "2025-08-04T06:39:42.149963Z"
    },
    "papermill": {
     "duration": 0.050472,
     "end_time": "2025-08-04T06:39:42.152720",
     "exception": false,
     "start_time": "2025-08-04T06:39:42.102248",
     "status": "completed"
    },
    "tags": []
   },
   "outputs": [
    {
     "name": "stdout",
     "output_type": "stream",
     "text": [
      "Accuracy Score: 0.861\n"
     ]
    }
   ],
   "source": [
    "from sklearn.metrics import accuracy_score\n",
    "print(f\"Accuracy Score: {accuracy_score(y_test,y_pred_final)}\")"
   ]
  },
  {
   "cell_type": "code",
   "execution_count": 25,
   "id": "32f0695c",
   "metadata": {
    "execution": {
     "iopub.execute_input": "2025-08-04T06:39:42.238328Z",
     "iopub.status.busy": "2025-08-04T06:39:42.238041Z",
     "iopub.status.idle": "2025-08-04T06:39:42.246111Z",
     "shell.execute_reply": "2025-08-04T06:39:42.245301Z"
    },
    "papermill": {
     "duration": 0.05306,
     "end_time": "2025-08-04T06:39:42.247532",
     "exception": false,
     "start_time": "2025-08-04T06:39:42.194472",
     "status": "completed"
    },
    "tags": []
   },
   "outputs": [
    {
     "data": {
      "text/plain": [
       "{'accuracy': [0.7957812547683716,\n",
       "  0.7957812547683716,\n",
       "  0.7957812547683716,\n",
       "  0.7957812547683716,\n",
       "  0.7957812547683716,\n",
       "  0.7957812547683716,\n",
       "  0.7957812547683716,\n",
       "  0.7957812547683716,\n",
       "  0.7957812547683716,\n",
       "  0.7985937595367432,\n",
       "  0.8096874952316284,\n",
       "  0.8135937452316284,\n",
       "  0.8168749809265137,\n",
       "  0.8199999928474426,\n",
       "  0.8203125,\n",
       "  0.821093738079071,\n",
       "  0.8221874833106995,\n",
       "  0.8239062428474426,\n",
       "  0.8256250023841858,\n",
       "  0.828125,\n",
       "  0.8296874761581421,\n",
       "  0.8343750238418579,\n",
       "  0.8314062356948853,\n",
       "  0.8337500095367432,\n",
       "  0.8357812762260437,\n",
       "  0.8373437523841858,\n",
       "  0.8382812738418579,\n",
       "  0.8387500047683716,\n",
       "  0.8396875262260437,\n",
       "  0.8407812714576721,\n",
       "  0.8410937786102295,\n",
       "  0.8431249856948853,\n",
       "  0.84375,\n",
       "  0.8450000286102295,\n",
       "  0.8453124761581421,\n",
       "  0.8460937738418579,\n",
       "  0.8495312333106995,\n",
       "  0.8504687547683716,\n",
       "  0.8501562476158142,\n",
       "  0.850781261920929,\n",
       "  0.8510937690734863,\n",
       "  0.8517187237739563,\n",
       "  0.8553125262260437,\n",
       "  0.8542187213897705,\n",
       "  0.8565624952316284,\n",
       "  0.856249988079071,\n",
       "  0.8579687476158142,\n",
       "  0.8576562404632568,\n",
       "  0.8590624928474426,\n",
       "  0.859375,\n",
       "  0.8603125214576721,\n",
       "  0.860156238079071,\n",
       "  0.8607812523841858,\n",
       "  0.8621875047683716,\n",
       "  0.8600000143051147,\n",
       "  0.8623437285423279,\n",
       "  0.8621875047683716,\n",
       "  0.8621875047683716,\n",
       "  0.8628125190734863,\n",
       "  0.8628125190734863,\n",
       "  0.8621875047683716,\n",
       "  0.8643749952316284,\n",
       "  0.8607812523841858,\n",
       "  0.86328125,\n",
       "  0.8631250262260437,\n",
       "  0.8628125190734863,\n",
       "  0.8629687428474426,\n",
       "  0.8629687428474426,\n",
       "  0.8642187714576721,\n",
       "  0.8631250262260437,\n",
       "  0.864062488079071,\n",
       "  0.86328125,\n",
       "  0.8639062643051147,\n",
       "  0.8639062643051147,\n",
       "  0.8646875023841858,\n",
       "  0.864062488079071,\n",
       "  0.8657812476158142,\n",
       "  0.8639062643051147,\n",
       "  0.8656250238418579,\n",
       "  0.8659374713897705,\n",
       "  0.8654687404632568,\n",
       "  0.8651562333106995,\n",
       "  0.8643749952316284,\n",
       "  0.8645312786102295,\n",
       "  0.8651562333106995,\n",
       "  0.8654687404632568,\n",
       "  0.8659374713897705,\n",
       "  0.8665624856948853,\n",
       "  0.8659374713897705,\n",
       "  0.8639062643051147,\n",
       "  0.8667187690734863,\n",
       "  0.8654687404632568,\n",
       "  0.8659374713897705,\n",
       "  0.8653125166893005,\n",
       "  0.8668749928474426,\n",
       "  0.8648437261581421,\n",
       "  0.8667187690734863,\n",
       "  0.8673437237739563,\n",
       "  0.8656250238418579,\n",
       "  0.8657812476158142],\n",
       " 'loss': [0.5260973572731018,\n",
       "  0.5041345357894897,\n",
       "  0.4981788694858551,\n",
       "  0.4904102385044098,\n",
       "  0.4795278310775757,\n",
       "  0.4661821722984314,\n",
       "  0.45298248529434204,\n",
       "  0.442626416683197,\n",
       "  0.43557944893836975,\n",
       "  0.4308745861053467,\n",
       "  0.4277559220790863,\n",
       "  0.4257560968399048,\n",
       "  0.4238845705986023,\n",
       "  0.42236465215682983,\n",
       "  0.4209008514881134,\n",
       "  0.4191736876964569,\n",
       "  0.4174046814441681,\n",
       "  0.41560012102127075,\n",
       "  0.41380515694618225,\n",
       "  0.4117347300052643,\n",
       "  0.409855455160141,\n",
       "  0.4078187048435211,\n",
       "  0.40586188435554504,\n",
       "  0.40360477566719055,\n",
       "  0.4016325771808624,\n",
       "  0.39953792095184326,\n",
       "  0.3973325490951538,\n",
       "  0.395046591758728,\n",
       "  0.39263150095939636,\n",
       "  0.39018768072128296,\n",
       "  0.3878461718559265,\n",
       "  0.38548895716667175,\n",
       "  0.38294368982315063,\n",
       "  0.38089627027511597,\n",
       "  0.3783717453479767,\n",
       "  0.3761885166168213,\n",
       "  0.3742743730545044,\n",
       "  0.37206748127937317,\n",
       "  0.3697686493396759,\n",
       "  0.3683716654777527,\n",
       "  0.36636266112327576,\n",
       "  0.3646940588951111,\n",
       "  0.3629554510116577,\n",
       "  0.3613985776901245,\n",
       "  0.3598097860813141,\n",
       "  0.3587867021560669,\n",
       "  0.3571450114250183,\n",
       "  0.35622599720954895,\n",
       "  0.3546837866306305,\n",
       "  0.3538149297237396,\n",
       "  0.35250335931777954,\n",
       "  0.35156184434890747,\n",
       "  0.3507314920425415,\n",
       "  0.3497312664985657,\n",
       "  0.34899359941482544,\n",
       "  0.34840619564056396,\n",
       "  0.347270131111145,\n",
       "  0.34638652205467224,\n",
       "  0.3459976613521576,\n",
       "  0.34502407908439636,\n",
       "  0.34469372034072876,\n",
       "  0.34370121359825134,\n",
       "  0.34359320998191833,\n",
       "  0.3427313566207886,\n",
       "  0.34218987822532654,\n",
       "  0.3414759337902069,\n",
       "  0.3409411907196045,\n",
       "  0.3403036594390869,\n",
       "  0.3399934768676758,\n",
       "  0.3392939269542694,\n",
       "  0.3387104868888855,\n",
       "  0.33814916014671326,\n",
       "  0.3377038538455963,\n",
       "  0.33751609921455383,\n",
       "  0.33650529384613037,\n",
       "  0.3367377817630768,\n",
       "  0.3362230062484741,\n",
       "  0.3363455832004547,\n",
       "  0.3350595235824585,\n",
       "  0.33484023809432983,\n",
       "  0.33474791049957275,\n",
       "  0.3344598412513733,\n",
       "  0.334233820438385,\n",
       "  0.33321642875671387,\n",
       "  0.3330604135990143,\n",
       "  0.332815021276474,\n",
       "  0.3328550457954407,\n",
       "  0.3321690857410431,\n",
       "  0.33191776275634766,\n",
       "  0.33163708448410034,\n",
       "  0.33144456148147583,\n",
       "  0.33144959807395935,\n",
       "  0.33082979917526245,\n",
       "  0.3304499089717865,\n",
       "  0.33022361993789673,\n",
       "  0.33061227202415466,\n",
       "  0.32953396439552307,\n",
       "  0.3294886648654938,\n",
       "  0.32929229736328125,\n",
       "  0.3291318416595459],\n",
       " 'val_accuracy': [0.796875,\n",
       "  0.796875,\n",
       "  0.796875,\n",
       "  0.796875,\n",
       "  0.796875,\n",
       "  0.796875,\n",
       "  0.796875,\n",
       "  0.796875,\n",
       "  0.796875,\n",
       "  0.8031250238418579,\n",
       "  0.8112499713897705,\n",
       "  0.8174999952316284,\n",
       "  0.8181250095367432,\n",
       "  0.8168749809265137,\n",
       "  0.8193749785423279,\n",
       "  0.8206250071525574,\n",
       "  0.8237500190734863,\n",
       "  0.8243749737739563,\n",
       "  0.8262500166893005,\n",
       "  0.8306249976158142,\n",
       "  0.8306249976158142,\n",
       "  0.8324999809265137,\n",
       "  0.8362500071525574,\n",
       "  0.8368750214576721,\n",
       "  0.8374999761581421,\n",
       "  0.8393750190734863,\n",
       "  0.8381249904632568,\n",
       "  0.8374999761581421,\n",
       "  0.8399999737739563,\n",
       "  0.8381249904632568,\n",
       "  0.8412500023841858,\n",
       "  0.8412500023841858,\n",
       "  0.84375,\n",
       "  0.8450000286102295,\n",
       "  0.8456249833106995,\n",
       "  0.8456249833106995,\n",
       "  0.8475000262260437,\n",
       "  0.8487499952316284,\n",
       "  0.8506249785423279,\n",
       "  0.8506249785423279,\n",
       "  0.8506249785423279,\n",
       "  0.8518750071525574,\n",
       "  0.856249988079071,\n",
       "  0.8525000214576721,\n",
       "  0.8531249761581421,\n",
       "  0.8568750023841858,\n",
       "  0.8512499928474426,\n",
       "  0.8568750023841858,\n",
       "  0.856249988079071,\n",
       "  0.8537499904632568,\n",
       "  0.8543750047683716,\n",
       "  0.8537499904632568,\n",
       "  0.8525000214576721,\n",
       "  0.8512499928474426,\n",
       "  0.8512499928474426,\n",
       "  0.8518750071525574,\n",
       "  0.8543750047683716,\n",
       "  0.8525000214576721,\n",
       "  0.8537499904632568,\n",
       "  0.8531249761581421,\n",
       "  0.8500000238418579,\n",
       "  0.8525000214576721,\n",
       "  0.8537499904632568,\n",
       "  0.8531249761581421,\n",
       "  0.8537499904632568,\n",
       "  0.8537499904632568,\n",
       "  0.8512499928474426,\n",
       "  0.8537499904632568,\n",
       "  0.8531249761581421,\n",
       "  0.8525000214576721,\n",
       "  0.8537499904632568,\n",
       "  0.8531249761581421,\n",
       "  0.8550000190734863,\n",
       "  0.8550000190734863,\n",
       "  0.8543750047683716,\n",
       "  0.8518750071525574,\n",
       "  0.8543750047683716,\n",
       "  0.8518750071525574,\n",
       "  0.856249988079071,\n",
       "  0.8543750047683716,\n",
       "  0.856249988079071,\n",
       "  0.8537499904632568,\n",
       "  0.8550000190734863,\n",
       "  0.856249988079071,\n",
       "  0.8537499904632568,\n",
       "  0.8550000190734863,\n",
       "  0.8537499904632568,\n",
       "  0.8537499904632568,\n",
       "  0.856249988079071,\n",
       "  0.8550000190734863,\n",
       "  0.8556249737739563,\n",
       "  0.8543750047683716,\n",
       "  0.8568750023841858,\n",
       "  0.8556249737739563,\n",
       "  0.8543750047683716,\n",
       "  0.8550000190734863,\n",
       "  0.8543750047683716,\n",
       "  0.8537499904632568,\n",
       "  0.856249988079071,\n",
       "  0.8556249737739563],\n",
       " 'val_loss': [0.5072734355926514,\n",
       "  0.4995942711830139,\n",
       "  0.4933718144893646,\n",
       "  0.4842361807823181,\n",
       "  0.47233694791793823,\n",
       "  0.45967257022857666,\n",
       "  0.4487106204032898,\n",
       "  0.44122669100761414,\n",
       "  0.4366345703601837,\n",
       "  0.4333941638469696,\n",
       "  0.43123316764831543,\n",
       "  0.42950642108917236,\n",
       "  0.4279666244983673,\n",
       "  0.42635321617126465,\n",
       "  0.4247645437717438,\n",
       "  0.4229060411453247,\n",
       "  0.42133912444114685,\n",
       "  0.4189985692501068,\n",
       "  0.41690483689308167,\n",
       "  0.41489243507385254,\n",
       "  0.4127965271472931,\n",
       "  0.41079655289649963,\n",
       "  0.40882304310798645,\n",
       "  0.40687334537506104,\n",
       "  0.4048413932323456,\n",
       "  0.4027065634727478,\n",
       "  0.400701105594635,\n",
       "  0.3988404870033264,\n",
       "  0.3966255486011505,\n",
       "  0.3947784900665283,\n",
       "  0.3924361765384674,\n",
       "  0.3903537094593048,\n",
       "  0.38852477073669434,\n",
       "  0.3864535093307495,\n",
       "  0.38485756516456604,\n",
       "  0.3828383684158325,\n",
       "  0.3813566565513611,\n",
       "  0.379442036151886,\n",
       "  0.37884753942489624,\n",
       "  0.37657052278518677,\n",
       "  0.3760203421115875,\n",
       "  0.3741273880004883,\n",
       "  0.3731159567832947,\n",
       "  0.372150182723999,\n",
       "  0.37121161818504333,\n",
       "  0.3699079155921936,\n",
       "  0.36971351504325867,\n",
       "  0.3683393895626068,\n",
       "  0.3674779534339905,\n",
       "  0.36684566736221313,\n",
       "  0.3665231764316559,\n",
       "  0.36581364274024963,\n",
       "  0.36526715755462646,\n",
       "  0.36473456025123596,\n",
       "  0.3653954267501831,\n",
       "  0.36455675959587097,\n",
       "  0.3633641302585602,\n",
       "  0.3630913496017456,\n",
       "  0.3636886477470398,\n",
       "  0.3631082773208618,\n",
       "  0.36172208189964294,\n",
       "  0.3626244068145752,\n",
       "  0.36212387681007385,\n",
       "  0.3607470989227295,\n",
       "  0.36073654890060425,\n",
       "  0.36026981472969055,\n",
       "  0.3605893850326538,\n",
       "  0.3608379065990448,\n",
       "  0.3602180480957031,\n",
       "  0.3600523769855499,\n",
       "  0.35907992720603943,\n",
       "  0.35917484760284424,\n",
       "  0.35904771089553833,\n",
       "  0.3583073019981384,\n",
       "  0.3580743074417114,\n",
       "  0.3581398129463196,\n",
       "  0.3613419234752655,\n",
       "  0.35761794447898865,\n",
       "  0.35786497592926025,\n",
       "  0.3598378002643585,\n",
       "  0.3568882346153259,\n",
       "  0.3573857545852661,\n",
       "  0.3566265106201172,\n",
       "  0.3571041524410248,\n",
       "  0.35689014196395874,\n",
       "  0.3560931384563446,\n",
       "  0.35621047019958496,\n",
       "  0.35619616508483887,\n",
       "  0.3556254506111145,\n",
       "  0.35525375604629517,\n",
       "  0.35568171739578247,\n",
       "  0.3551860749721527,\n",
       "  0.35515785217285156,\n",
       "  0.35482704639434814,\n",
       "  0.3549107313156128,\n",
       "  0.35487934947013855,\n",
       "  0.35620570182800293,\n",
       "  0.3544166088104248,\n",
       "  0.35452187061309814,\n",
       "  0.3540331721305847]}"
      ]
     },
     "execution_count": 25,
     "metadata": {},
     "output_type": "execute_result"
    }
   ],
   "source": [
    "model_history.history"
   ]
  },
  {
   "cell_type": "code",
   "execution_count": 26,
   "id": "a99dd0a1",
   "metadata": {
    "execution": {
     "iopub.execute_input": "2025-08-04T06:39:42.332208Z",
     "iopub.status.busy": "2025-08-04T06:39:42.331896Z",
     "iopub.status.idle": "2025-08-04T06:39:42.613136Z",
     "shell.execute_reply": "2025-08-04T06:39:42.612288Z"
    },
    "papermill": {
     "duration": 0.324229,
     "end_time": "2025-08-04T06:39:42.614685",
     "exception": false,
     "start_time": "2025-08-04T06:39:42.290456",
     "status": "completed"
    },
    "tags": []
   },
   "outputs": [
    {
     "data": {
      "text/plain": [
       "[<matplotlib.lines.Line2D at 0x7fd054747550>]"
      ]
     },
     "execution_count": 26,
     "metadata": {},
     "output_type": "execute_result"
    },
    {
     "data": {
      "image/png": "[encoded data removed]",
      "text/plain": [
       "<Figure size 640x480 with 1 Axes>"
      ]
     },
     "metadata": {},
     "output_type": "display_data"
    }
   ],
   "source": [
    "import matplotlib.pyplot as plt\n",
    "\n",
    "plt.plot(model_history.history['loss'])\n",
    "plt.plot(model_history.history['val_loss'])"
   ]
  },
  {
   "cell_type": "code",
   "execution_count": 27,
   "id": "6a525de6",
   "metadata": {
    "execution": {
     "iopub.execute_input": "2025-08-04T06:39:42.701379Z",
     "iopub.status.busy": "2025-08-04T06:39:42.701076Z",
     "iopub.status.idle": "2025-08-04T06:39:42.877747Z",
     "shell.execute_reply": "2025-08-04T06:39:42.876802Z"
    },
    "papermill": {
     "duration": 0.220615,
     "end_time": "2025-08-04T06:39:42.879253",
     "exception": false,
     "start_time": "2025-08-04T06:39:42.658638",
     "status": "completed"
    },
    "tags": []
   },
   "outputs": [
    {
     "data": {
      "text/plain": [
       "[<matplotlib.lines.Line2D at 0x7fd05670dd10>]"
      ]
     },
     "execution_count": 27,
     "metadata": {},
     "output_type": "execute_result"
    },
    {
     "data": {
      "image/png": "[encoded data removed]",
      "text/plain": [
       "<Figure size 640x480 with 1 Axes>"
      ]
     },
     "metadata": {},
     "output_type": "display_data"
    }
   ],
   "source": [
    "plt.plot(model_history.history['accuracy'])\n",
    "plt.plot(model_history.history['val_accuracy'])"
   ]
  }
 ],
 "metadata": {
  "kaggle": {
   "accelerator": "none",
   "dataSources": [
    {
     "datasetId": 869651,
     "sourceId": 1481789,
     "sourceType": "datasetVersion"
    }
   ],
   "dockerImageVersionId": 31089,
   "isGpuEnabled": false,
   "isInternetEnabled": false,
   "language": "python",
   "sourceType": "notebook"
  },
  "kernelspec": {
   "display_name": "Python 3",
   "language": "python",
   "name": "python3"
  },
  "language_info": {
   "codemirror_mode": {
    "name": "ipython",
    "version": 3
   },
   "file_extension": ".py",
   "mimetype": "text/x-python",
   "name": "python",
   "nbconvert_exporter": "python",
   "pygments_lexer": "ipython3",
   "version": "3.11.13"
  },
  "papermill": {
   "default_parameters": {},
   "duration": 69.197981,
   "end_time": "2025-08-04T06:39:46.463741",
   "environment_variables": {},
   "exception": null,
   "input_path": "__notebook__.ipynb",
   "output_path": "__notebook__.ipynb",
   "parameters": {},
   "start_time": "2025-08-04T06:38:37.265760",
   "version": "2.6.0"
  }
 },
 "nbformat": 4,
 "nbformat_minor": 5
}
