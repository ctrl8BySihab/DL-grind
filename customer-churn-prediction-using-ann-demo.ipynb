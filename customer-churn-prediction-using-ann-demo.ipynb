{
 "cells": [
  {
   "cell_type": "code",
   "execution_count": 1,
   "id": "dbdb7fc4",
   "metadata": {
    "_cell_guid": "b1076dfc-b9ad-4769-8c92-a6c4dae69d19",
    "_uuid": "8f2839f25d086af736a60e9eeb907d3b93b6e0e5",
    "execution": {
     "iopub.execute_input": "2025-08-04T06:54:46.389285Z",
     "iopub.status.busy": "2025-08-04T06:54:46.388957Z",
     "iopub.status.idle": "2025-08-04T06:54:48.396280Z",
     "shell.execute_reply": "2025-08-04T06:54:48.395082Z"
    },
    "papermill": {
     "duration": 2.015448,
     "end_time": "2025-08-04T06:54:48.398123",
     "exception": false,
     "start_time": "2025-08-04T06:54:46.382675",
     "status": "completed"
    },
    "tags": []
   },
   "outputs": [
    {
     "name": "stdout",
     "output_type": "stream",
     "text": [
      "/kaggle/input/credit-card-customer-churn-prediction/Churn_Modelling.csv\n"
     ]
    }
   ],
   "source": [
    "# This Python 3 environment comes with many helpful analytics libraries installed\n",
    "# It is defined by the kaggle/python Docker image: https://github.com/kaggle/docker-python\n",
    "# For example, here's several helpful packages to load\n",
    "\n",
    "import numpy as np # linear algebra\n",
    "import pandas as pd # data processing, CSV file I/O (e.g. pd.read_csv)\n",
    "\n",
    "# Input data files are available in the read-only \"../input/\" directory\n",
    "# For example, running this (by clicking run or pressing Shift+Enter) will list all files under the input directory\n",
    "\n",
    "import os\n",
    "for dirname, _, filenames in os.walk('/kaggle/input'):\n",
    "    for filename in filenames:\n",
    "        print(os.path.join(dirname, filename))\n",
    "\n",
    "# You can write up to 20GB to the current directory (/kaggle/working/) that gets preserved as output when you create a version using \"Save & Run All\" \n",
    "# You can also write temporary files to /kaggle/temp/, but they won't be saved outside of the current session"
   ]
  },
  {
   "cell_type": "code",
   "execution_count": 2,
   "id": "c6690c15",
   "metadata": {
    "execution": {
     "iopub.execute_input": "2025-08-04T06:54:48.408530Z",
     "iopub.status.busy": "2025-08-04T06:54:48.408069Z",
     "iopub.status.idle": "2025-08-04T06:54:48.456825Z",
     "shell.execute_reply": "2025-08-04T06:54:48.455877Z"
    },
    "papermill": {
     "duration": 0.055955,
     "end_time": "2025-08-04T06:54:48.458570",
     "exception": false,
     "start_time": "2025-08-04T06:54:48.402615",
     "status": "completed"
    },
    "tags": []
   },
   "outputs": [],
   "source": [
    "df = pd.read_csv(\"/kaggle/input/credit-card-customer-churn-prediction/Churn_Modelling.csv\")"
   ]
  },
  {
   "cell_type": "code",
   "execution_count": 3,
   "id": "aaad9555",
   "metadata": {
    "execution": {
     "iopub.execute_input": "2025-08-04T06:54:48.467640Z",
     "iopub.status.busy": "2025-08-04T06:54:48.467261Z",
     "iopub.status.idle": "2025-08-04T06:54:48.503087Z",
     "shell.execute_reply": "2025-08-04T06:54:48.501993Z"
    },
    "papermill": {
     "duration": 0.0422,
     "end_time": "2025-08-04T06:54:48.504788",
     "exception": false,
     "start_time": "2025-08-04T06:54:48.462588",
     "status": "completed"
    },
    "tags": []
   },
   "outputs": [
    {
     "data": {
      "text/html": [
       "<div>\n",
       "<style scoped>\n",
       "    .dataframe tbody tr th:only-of-type {\n",
       "        vertical-align: middle;\n",
       "    }\n",
       "\n",
       "    .dataframe tbody tr th {\n",
       "        vertical-align: top;\n",
       "    }\n",
       "\n",
       "    .dataframe thead th {\n",
       "        text-align: right;\n",
       "    }\n",
       "</style>\n",
       "<table border=\"1\" class=\"dataframe\">\n",
       "  <thead>\n",
       "    <tr style=\"text-align: right;\">\n",
       "      <th></th>\n",
       "      <th>RowNumber</th>\n",
       "      <th>CustomerId</th>\n",
       "      <th>Surname</th>\n",
       "      <th>CreditScore</th>\n",
       "      <th>Geography</th>\n",
       "      <th>Gender</th>\n",
       "      <th>Age</th>\n",
       "      <th>Tenure</th>\n",
       "      <th>Balance</th>\n",
       "      <th>NumOfProducts</th>\n",
       "      <th>HasCrCard</th>\n",
       "      <th>IsActiveMember</th>\n",
       "      <th>EstimatedSalary</th>\n",
       "      <th>Exited</th>\n",
       "    </tr>\n",
       "  </thead>\n",
       "  <tbody>\n",
       "    <tr>\n",
       "      <th>6447</th>\n",
       "      <td>6448</td>\n",
       "      <td>15614834</td>\n",
       "      <td>Long</td>\n",
       "      <td>619</td>\n",
       "      <td>Spain</td>\n",
       "      <td>Female</td>\n",
       "      <td>31</td>\n",
       "      <td>3</td>\n",
       "      <td>141751.82</td>\n",
       "      <td>1</td>\n",
       "      <td>0</td>\n",
       "      <td>1</td>\n",
       "      <td>61531.86</td>\n",
       "      <td>0</td>\n",
       "    </tr>\n",
       "    <tr>\n",
       "      <th>5063</th>\n",
       "      <td>5064</td>\n",
       "      <td>15592578</td>\n",
       "      <td>Nucci</td>\n",
       "      <td>614</td>\n",
       "      <td>Spain</td>\n",
       "      <td>Female</td>\n",
       "      <td>41</td>\n",
       "      <td>7</td>\n",
       "      <td>146997.64</td>\n",
       "      <td>2</td>\n",
       "      <td>0</td>\n",
       "      <td>0</td>\n",
       "      <td>137791.18</td>\n",
       "      <td>0</td>\n",
       "    </tr>\n",
       "    <tr>\n",
       "      <th>7307</th>\n",
       "      <td>7308</td>\n",
       "      <td>15782159</td>\n",
       "      <td>Ndubuagha</td>\n",
       "      <td>850</td>\n",
       "      <td>France</td>\n",
       "      <td>Male</td>\n",
       "      <td>28</td>\n",
       "      <td>8</td>\n",
       "      <td>67639.56</td>\n",
       "      <td>2</td>\n",
       "      <td>1</td>\n",
       "      <td>1</td>\n",
       "      <td>194245.29</td>\n",
       "      <td>0</td>\n",
       "    </tr>\n",
       "    <tr>\n",
       "      <th>2987</th>\n",
       "      <td>2988</td>\n",
       "      <td>15682268</td>\n",
       "      <td>Steere</td>\n",
       "      <td>676</td>\n",
       "      <td>Germany</td>\n",
       "      <td>Female</td>\n",
       "      <td>26</td>\n",
       "      <td>1</td>\n",
       "      <td>108348.66</td>\n",
       "      <td>1</td>\n",
       "      <td>0</td>\n",
       "      <td>0</td>\n",
       "      <td>60231.74</td>\n",
       "      <td>1</td>\n",
       "    </tr>\n",
       "    <tr>\n",
       "      <th>8233</th>\n",
       "      <td>8234</td>\n",
       "      <td>15589019</td>\n",
       "      <td>Morant</td>\n",
       "      <td>633</td>\n",
       "      <td>Spain</td>\n",
       "      <td>Female</td>\n",
       "      <td>33</td>\n",
       "      <td>4</td>\n",
       "      <td>92855.02</td>\n",
       "      <td>1</td>\n",
       "      <td>1</td>\n",
       "      <td>1</td>\n",
       "      <td>159813.18</td>\n",
       "      <td>0</td>\n",
       "    </tr>\n",
       "  </tbody>\n",
       "</table>\n",
       "</div>"
      ],
      "text/plain": [
       "      RowNumber  CustomerId    Surname  CreditScore Geography  Gender  Age  \\\n",
       "6447       6448    15614834       Long          619     Spain  Female   31   \n",
       "5063       5064    15592578      Nucci          614     Spain  Female   41   \n",
       "7307       7308    15782159  Ndubuagha          850    France    Male   28   \n",
       "2987       2988    15682268     Steere          676   Germany  Female   26   \n",
       "8233       8234    15589019     Morant          633     Spain  Female   33   \n",
       "\n",
       "      Tenure    Balance  NumOfProducts  HasCrCard  IsActiveMember  \\\n",
       "6447       3  141751.82              1          0               1   \n",
       "5063       7  146997.64              2          0               0   \n",
       "7307       8   67639.56              2          1               1   \n",
       "2987       1  108348.66              1          0               0   \n",
       "8233       4   92855.02              1          1               1   \n",
       "\n",
       "      EstimatedSalary  Exited  \n",
       "6447         61531.86       0  \n",
       "5063        137791.18       0  \n",
       "7307        194245.29       0  \n",
       "2987         60231.74       1  \n",
       "8233        159813.18       0  "
      ]
     },
     "execution_count": 3,
     "metadata": {},
     "output_type": "execute_result"
    }
   ],
   "source": [
    "df.sample(5)"
   ]
  },
  {
   "cell_type": "code",
   "execution_count": 4,
   "id": "0cea0fa0",
   "metadata": {
    "execution": {
     "iopub.execute_input": "2025-08-04T06:54:48.514628Z",
     "iopub.status.busy": "2025-08-04T06:54:48.514279Z",
     "iopub.status.idle": "2025-08-04T06:54:48.539729Z",
     "shell.execute_reply": "2025-08-04T06:54:48.538744Z"
    },
    "papermill": {
     "duration": 0.032045,
     "end_time": "2025-08-04T06:54:48.541246",
     "exception": false,
     "start_time": "2025-08-04T06:54:48.509201",
     "status": "completed"
    },
    "tags": []
   },
   "outputs": [
    {
     "name": "stdout",
     "output_type": "stream",
     "text": [
      "<class 'pandas.core.frame.DataFrame'>\n",
      "RangeIndex: 10000 entries, 0 to 9999\n",
      "Data columns (total 14 columns):\n",
      " #   Column           Non-Null Count  Dtype  \n",
      "---  ------           --------------  -----  \n",
      " 0   RowNumber        10000 non-null  int64  \n",
      " 1   CustomerId       10000 non-null  int64  \n",
      " 2   Surname          10000 non-null  object \n",
      " 3   CreditScore      10000 non-null  int64  \n",
      " 4   Geography        10000 non-null  object \n",
      " 5   Gender           10000 non-null  object \n",
      " 6   Age              10000 non-null  int64  \n",
      " 7   Tenure           10000 non-null  int64  \n",
      " 8   Balance          10000 non-null  float64\n",
      " 9   NumOfProducts    10000 non-null  int64  \n",
      " 10  HasCrCard        10000 non-null  int64  \n",
      " 11  IsActiveMember   10000 non-null  int64  \n",
      " 12  EstimatedSalary  10000 non-null  float64\n",
      " 13  Exited           10000 non-null  int64  \n",
      "dtypes: float64(2), int64(9), object(3)\n",
      "memory usage: 1.1+ MB\n"
     ]
    }
   ],
   "source": [
    "df.info()"
   ]
  },
  {
   "cell_type": "code",
   "execution_count": 5,
   "id": "f10d3d56",
   "metadata": {
    "execution": {
     "iopub.execute_input": "2025-08-04T06:54:48.550832Z",
     "iopub.status.busy": "2025-08-04T06:54:48.550557Z",
     "iopub.status.idle": "2025-08-04T06:54:48.562481Z",
     "shell.execute_reply": "2025-08-04T06:54:48.561289Z"
    },
    "papermill": {
     "duration": 0.018497,
     "end_time": "2025-08-04T06:54:48.564049",
     "exception": false,
     "start_time": "2025-08-04T06:54:48.545552",
     "status": "completed"
    },
    "tags": []
   },
   "outputs": [
    {
     "name": "stdout",
     "output_type": "stream",
     "text": [
      "Duplicated Value found: 0\n"
     ]
    }
   ],
   "source": [
    "print(f\"Duplicated Value found: {df.duplicated().sum()}\")"
   ]
  },
  {
   "cell_type": "code",
   "execution_count": 6,
   "id": "022d303c",
   "metadata": {
    "execution": {
     "iopub.execute_input": "2025-08-04T06:54:48.573912Z",
     "iopub.status.busy": "2025-08-04T06:54:48.573601Z",
     "iopub.status.idle": "2025-08-04T06:54:48.581247Z",
     "shell.execute_reply": "2025-08-04T06:54:48.580398Z"
    },
    "papermill": {
     "duration": 0.014214,
     "end_time": "2025-08-04T06:54:48.582694",
     "exception": false,
     "start_time": "2025-08-04T06:54:48.568480",
     "status": "completed"
    },
    "tags": []
   },
   "outputs": [
    {
     "data": {
      "text/plain": [
       "Geography\n",
       "France     5014\n",
       "Germany    2509\n",
       "Spain      2477\n",
       "Name: count, dtype: int64"
      ]
     },
     "execution_count": 6,
     "metadata": {},
     "output_type": "execute_result"
    }
   ],
   "source": [
    "df[\"Geography\"].value_counts()"
   ]
  },
  {
   "cell_type": "code",
   "execution_count": 7,
   "id": "1a6a8459",
   "metadata": {
    "execution": {
     "iopub.execute_input": "2025-08-04T06:54:48.592634Z",
     "iopub.status.busy": "2025-08-04T06:54:48.592305Z",
     "iopub.status.idle": "2025-08-04T06:54:48.599870Z",
     "shell.execute_reply": "2025-08-04T06:54:48.599010Z"
    },
    "papermill": {
     "duration": 0.014155,
     "end_time": "2025-08-04T06:54:48.601381",
     "exception": false,
     "start_time": "2025-08-04T06:54:48.587226",
     "status": "completed"
    },
    "tags": []
   },
   "outputs": [],
   "source": [
    "df.drop(columns = [\"RowNumber\", \"CustomerId\", \"Surname\"],inplace=True)"
   ]
  },
  {
   "cell_type": "code",
   "execution_count": 8,
   "id": "ef4d2e8f",
   "metadata": {
    "execution": {
     "iopub.execute_input": "2025-08-04T06:54:48.613812Z",
     "iopub.status.busy": "2025-08-04T06:54:48.612971Z",
     "iopub.status.idle": "2025-08-04T06:54:48.626746Z",
     "shell.execute_reply": "2025-08-04T06:54:48.625536Z"
    },
    "papermill": {
     "duration": 0.02233,
     "end_time": "2025-08-04T06:54:48.628284",
     "exception": false,
     "start_time": "2025-08-04T06:54:48.605954",
     "status": "completed"
    },
    "tags": []
   },
   "outputs": [
    {
     "data": {
      "text/html": [
       "<div>\n",
       "<style scoped>\n",
       "    .dataframe tbody tr th:only-of-type {\n",
       "        vertical-align: middle;\n",
       "    }\n",
       "\n",
       "    .dataframe tbody tr th {\n",
       "        vertical-align: top;\n",
       "    }\n",
       "\n",
       "    .dataframe thead th {\n",
       "        text-align: right;\n",
       "    }\n",
       "</style>\n",
       "<table border=\"1\" class=\"dataframe\">\n",
       "  <thead>\n",
       "    <tr style=\"text-align: right;\">\n",
       "      <th></th>\n",
       "      <th>CreditScore</th>\n",
       "      <th>Geography</th>\n",
       "      <th>Gender</th>\n",
       "      <th>Age</th>\n",
       "      <th>Tenure</th>\n",
       "      <th>Balance</th>\n",
       "      <th>NumOfProducts</th>\n",
       "      <th>HasCrCard</th>\n",
       "      <th>IsActiveMember</th>\n",
       "      <th>EstimatedSalary</th>\n",
       "      <th>Exited</th>\n",
       "    </tr>\n",
       "  </thead>\n",
       "  <tbody>\n",
       "    <tr>\n",
       "      <th>6185</th>\n",
       "      <td>699</td>\n",
       "      <td>Germany</td>\n",
       "      <td>Male</td>\n",
       "      <td>36</td>\n",
       "      <td>6</td>\n",
       "      <td>147137.74</td>\n",
       "      <td>1</td>\n",
       "      <td>1</td>\n",
       "      <td>1</td>\n",
       "      <td>33687.90</td>\n",
       "      <td>0</td>\n",
       "    </tr>\n",
       "    <tr>\n",
       "      <th>3907</th>\n",
       "      <td>603</td>\n",
       "      <td>Germany</td>\n",
       "      <td>Male</td>\n",
       "      <td>46</td>\n",
       "      <td>4</td>\n",
       "      <td>98899.76</td>\n",
       "      <td>2</td>\n",
       "      <td>1</td>\n",
       "      <td>1</td>\n",
       "      <td>86190.34</td>\n",
       "      <td>0</td>\n",
       "    </tr>\n",
       "    <tr>\n",
       "      <th>8025</th>\n",
       "      <td>655</td>\n",
       "      <td>France</td>\n",
       "      <td>Male</td>\n",
       "      <td>24</td>\n",
       "      <td>9</td>\n",
       "      <td>107065.31</td>\n",
       "      <td>1</td>\n",
       "      <td>1</td>\n",
       "      <td>1</td>\n",
       "      <td>51959.82</td>\n",
       "      <td>0</td>\n",
       "    </tr>\n",
       "    <tr>\n",
       "      <th>6963</th>\n",
       "      <td>613</td>\n",
       "      <td>Spain</td>\n",
       "      <td>Male</td>\n",
       "      <td>39</td>\n",
       "      <td>8</td>\n",
       "      <td>118201.41</td>\n",
       "      <td>1</td>\n",
       "      <td>1</td>\n",
       "      <td>0</td>\n",
       "      <td>23315.59</td>\n",
       "      <td>0</td>\n",
       "    </tr>\n",
       "    <tr>\n",
       "      <th>1527</th>\n",
       "      <td>661</td>\n",
       "      <td>Germany</td>\n",
       "      <td>Male</td>\n",
       "      <td>35</td>\n",
       "      <td>8</td>\n",
       "      <td>124098.54</td>\n",
       "      <td>1</td>\n",
       "      <td>1</td>\n",
       "      <td>0</td>\n",
       "      <td>86678.48</td>\n",
       "      <td>0</td>\n",
       "    </tr>\n",
       "  </tbody>\n",
       "</table>\n",
       "</div>"
      ],
      "text/plain": [
       "      CreditScore Geography Gender  Age  Tenure    Balance  NumOfProducts  \\\n",
       "6185          699   Germany   Male   36       6  147137.74              1   \n",
       "3907          603   Germany   Male   46       4   98899.76              2   \n",
       "8025          655    France   Male   24       9  107065.31              1   \n",
       "6963          613     Spain   Male   39       8  118201.41              1   \n",
       "1527          661   Germany   Male   35       8  124098.54              1   \n",
       "\n",
       "      HasCrCard  IsActiveMember  EstimatedSalary  Exited  \n",
       "6185          1               1         33687.90       0  \n",
       "3907          1               1         86190.34       0  \n",
       "8025          1               1         51959.82       0  \n",
       "6963          1               0         23315.59       0  \n",
       "1527          1               0         86678.48       0  "
      ]
     },
     "execution_count": 8,
     "metadata": {},
     "output_type": "execute_result"
    }
   ],
   "source": [
    "df.sample(5)"
   ]
  },
  {
   "cell_type": "code",
   "execution_count": 9,
   "id": "1ad05b6b",
   "metadata": {
    "execution": {
     "iopub.execute_input": "2025-08-04T06:54:48.639100Z",
     "iopub.status.busy": "2025-08-04T06:54:48.638756Z",
     "iopub.status.idle": "2025-08-04T06:54:48.651967Z",
     "shell.execute_reply": "2025-08-04T06:54:48.650999Z"
    },
    "papermill": {
     "duration": 0.020503,
     "end_time": "2025-08-04T06:54:48.653648",
     "exception": false,
     "start_time": "2025-08-04T06:54:48.633145",
     "status": "completed"
    },
    "tags": []
   },
   "outputs": [],
   "source": [
    "df = pd.get_dummies(df,columns=[\"Geography\",\"Gender\"],drop_first=True, dtype=int)"
   ]
  },
  {
   "cell_type": "code",
   "execution_count": 10,
   "id": "4373edfb",
   "metadata": {
    "execution": {
     "iopub.execute_input": "2025-08-04T06:54:48.664192Z",
     "iopub.status.busy": "2025-08-04T06:54:48.663914Z",
     "iopub.status.idle": "2025-08-04T06:54:48.677904Z",
     "shell.execute_reply": "2025-08-04T06:54:48.676858Z"
    },
    "papermill": {
     "duration": 0.020866,
     "end_time": "2025-08-04T06:54:48.679354",
     "exception": false,
     "start_time": "2025-08-04T06:54:48.658488",
     "status": "completed"
    },
    "tags": []
   },
   "outputs": [
    {
     "data": {
      "text/html": [
       "<div>\n",
       "<style scoped>\n",
       "    .dataframe tbody tr th:only-of-type {\n",
       "        vertical-align: middle;\n",
       "    }\n",
       "\n",
       "    .dataframe tbody tr th {\n",
       "        vertical-align: top;\n",
       "    }\n",
       "\n",
       "    .dataframe thead th {\n",
       "        text-align: right;\n",
       "    }\n",
       "</style>\n",
       "<table border=\"1\" class=\"dataframe\">\n",
       "  <thead>\n",
       "    <tr style=\"text-align: right;\">\n",
       "      <th></th>\n",
       "      <th>CreditScore</th>\n",
       "      <th>Age</th>\n",
       "      <th>Tenure</th>\n",
       "      <th>Balance</th>\n",
       "      <th>NumOfProducts</th>\n",
       "      <th>HasCrCard</th>\n",
       "      <th>IsActiveMember</th>\n",
       "      <th>EstimatedSalary</th>\n",
       "      <th>Exited</th>\n",
       "      <th>Geography_Germany</th>\n",
       "      <th>Geography_Spain</th>\n",
       "      <th>Gender_Male</th>\n",
       "    </tr>\n",
       "  </thead>\n",
       "  <tbody>\n",
       "    <tr>\n",
       "      <th>6525</th>\n",
       "      <td>728</td>\n",
       "      <td>34</td>\n",
       "      <td>4</td>\n",
       "      <td>106328.08</td>\n",
       "      <td>1</td>\n",
       "      <td>1</td>\n",
       "      <td>0</td>\n",
       "      <td>88680.65</td>\n",
       "      <td>0</td>\n",
       "      <td>0</td>\n",
       "      <td>0</td>\n",
       "      <td>1</td>\n",
       "    </tr>\n",
       "    <tr>\n",
       "      <th>9248</th>\n",
       "      <td>629</td>\n",
       "      <td>34</td>\n",
       "      <td>6</td>\n",
       "      <td>0.00</td>\n",
       "      <td>2</td>\n",
       "      <td>1</td>\n",
       "      <td>0</td>\n",
       "      <td>190347.72</td>\n",
       "      <td>0</td>\n",
       "      <td>0</td>\n",
       "      <td>1</td>\n",
       "      <td>1</td>\n",
       "    </tr>\n",
       "    <tr>\n",
       "      <th>1255</th>\n",
       "      <td>624</td>\n",
       "      <td>46</td>\n",
       "      <td>3</td>\n",
       "      <td>0.00</td>\n",
       "      <td>2</td>\n",
       "      <td>1</td>\n",
       "      <td>1</td>\n",
       "      <td>62825.03</td>\n",
       "      <td>0</td>\n",
       "      <td>0</td>\n",
       "      <td>1</td>\n",
       "      <td>1</td>\n",
       "    </tr>\n",
       "    <tr>\n",
       "      <th>6509</th>\n",
       "      <td>738</td>\n",
       "      <td>40</td>\n",
       "      <td>1</td>\n",
       "      <td>115409.18</td>\n",
       "      <td>2</td>\n",
       "      <td>0</td>\n",
       "      <td>0</td>\n",
       "      <td>180456.80</td>\n",
       "      <td>0</td>\n",
       "      <td>1</td>\n",
       "      <td>0</td>\n",
       "      <td>0</td>\n",
       "    </tr>\n",
       "    <tr>\n",
       "      <th>417</th>\n",
       "      <td>556</td>\n",
       "      <td>39</td>\n",
       "      <td>9</td>\n",
       "      <td>89588.35</td>\n",
       "      <td>1</td>\n",
       "      <td>1</td>\n",
       "      <td>1</td>\n",
       "      <td>94898.10</td>\n",
       "      <td>0</td>\n",
       "      <td>0</td>\n",
       "      <td>0</td>\n",
       "      <td>0</td>\n",
       "    </tr>\n",
       "  </tbody>\n",
       "</table>\n",
       "</div>"
      ],
      "text/plain": [
       "      CreditScore  Age  Tenure    Balance  NumOfProducts  HasCrCard  \\\n",
       "6525          728   34       4  106328.08              1          1   \n",
       "9248          629   34       6       0.00              2          1   \n",
       "1255          624   46       3       0.00              2          1   \n",
       "6509          738   40       1  115409.18              2          0   \n",
       "417           556   39       9   89588.35              1          1   \n",
       "\n",
       "      IsActiveMember  EstimatedSalary  Exited  Geography_Germany  \\\n",
       "6525               0         88680.65       0                  0   \n",
       "9248               0        190347.72       0                  0   \n",
       "1255               1         62825.03       0                  0   \n",
       "6509               0        180456.80       0                  1   \n",
       "417                1         94898.10       0                  0   \n",
       "\n",
       "      Geography_Spain  Gender_Male  \n",
       "6525                0            1  \n",
       "9248                1            1  \n",
       "1255                1            1  \n",
       "6509                0            0  \n",
       "417                 0            0  "
      ]
     },
     "execution_count": 10,
     "metadata": {},
     "output_type": "execute_result"
    }
   ],
   "source": [
    "df.sample(5)"
   ]
  },
  {
   "cell_type": "code",
   "execution_count": 11,
   "id": "3d660d8f",
   "metadata": {
    "execution": {
     "iopub.execute_input": "2025-08-04T06:54:48.690441Z",
     "iopub.status.busy": "2025-08-04T06:54:48.690098Z",
     "iopub.status.idle": "2025-08-04T06:54:50.567834Z",
     "shell.execute_reply": "2025-08-04T06:54:50.566633Z"
    },
    "papermill": {
     "duration": 1.885066,
     "end_time": "2025-08-04T06:54:50.569465",
     "exception": false,
     "start_time": "2025-08-04T06:54:48.684399",
     "status": "completed"
    },
    "tags": []
   },
   "outputs": [
    {
     "name": "stdout",
     "output_type": "stream",
     "text": [
      "Dataset split into training and testing set\n"
     ]
    }
   ],
   "source": [
    "#split the dataset into training and testing set\n",
    "\n",
    "X = df.drop(columns=['Exited'])\n",
    "y = df['Exited'].values\n",
    "\n",
    "from sklearn.model_selection import train_test_split\n",
    "X_train,X_test,y_train,y_test = train_test_split(X,y,test_size=0.2,random_state=0)\n",
    "\n",
    "print(\"Dataset split into training and testing set\")"
   ]
  },
  {
   "cell_type": "code",
   "execution_count": 12,
   "id": "cdab9f30",
   "metadata": {
    "execution": {
     "iopub.execute_input": "2025-08-04T06:54:50.581897Z",
     "iopub.status.busy": "2025-08-04T06:54:50.581449Z",
     "iopub.status.idle": "2025-08-04T06:54:50.628915Z",
     "shell.execute_reply": "2025-08-04T06:54:50.627894Z"
    },
    "papermill": {
     "duration": 0.055455,
     "end_time": "2025-08-04T06:54:50.630407",
     "exception": false,
     "start_time": "2025-08-04T06:54:50.574952",
     "status": "completed"
    },
    "tags": []
   },
   "outputs": [
    {
     "data": {
      "text/plain": [
       "array([[-0.55204276, -0.36890377,  1.04473698, ...,  1.75486502,\n",
       "        -0.57369368, -1.09168714],\n",
       "       [-1.31490297,  0.10961719, -1.031415  , ..., -0.5698444 ,\n",
       "        -0.57369368, -1.09168714],\n",
       "       [ 0.57162971,  0.30102557,  1.04473698, ..., -0.5698444 ,\n",
       "         1.74309049, -1.09168714],\n",
       "       ...,\n",
       "       [-0.74791227, -0.27319958, -1.37744033, ..., -0.5698444 ,\n",
       "         1.74309049,  0.91601335],\n",
       "       [-0.00566991, -0.46460796, -0.33936434, ...,  1.75486502,\n",
       "        -0.57369368,  0.91601335],\n",
       "       [-0.79945688, -0.84742473,  1.04473698, ...,  1.75486502,\n",
       "        -0.57369368,  0.91601335]])"
      ]
     },
     "execution_count": 12,
     "metadata": {},
     "output_type": "execute_result"
    }
   ],
   "source": [
    "#transform the X values\n",
    "\n",
    "from sklearn.preprocessing import StandardScaler\n",
    "scaler = StandardScaler()\n",
    "\n",
    "X_train_trf = scaler.fit_transform(X_train)\n",
    "X_test_trf = scaler.transform(X_test)\n",
    "\n",
    "X_train_trf\n",
    "X_test_trf"
   ]
  },
  {
   "cell_type": "code",
   "execution_count": 13,
   "id": "28b7d77d",
   "metadata": {
    "execution": {
     "iopub.execute_input": "2025-08-04T06:54:50.642746Z",
     "iopub.status.busy": "2025-08-04T06:54:50.642449Z",
     "iopub.status.idle": "2025-08-04T06:55:08.654117Z",
     "shell.execute_reply": "2025-08-04T06:55:08.653024Z"
    },
    "papermill": {
     "duration": 18.02016,
     "end_time": "2025-08-04T06:55:08.655957",
     "exception": false,
     "start_time": "2025-08-04T06:54:50.635797",
     "status": "completed"
    },
    "tags": []
   },
   "outputs": [
    {
     "name": "stderr",
     "output_type": "stream",
     "text": [
      "2025-08-04 06:54:52.834603: E external/local_xla/xla/stream_executor/cuda/cuda_fft.cc:477] Unable to register cuFFT factory: Attempting to register factory for plugin cuFFT when one has already been registered\n",
      "WARNING: All log messages before absl::InitializeLog() is called are written to STDERR\n",
      "E0000 00:00:1754290493.117545      13 cuda_dnn.cc:8310] Unable to register cuDNN factory: Attempting to register factory for plugin cuDNN when one has already been registered\n",
      "E0000 00:00:1754290493.193442      13 cuda_blas.cc:1418] Unable to register cuBLAS factory: Attempting to register factory for plugin cuBLAS when one has already been registered\n"
     ]
    }
   ],
   "source": [
    "import tensorflow\n",
    "from tensorflow import keras\n",
    "from tensorflow.keras import Sequential \n",
    "from tensorflow.keras.layers import Dense"
   ]
  },
  {
   "cell_type": "code",
   "execution_count": 14,
   "id": "975f0a9d",
   "metadata": {
    "execution": {
     "iopub.execute_input": "2025-08-04T06:55:08.668520Z",
     "iopub.status.busy": "2025-08-04T06:55:08.667346Z",
     "iopub.status.idle": "2025-08-04T06:55:08.775890Z",
     "shell.execute_reply": "2025-08-04T06:55:08.774858Z"
    },
    "papermill": {
     "duration": 0.116379,
     "end_time": "2025-08-04T06:55:08.777717",
     "exception": false,
     "start_time": "2025-08-04T06:55:08.661338",
     "status": "completed"
    },
    "tags": []
   },
   "outputs": [
    {
     "name": "stderr",
     "output_type": "stream",
     "text": [
      "/usr/local/lib/python3.11/dist-packages/keras/src/layers/core/dense.py:87: UserWarning: Do not pass an `input_shape`/`input_dim` argument to a layer. When using Sequential models, prefer using an `Input(shape)` object as the first layer in the model instead.\n",
      "  super().__init__(activity_regularizer=activity_regularizer, **kwargs)\n",
      "2025-08-04 06:55:08.678414: E external/local_xla/xla/stream_executor/cuda/cuda_driver.cc:152] failed call to cuInit: INTERNAL: CUDA error: Failed call to cuInit: UNKNOWN ERROR (303)\n"
     ]
    }
   ],
   "source": [
    "#building model architecture\n",
    "\n",
    "model = Sequential()\n",
    "\n",
    "model.add(Dense(11,activation='sigmoid',input_dim=11))\n",
    "model.add(Dense(6,activation='sigmoid'))\n",
    "model.add(Dense(3,activation='sigmoid'))\n",
    "model.add(Dense(1,activation='sigmoid'))"
   ]
  },
  {
   "cell_type": "code",
   "execution_count": 15,
   "id": "8b12d531",
   "metadata": {
    "execution": {
     "iopub.execute_input": "2025-08-04T06:55:08.789856Z",
     "iopub.status.busy": "2025-08-04T06:55:08.789170Z",
     "iopub.status.idle": "2025-08-04T06:55:08.806103Z",
     "shell.execute_reply": "2025-08-04T06:55:08.805216Z"
    },
    "papermill": {
     "duration": 0.024523,
     "end_time": "2025-08-04T06:55:08.807569",
     "exception": false,
     "start_time": "2025-08-04T06:55:08.783046",
     "status": "completed"
    },
    "tags": []
   },
   "outputs": [
    {
     "data": {
      "text/html": [
       "<pre style=\"white-space:pre;overflow-x:auto;line-height:normal;font-family:Menlo,'DejaVu Sans Mono',consolas,'Courier New',monospace\"><span style=\"font-weight: bold\">Model: \"sequential\"</span>\n",
       "</pre>\n"
      ],
      "text/plain": [
       "\u001b[1mModel: \"sequential\"\u001b[0m\n"
      ]
     },
     "metadata": {},
     "output_type": "display_data"
    },
    {
     "data": {
      "text/html": [
       "<pre style=\"white-space:pre;overflow-x:auto;line-height:normal;font-family:Menlo,'DejaVu Sans Mono',consolas,'Courier New',monospace\">┏━━━━━━━━━━━━━━━━━━━━━━━━━━━━━━━━━┳━━━━━━━━━━━━━━━━━━━━━━━━┳━━━━━━━━━━━━━━━┓\n",
       "┃<span style=\"font-weight: bold\"> Layer (type)                    </span>┃<span style=\"font-weight: bold\"> Output Shape           </span>┃<span style=\"font-weight: bold\">       Param # </span>┃\n",
       "┡━━━━━━━━━━━━━━━━━━━━━━━━━━━━━━━━━╇━━━━━━━━━━━━━━━━━━━━━━━━╇━━━━━━━━━━━━━━━┩\n",
       "│ dense (<span style=\"color: #0087ff; text-decoration-color: #0087ff\">Dense</span>)                   │ (<span style=\"color: #00d7ff; text-decoration-color: #00d7ff\">None</span>, <span style=\"color: #00af00; text-decoration-color: #00af00\">11</span>)             │           <span style=\"color: #00af00; text-decoration-color: #00af00\">132</span> │\n",
       "├─────────────────────────────────┼────────────────────────┼───────────────┤\n",
       "│ dense_1 (<span style=\"color: #0087ff; text-decoration-color: #0087ff\">Dense</span>)                 │ (<span style=\"color: #00d7ff; text-decoration-color: #00d7ff\">None</span>, <span style=\"color: #00af00; text-decoration-color: #00af00\">6</span>)              │            <span style=\"color: #00af00; text-decoration-color: #00af00\">72</span> │\n",
       "├─────────────────────────────────┼────────────────────────┼───────────────┤\n",
       "│ dense_2 (<span style=\"color: #0087ff; text-decoration-color: #0087ff\">Dense</span>)                 │ (<span style=\"color: #00d7ff; text-decoration-color: #00d7ff\">None</span>, <span style=\"color: #00af00; text-decoration-color: #00af00\">3</span>)              │            <span style=\"color: #00af00; text-decoration-color: #00af00\">21</span> │\n",
       "├─────────────────────────────────┼────────────────────────┼───────────────┤\n",
       "│ dense_3 (<span style=\"color: #0087ff; text-decoration-color: #0087ff\">Dense</span>)                 │ (<span style=\"color: #00d7ff; text-decoration-color: #00d7ff\">None</span>, <span style=\"color: #00af00; text-decoration-color: #00af00\">1</span>)              │             <span style=\"color: #00af00; text-decoration-color: #00af00\">4</span> │\n",
       "└─────────────────────────────────┴────────────────────────┴───────────────┘\n",
       "</pre>\n"
      ],
      "text/plain": [
       "┏━━━━━━━━━━━━━━━━━━━━━━━━━━━━━━━━━┳━━━━━━━━━━━━━━━━━━━━━━━━┳━━━━━━━━━━━━━━━┓\n",
       "┃\u001b[1m \u001b[0m\u001b[1mLayer (type)                   \u001b[0m\u001b[1m \u001b[0m┃\u001b[1m \u001b[0m\u001b[1mOutput Shape          \u001b[0m\u001b[1m \u001b[0m┃\u001b[1m \u001b[0m\u001b[1m      Param #\u001b[0m\u001b[1m \u001b[0m┃\n",
       "┡━━━━━━━━━━━━━━━━━━━━━━━━━━━━━━━━━╇━━━━━━━━━━━━━━━━━━━━━━━━╇━━━━━━━━━━━━━━━┩\n",
       "│ dense (\u001b[38;5;33mDense\u001b[0m)                   │ (\u001b[38;5;45mNone\u001b[0m, \u001b[38;5;34m11\u001b[0m)             │           \u001b[38;5;34m132\u001b[0m │\n",
       "├─────────────────────────────────┼────────────────────────┼───────────────┤\n",
       "│ dense_1 (\u001b[38;5;33mDense\u001b[0m)                 │ (\u001b[38;5;45mNone\u001b[0m, \u001b[38;5;34m6\u001b[0m)              │            \u001b[38;5;34m72\u001b[0m │\n",
       "├─────────────────────────────────┼────────────────────────┼───────────────┤\n",
       "│ dense_2 (\u001b[38;5;33mDense\u001b[0m)                 │ (\u001b[38;5;45mNone\u001b[0m, \u001b[38;5;34m3\u001b[0m)              │            \u001b[38;5;34m21\u001b[0m │\n",
       "├─────────────────────────────────┼────────────────────────┼───────────────┤\n",
       "│ dense_3 (\u001b[38;5;33mDense\u001b[0m)                 │ (\u001b[38;5;45mNone\u001b[0m, \u001b[38;5;34m1\u001b[0m)              │             \u001b[38;5;34m4\u001b[0m │\n",
       "└─────────────────────────────────┴────────────────────────┴───────────────┘\n"
      ]
     },
     "metadata": {},
     "output_type": "display_data"
    },
    {
     "data": {
      "text/html": [
       "<pre style=\"white-space:pre;overflow-x:auto;line-height:normal;font-family:Menlo,'DejaVu Sans Mono',consolas,'Courier New',monospace\"><span style=\"font-weight: bold\"> Total params: </span><span style=\"color: #00af00; text-decoration-color: #00af00\">229</span> (916.00 B)\n",
       "</pre>\n"
      ],
      "text/plain": [
       "\u001b[1m Total params: \u001b[0m\u001b[38;5;34m229\u001b[0m (916.00 B)\n"
      ]
     },
     "metadata": {},
     "output_type": "display_data"
    },
    {
     "data": {
      "text/html": [
       "<pre style=\"white-space:pre;overflow-x:auto;line-height:normal;font-family:Menlo,'DejaVu Sans Mono',consolas,'Courier New',monospace\"><span style=\"font-weight: bold\"> Trainable params: </span><span style=\"color: #00af00; text-decoration-color: #00af00\">229</span> (916.00 B)\n",
       "</pre>\n"
      ],
      "text/plain": [
       "\u001b[1m Trainable params: \u001b[0m\u001b[38;5;34m229\u001b[0m (916.00 B)\n"
      ]
     },
     "metadata": {},
     "output_type": "display_data"
    },
    {
     "data": {
      "text/html": [
       "<pre style=\"white-space:pre;overflow-x:auto;line-height:normal;font-family:Menlo,'DejaVu Sans Mono',consolas,'Courier New',monospace\"><span style=\"font-weight: bold\"> Non-trainable params: </span><span style=\"color: #00af00; text-decoration-color: #00af00\">0</span> (0.00 B)\n",
       "</pre>\n"
      ],
      "text/plain": [
       "\u001b[1m Non-trainable params: \u001b[0m\u001b[38;5;34m0\u001b[0m (0.00 B)\n"
      ]
     },
     "metadata": {},
     "output_type": "display_data"
    }
   ],
   "source": [
    "model.summary()"
   ]
  },
  {
   "cell_type": "code",
   "execution_count": 16,
   "id": "1e7934e7",
   "metadata": {
    "execution": {
     "iopub.execute_input": "2025-08-04T06:55:08.820806Z",
     "iopub.status.busy": "2025-08-04T06:55:08.820498Z",
     "iopub.status.idle": "2025-08-04T06:55:08.835651Z",
     "shell.execute_reply": "2025-08-04T06:55:08.834621Z"
    },
    "papermill": {
     "duration": 0.023621,
     "end_time": "2025-08-04T06:55:08.837355",
     "exception": false,
     "start_time": "2025-08-04T06:55:08.813734",
     "status": "completed"
    },
    "tags": []
   },
   "outputs": [],
   "source": [
    "model.compile(optimizer='Adam',loss='binary_crossentropy',metrics=['accuracy'])"
   ]
  },
  {
   "cell_type": "code",
   "execution_count": 17,
   "id": "6a1bf09b",
   "metadata": {
    "execution": {
     "iopub.execute_input": "2025-08-04T06:55:08.851060Z",
     "iopub.status.busy": "2025-08-04T06:55:08.850306Z",
     "iopub.status.idle": "2025-08-04T06:55:47.953615Z",
     "shell.execute_reply": "2025-08-04T06:55:47.952625Z"
    },
    "papermill": {
     "duration": 39.112009,
     "end_time": "2025-08-04T06:55:47.955448",
     "exception": false,
     "start_time": "2025-08-04T06:55:08.843439",
     "status": "completed"
    },
    "tags": []
   },
   "outputs": [
    {
     "name": "stdout",
     "output_type": "stream",
     "text": [
      "Epoch 1/100\n",
      "\u001b[1m128/128\u001b[0m \u001b[32m━━━━━━━━━━━━━━━━━━━━\u001b[0m\u001b[37m\u001b[0m \u001b[1m3s\u001b[0m 5ms/step - accuracy: 0.4780 - loss: 0.6895 - val_accuracy: 0.7969 - val_loss: 0.5874\n",
      "Epoch 2/100\n",
      "\u001b[1m128/128\u001b[0m \u001b[32m━━━━━━━━━━━━━━━━━━━━\u001b[0m\u001b[37m\u001b[0m \u001b[1m0s\u001b[0m 3ms/step - accuracy: 0.7999 - loss: 0.5679 - val_accuracy: 0.7969 - val_loss: 0.5319\n",
      "Epoch 3/100\n",
      "\u001b[1m128/128\u001b[0m \u001b[32m━━━━━━━━━━━━━━━━━━━━\u001b[0m\u001b[37m\u001b[0m \u001b[1m0s\u001b[0m 3ms/step - accuracy: 0.7892 - loss: 0.5311 - val_accuracy: 0.7969 - val_loss: 0.5107\n",
      "Epoch 4/100\n",
      "\u001b[1m128/128\u001b[0m \u001b[32m━━━━━━━━━━━━━━━━━━━━\u001b[0m\u001b[37m\u001b[0m \u001b[1m0s\u001b[0m 3ms/step - accuracy: 0.7971 - loss: 0.5078 - val_accuracy: 0.7969 - val_loss: 0.5025\n",
      "Epoch 5/100\n",
      "\u001b[1m128/128\u001b[0m \u001b[32m━━━━━━━━━━━━━━━━━━━━\u001b[0m\u001b[37m\u001b[0m \u001b[1m0s\u001b[0m 3ms/step - accuracy: 0.8013 - loss: 0.4959 - val_accuracy: 0.7969 - val_loss: 0.4985\n",
      "Epoch 6/100\n",
      "\u001b[1m128/128\u001b[0m \u001b[32m━━━━━━━━━━━━━━━━━━━━\u001b[0m\u001b[37m\u001b[0m \u001b[1m0s\u001b[0m 3ms/step - accuracy: 0.7990 - loss: 0.4949 - val_accuracy: 0.7969 - val_loss: 0.4949\n",
      "Epoch 7/100\n",
      "\u001b[1m128/128\u001b[0m \u001b[32m━━━━━━━━━━━━━━━━━━━━\u001b[0m\u001b[37m\u001b[0m \u001b[1m0s\u001b[0m 3ms/step - accuracy: 0.7972 - loss: 0.4931 - val_accuracy: 0.7969 - val_loss: 0.4897\n",
      "Epoch 8/100\n",
      "\u001b[1m128/128\u001b[0m \u001b[32m━━━━━━━━━━━━━━━━━━━━\u001b[0m\u001b[37m\u001b[0m \u001b[1m0s\u001b[0m 3ms/step - accuracy: 0.7985 - loss: 0.4861 - val_accuracy: 0.7969 - val_loss: 0.4825\n",
      "Epoch 9/100\n",
      "\u001b[1m128/128\u001b[0m \u001b[32m━━━━━━━━━━━━━━━━━━━━\u001b[0m\u001b[37m\u001b[0m \u001b[1m0s\u001b[0m 3ms/step - accuracy: 0.8014 - loss: 0.4748 - val_accuracy: 0.7969 - val_loss: 0.4743\n",
      "Epoch 10/100\n",
      "\u001b[1m128/128\u001b[0m \u001b[32m━━━━━━━━━━━━━━━━━━━━\u001b[0m\u001b[37m\u001b[0m \u001b[1m0s\u001b[0m 3ms/step - accuracy: 0.7983 - loss: 0.4689 - val_accuracy: 0.7969 - val_loss: 0.4657\n",
      "Epoch 11/100\n",
      "\u001b[1m128/128\u001b[0m \u001b[32m━━━━━━━━━━━━━━━━━━━━\u001b[0m\u001b[37m\u001b[0m \u001b[1m0s\u001b[0m 3ms/step - accuracy: 0.7913 - loss: 0.4685 - val_accuracy: 0.7969 - val_loss: 0.4574\n",
      "Epoch 12/100\n",
      "\u001b[1m128/128\u001b[0m \u001b[32m━━━━━━━━━━━━━━━━━━━━\u001b[0m\u001b[37m\u001b[0m \u001b[1m0s\u001b[0m 3ms/step - accuracy: 0.7968 - loss: 0.4513 - val_accuracy: 0.7969 - val_loss: 0.4504\n",
      "Epoch 13/100\n",
      "\u001b[1m128/128\u001b[0m \u001b[32m━━━━━━━━━━━━━━━━━━━━\u001b[0m\u001b[37m\u001b[0m \u001b[1m0s\u001b[0m 3ms/step - accuracy: 0.7961 - loss: 0.4402 - val_accuracy: 0.7969 - val_loss: 0.4449\n",
      "Epoch 14/100\n",
      "\u001b[1m128/128\u001b[0m \u001b[32m━━━━━━━━━━━━━━━━━━━━\u001b[0m\u001b[37m\u001b[0m \u001b[1m0s\u001b[0m 3ms/step - accuracy: 0.8005 - loss: 0.4351 - val_accuracy: 0.7969 - val_loss: 0.4413\n",
      "Epoch 15/100\n",
      "\u001b[1m128/128\u001b[0m \u001b[32m━━━━━━━━━━━━━━━━━━━━\u001b[0m\u001b[37m\u001b[0m \u001b[1m0s\u001b[0m 3ms/step - accuracy: 0.7941 - loss: 0.4391 - val_accuracy: 0.7969 - val_loss: 0.4386\n",
      "Epoch 16/100\n",
      "\u001b[1m128/128\u001b[0m \u001b[32m━━━━━━━━━━━━━━━━━━━━\u001b[0m\u001b[37m\u001b[0m \u001b[1m0s\u001b[0m 3ms/step - accuracy: 0.7925 - loss: 0.4317 - val_accuracy: 0.7969 - val_loss: 0.4370\n",
      "Epoch 17/100\n",
      "\u001b[1m128/128\u001b[0m \u001b[32m━━━━━━━━━━━━━━━━━━━━\u001b[0m\u001b[37m\u001b[0m \u001b[1m0s\u001b[0m 2ms/step - accuracy: 0.7961 - loss: 0.4331 - val_accuracy: 0.7969 - val_loss: 0.4358\n",
      "Epoch 18/100\n",
      "\u001b[1m128/128\u001b[0m \u001b[32m━━━━━━━━━━━━━━━━━━━━\u001b[0m\u001b[37m\u001b[0m \u001b[1m0s\u001b[0m 3ms/step - accuracy: 0.7926 - loss: 0.4307 - val_accuracy: 0.7969 - val_loss: 0.4350\n",
      "Epoch 19/100\n",
      "\u001b[1m128/128\u001b[0m \u001b[32m━━━━━━━━━━━━━━━━━━━━\u001b[0m\u001b[37m\u001b[0m \u001b[1m0s\u001b[0m 3ms/step - accuracy: 0.7992 - loss: 0.4228 - val_accuracy: 0.7969 - val_loss: 0.4346\n",
      "Epoch 20/100\n",
      "\u001b[1m128/128\u001b[0m \u001b[32m━━━━━━━━━━━━━━━━━━━━\u001b[0m\u001b[37m\u001b[0m \u001b[1m0s\u001b[0m 3ms/step - accuracy: 0.7985 - loss: 0.4274 - val_accuracy: 0.7969 - val_loss: 0.4341\n",
      "Epoch 21/100\n",
      "\u001b[1m128/128\u001b[0m \u001b[32m━━━━━━━━━━━━━━━━━━━━\u001b[0m\u001b[37m\u001b[0m \u001b[1m0s\u001b[0m 3ms/step - accuracy: 0.7905 - loss: 0.4345 - val_accuracy: 0.7969 - val_loss: 0.4336\n",
      "Epoch 22/100\n",
      "\u001b[1m128/128\u001b[0m \u001b[32m━━━━━━━━━━━━━━━━━━━━\u001b[0m\u001b[37m\u001b[0m \u001b[1m0s\u001b[0m 3ms/step - accuracy: 0.7944 - loss: 0.4222 - val_accuracy: 0.7969 - val_loss: 0.4332\n",
      "Epoch 23/100\n",
      "\u001b[1m128/128\u001b[0m \u001b[32m━━━━━━━━━━━━━━━━━━━━\u001b[0m\u001b[37m\u001b[0m \u001b[1m0s\u001b[0m 3ms/step - accuracy: 0.7912 - loss: 0.4326 - val_accuracy: 0.7987 - val_loss: 0.4329\n",
      "Epoch 24/100\n",
      "\u001b[1m128/128\u001b[0m \u001b[32m━━━━━━━━━━━━━━━━━━━━\u001b[0m\u001b[37m\u001b[0m \u001b[1m0s\u001b[0m 3ms/step - accuracy: 0.8023 - loss: 0.4229 - val_accuracy: 0.7987 - val_loss: 0.4323\n",
      "Epoch 25/100\n",
      "\u001b[1m128/128\u001b[0m \u001b[32m━━━━━━━━━━━━━━━━━━━━\u001b[0m\u001b[37m\u001b[0m \u001b[1m0s\u001b[0m 3ms/step - accuracy: 0.8076 - loss: 0.4206 - val_accuracy: 0.8037 - val_loss: 0.4316\n",
      "Epoch 26/100\n",
      "\u001b[1m128/128\u001b[0m \u001b[32m━━━━━━━━━━━━━━━━━━━━\u001b[0m\u001b[37m\u001b[0m \u001b[1m0s\u001b[0m 3ms/step - accuracy: 0.8149 - loss: 0.4137 - val_accuracy: 0.8163 - val_loss: 0.4310\n",
      "Epoch 27/100\n",
      "\u001b[1m128/128\u001b[0m \u001b[32m━━━━━━━━━━━━━━━━━━━━\u001b[0m\u001b[37m\u001b[0m \u001b[1m0s\u001b[0m 3ms/step - accuracy: 0.8178 - loss: 0.4190 - val_accuracy: 0.8175 - val_loss: 0.4301\n",
      "Epoch 28/100\n",
      "\u001b[1m128/128\u001b[0m \u001b[32m━━━━━━━━━━━━━━━━━━━━\u001b[0m\u001b[37m\u001b[0m \u001b[1m0s\u001b[0m 3ms/step - accuracy: 0.8204 - loss: 0.4141 - val_accuracy: 0.8206 - val_loss: 0.4293\n",
      "Epoch 29/100\n",
      "\u001b[1m128/128\u001b[0m \u001b[32m━━━━━━━━━━━━━━━━━━━━\u001b[0m\u001b[37m\u001b[0m \u001b[1m0s\u001b[0m 3ms/step - accuracy: 0.8237 - loss: 0.4139 - val_accuracy: 0.8225 - val_loss: 0.4282\n",
      "Epoch 30/100\n",
      "\u001b[1m128/128\u001b[0m \u001b[32m━━━━━━━━━━━━━━━━━━━━\u001b[0m\u001b[37m\u001b[0m \u001b[1m0s\u001b[0m 3ms/step - accuracy: 0.8205 - loss: 0.4201 - val_accuracy: 0.8175 - val_loss: 0.4268\n",
      "Epoch 31/100\n",
      "\u001b[1m128/128\u001b[0m \u001b[32m━━━━━━━━━━━━━━━━━━━━\u001b[0m\u001b[37m\u001b[0m \u001b[1m0s\u001b[0m 3ms/step - accuracy: 0.8230 - loss: 0.4271 - val_accuracy: 0.8206 - val_loss: 0.4256\n",
      "Epoch 32/100\n",
      "\u001b[1m128/128\u001b[0m \u001b[32m━━━━━━━━━━━━━━━━━━━━\u001b[0m\u001b[37m\u001b[0m \u001b[1m0s\u001b[0m 3ms/step - accuracy: 0.8274 - loss: 0.4110 - val_accuracy: 0.8244 - val_loss: 0.4243\n",
      "Epoch 33/100\n",
      "\u001b[1m128/128\u001b[0m \u001b[32m━━━━━━━━━━━━━━━━━━━━\u001b[0m\u001b[37m\u001b[0m \u001b[1m0s\u001b[0m 2ms/step - accuracy: 0.8298 - loss: 0.4084 - val_accuracy: 0.8256 - val_loss: 0.4232\n",
      "Epoch 34/100\n",
      "\u001b[1m128/128\u001b[0m \u001b[32m━━━━━━━━━━━━━━━━━━━━\u001b[0m\u001b[37m\u001b[0m \u001b[1m0s\u001b[0m 2ms/step - accuracy: 0.8158 - loss: 0.4337 - val_accuracy: 0.8269 - val_loss: 0.4219\n",
      "Epoch 35/100\n",
      "\u001b[1m128/128\u001b[0m \u001b[32m━━━━━━━━━━━━━━━━━━━━\u001b[0m\u001b[37m\u001b[0m \u001b[1m0s\u001b[0m 2ms/step - accuracy: 0.8260 - loss: 0.4188 - val_accuracy: 0.8275 - val_loss: 0.4207\n",
      "Epoch 36/100\n",
      "\u001b[1m128/128\u001b[0m \u001b[32m━━━━━━━━━━━━━━━━━━━━\u001b[0m\u001b[37m\u001b[0m \u001b[1m0s\u001b[0m 2ms/step - accuracy: 0.8351 - loss: 0.4050 - val_accuracy: 0.8319 - val_loss: 0.4197\n",
      "Epoch 37/100\n",
      "\u001b[1m128/128\u001b[0m \u001b[32m━━━━━━━━━━━━━━━━━━━━\u001b[0m\u001b[37m\u001b[0m \u001b[1m0s\u001b[0m 2ms/step - accuracy: 0.8251 - loss: 0.4186 - val_accuracy: 0.8306 - val_loss: 0.4187\n",
      "Epoch 38/100\n",
      "\u001b[1m128/128\u001b[0m \u001b[32m━━━━━━━━━━━━━━━━━━━━\u001b[0m\u001b[37m\u001b[0m \u001b[1m0s\u001b[0m 3ms/step - accuracy: 0.8198 - loss: 0.4246 - val_accuracy: 0.8331 - val_loss: 0.4178\n",
      "Epoch 39/100\n",
      "\u001b[1m128/128\u001b[0m \u001b[32m━━━━━━━━━━━━━━━━━━━━\u001b[0m\u001b[37m\u001b[0m \u001b[1m0s\u001b[0m 2ms/step - accuracy: 0.8296 - loss: 0.4127 - val_accuracy: 0.8306 - val_loss: 0.4170\n",
      "Epoch 40/100\n",
      "\u001b[1m128/128\u001b[0m \u001b[32m━━━━━━━━━━━━━━━━━━━━\u001b[0m\u001b[37m\u001b[0m \u001b[1m0s\u001b[0m 3ms/step - accuracy: 0.8266 - loss: 0.4206 - val_accuracy: 0.8319 - val_loss: 0.4162\n",
      "Epoch 41/100\n",
      "\u001b[1m128/128\u001b[0m \u001b[32m━━━━━━━━━━━━━━━━━━━━\u001b[0m\u001b[37m\u001b[0m \u001b[1m0s\u001b[0m 3ms/step - accuracy: 0.8245 - loss: 0.4193 - val_accuracy: 0.8306 - val_loss: 0.4157\n",
      "Epoch 42/100\n",
      "\u001b[1m128/128\u001b[0m \u001b[32m━━━━━━━━━━━━━━━━━━━━\u001b[0m\u001b[37m\u001b[0m \u001b[1m0s\u001b[0m 3ms/step - accuracy: 0.8381 - loss: 0.4008 - val_accuracy: 0.8306 - val_loss: 0.4148\n",
      "Epoch 43/100\n",
      "\u001b[1m128/128\u001b[0m \u001b[32m━━━━━━━━━━━━━━━━━━━━\u001b[0m\u001b[37m\u001b[0m \u001b[1m0s\u001b[0m 3ms/step - accuracy: 0.8300 - loss: 0.4057 - val_accuracy: 0.8331 - val_loss: 0.4142\n",
      "Epoch 44/100\n",
      "\u001b[1m128/128\u001b[0m \u001b[32m━━━━━━━━━━━━━━━━━━━━\u001b[0m\u001b[37m\u001b[0m \u001b[1m0s\u001b[0m 3ms/step - accuracy: 0.8232 - loss: 0.4103 - val_accuracy: 0.8319 - val_loss: 0.4136\n",
      "Epoch 45/100\n",
      "\u001b[1m128/128\u001b[0m \u001b[32m━━━━━━━━━━━━━━━━━━━━\u001b[0m\u001b[37m\u001b[0m \u001b[1m0s\u001b[0m 3ms/step - accuracy: 0.8282 - loss: 0.4061 - val_accuracy: 0.8313 - val_loss: 0.4130\n",
      "Epoch 46/100\n",
      "\u001b[1m128/128\u001b[0m \u001b[32m━━━━━━━━━━━━━━━━━━━━\u001b[0m\u001b[37m\u001b[0m \u001b[1m0s\u001b[0m 3ms/step - accuracy: 0.8328 - loss: 0.4114 - val_accuracy: 0.8325 - val_loss: 0.4125\n",
      "Epoch 47/100\n",
      "\u001b[1m128/128\u001b[0m \u001b[32m━━━━━━━━━━━━━━━━━━━━\u001b[0m\u001b[37m\u001b[0m \u001b[1m0s\u001b[0m 2ms/step - accuracy: 0.8293 - loss: 0.4029 - val_accuracy: 0.8325 - val_loss: 0.4121\n",
      "Epoch 48/100\n",
      "\u001b[1m128/128\u001b[0m \u001b[32m━━━━━━━━━━━━━━━━━━━━\u001b[0m\u001b[37m\u001b[0m \u001b[1m0s\u001b[0m 3ms/step - accuracy: 0.8223 - loss: 0.4098 - val_accuracy: 0.8325 - val_loss: 0.4116\n",
      "Epoch 49/100\n",
      "\u001b[1m128/128\u001b[0m \u001b[32m━━━━━━━━━━━━━━━━━━━━\u001b[0m\u001b[37m\u001b[0m \u001b[1m0s\u001b[0m 3ms/step - accuracy: 0.8300 - loss: 0.4077 - val_accuracy: 0.8306 - val_loss: 0.4117\n",
      "Epoch 50/100\n",
      "\u001b[1m128/128\u001b[0m \u001b[32m━━━━━━━━━━━━━━━━━━━━\u001b[0m\u001b[37m\u001b[0m \u001b[1m0s\u001b[0m 3ms/step - accuracy: 0.8232 - loss: 0.4081 - val_accuracy: 0.8350 - val_loss: 0.4108\n",
      "Epoch 51/100\n",
      "\u001b[1m128/128\u001b[0m \u001b[32m━━━━━━━━━━━━━━━━━━━━\u001b[0m\u001b[37m\u001b[0m \u001b[1m0s\u001b[0m 2ms/step - accuracy: 0.8367 - loss: 0.4011 - val_accuracy: 0.8319 - val_loss: 0.4105\n",
      "Epoch 52/100\n",
      "\u001b[1m128/128\u001b[0m \u001b[32m━━━━━━━━━━━━━━━━━━━━\u001b[0m\u001b[37m\u001b[0m \u001b[1m0s\u001b[0m 3ms/step - accuracy: 0.8280 - loss: 0.4073 - val_accuracy: 0.8319 - val_loss: 0.4101\n",
      "Epoch 53/100\n",
      "\u001b[1m128/128\u001b[0m \u001b[32m━━━━━━━━━━━━━━━━━━━━\u001b[0m\u001b[37m\u001b[0m \u001b[1m0s\u001b[0m 2ms/step - accuracy: 0.8322 - loss: 0.4012 - val_accuracy: 0.8338 - val_loss: 0.4097\n",
      "Epoch 54/100\n",
      "\u001b[1m128/128\u001b[0m \u001b[32m━━━━━━━━━━━━━━━━━━━━\u001b[0m\u001b[37m\u001b[0m \u001b[1m0s\u001b[0m 3ms/step - accuracy: 0.8233 - loss: 0.4020 - val_accuracy: 0.8356 - val_loss: 0.4094\n",
      "Epoch 55/100\n",
      "\u001b[1m128/128\u001b[0m \u001b[32m━━━━━━━━━━━━━━━━━━━━\u001b[0m\u001b[37m\u001b[0m \u001b[1m0s\u001b[0m 3ms/step - accuracy: 0.8280 - loss: 0.4037 - val_accuracy: 0.8344 - val_loss: 0.4090\n",
      "Epoch 56/100\n",
      "\u001b[1m128/128\u001b[0m \u001b[32m━━━━━━━━━━━━━━━━━━━━\u001b[0m\u001b[37m\u001b[0m \u001b[1m0s\u001b[0m 3ms/step - accuracy: 0.8260 - loss: 0.4108 - val_accuracy: 0.8350 - val_loss: 0.4087\n",
      "Epoch 57/100\n",
      "\u001b[1m128/128\u001b[0m \u001b[32m━━━━━━━━━━━━━━━━━━━━\u001b[0m\u001b[37m\u001b[0m \u001b[1m0s\u001b[0m 3ms/step - accuracy: 0.8306 - loss: 0.4065 - val_accuracy: 0.8350 - val_loss: 0.4085\n",
      "Epoch 58/100\n",
      "\u001b[1m128/128\u001b[0m \u001b[32m━━━━━━━━━━━━━━━━━━━━\u001b[0m\u001b[37m\u001b[0m \u001b[1m0s\u001b[0m 3ms/step - accuracy: 0.8286 - loss: 0.4069 - val_accuracy: 0.8319 - val_loss: 0.4085\n",
      "Epoch 59/100\n",
      "\u001b[1m128/128\u001b[0m \u001b[32m━━━━━━━━━━━━━━━━━━━━\u001b[0m\u001b[37m\u001b[0m \u001b[1m0s\u001b[0m 3ms/step - accuracy: 0.8344 - loss: 0.4030 - val_accuracy: 0.8363 - val_loss: 0.4080\n",
      "Epoch 60/100\n",
      "\u001b[1m128/128\u001b[0m \u001b[32m━━━━━━━━━━━━━━━━━━━━\u001b[0m\u001b[37m\u001b[0m \u001b[1m0s\u001b[0m 3ms/step - accuracy: 0.8312 - loss: 0.4023 - val_accuracy: 0.8363 - val_loss: 0.4077\n",
      "Epoch 61/100\n",
      "\u001b[1m128/128\u001b[0m \u001b[32m━━━━━━━━━━━━━━━━━━━━\u001b[0m\u001b[37m\u001b[0m \u001b[1m0s\u001b[0m 3ms/step - accuracy: 0.8234 - loss: 0.4064 - val_accuracy: 0.8369 - val_loss: 0.4075\n",
      "Epoch 62/100\n",
      "\u001b[1m128/128\u001b[0m \u001b[32m━━━━━━━━━━━━━━━━━━━━\u001b[0m\u001b[37m\u001b[0m \u001b[1m0s\u001b[0m 2ms/step - accuracy: 0.8152 - loss: 0.4252 - val_accuracy: 0.8363 - val_loss: 0.4074\n",
      "Epoch 63/100\n",
      "\u001b[1m128/128\u001b[0m \u001b[32m━━━━━━━━━━━━━━━━━━━━\u001b[0m\u001b[37m\u001b[0m \u001b[1m0s\u001b[0m 3ms/step - accuracy: 0.8253 - loss: 0.4142 - val_accuracy: 0.8363 - val_loss: 0.4070\n",
      "Epoch 64/100\n",
      "\u001b[1m128/128\u001b[0m \u001b[32m━━━━━━━━━━━━━━━━━━━━\u001b[0m\u001b[37m\u001b[0m \u001b[1m0s\u001b[0m 3ms/step - accuracy: 0.8306 - loss: 0.4066 - val_accuracy: 0.8369 - val_loss: 0.4068\n",
      "Epoch 65/100\n",
      "\u001b[1m128/128\u001b[0m \u001b[32m━━━━━━━━━━━━━━━━━━━━\u001b[0m\u001b[37m\u001b[0m \u001b[1m0s\u001b[0m 3ms/step - accuracy: 0.8240 - loss: 0.4074 - val_accuracy: 0.8338 - val_loss: 0.4065\n",
      "Epoch 66/100\n",
      "\u001b[1m128/128\u001b[0m \u001b[32m━━━━━━━━━━━━━━━━━━━━\u001b[0m\u001b[37m\u001b[0m \u001b[1m0s\u001b[0m 3ms/step - accuracy: 0.8265 - loss: 0.4069 - val_accuracy: 0.8331 - val_loss: 0.4065\n",
      "Epoch 67/100\n",
      "\u001b[1m128/128\u001b[0m \u001b[32m━━━━━━━━━━━━━━━━━━━━\u001b[0m\u001b[37m\u001b[0m \u001b[1m0s\u001b[0m 3ms/step - accuracy: 0.8308 - loss: 0.3997 - val_accuracy: 0.8338 - val_loss: 0.4061\n",
      "Epoch 68/100\n",
      "\u001b[1m128/128\u001b[0m \u001b[32m━━━━━━━━━━━━━━━━━━━━\u001b[0m\u001b[37m\u001b[0m \u001b[1m0s\u001b[0m 3ms/step - accuracy: 0.8269 - loss: 0.4022 - val_accuracy: 0.8338 - val_loss: 0.4061\n",
      "Epoch 69/100\n",
      "\u001b[1m128/128\u001b[0m \u001b[32m━━━━━━━━━━━━━━━━━━━━\u001b[0m\u001b[37m\u001b[0m \u001b[1m0s\u001b[0m 3ms/step - accuracy: 0.8287 - loss: 0.4042 - val_accuracy: 0.8338 - val_loss: 0.4058\n",
      "Epoch 70/100\n",
      "\u001b[1m128/128\u001b[0m \u001b[32m━━━━━━━━━━━━━━━━━━━━\u001b[0m\u001b[37m\u001b[0m \u001b[1m0s\u001b[0m 3ms/step - accuracy: 0.8316 - loss: 0.4020 - val_accuracy: 0.8331 - val_loss: 0.4058\n",
      "Epoch 71/100\n",
      "\u001b[1m128/128\u001b[0m \u001b[32m━━━━━━━━━━━━━━━━━━━━\u001b[0m\u001b[37m\u001b[0m \u001b[1m0s\u001b[0m 3ms/step - accuracy: 0.8378 - loss: 0.3932 - val_accuracy: 0.8331 - val_loss: 0.4058\n",
      "Epoch 72/100\n",
      "\u001b[1m128/128\u001b[0m \u001b[32m━━━━━━━━━━━━━━━━━━━━\u001b[0m\u001b[37m\u001b[0m \u001b[1m0s\u001b[0m 3ms/step - accuracy: 0.8339 - loss: 0.3998 - val_accuracy: 0.8319 - val_loss: 0.4055\n",
      "Epoch 73/100\n",
      "\u001b[1m128/128\u001b[0m \u001b[32m━━━━━━━━━━━━━━━━━━━━\u001b[0m\u001b[37m\u001b[0m \u001b[1m0s\u001b[0m 3ms/step - accuracy: 0.8332 - loss: 0.3929 - val_accuracy: 0.8319 - val_loss: 0.4052\n",
      "Epoch 74/100\n",
      "\u001b[1m128/128\u001b[0m \u001b[32m━━━━━━━━━━━━━━━━━━━━\u001b[0m\u001b[37m\u001b[0m \u001b[1m0s\u001b[0m 3ms/step - accuracy: 0.8336 - loss: 0.3978 - val_accuracy: 0.8313 - val_loss: 0.4053\n",
      "Epoch 75/100\n",
      "\u001b[1m128/128\u001b[0m \u001b[32m━━━━━━━━━━━━━━━━━━━━\u001b[0m\u001b[37m\u001b[0m \u001b[1m0s\u001b[0m 2ms/step - accuracy: 0.8334 - loss: 0.4035 - val_accuracy: 0.8300 - val_loss: 0.4051\n",
      "Epoch 76/100\n",
      "\u001b[1m128/128\u001b[0m \u001b[32m━━━━━━━━━━━━━━━━━━━━\u001b[0m\u001b[37m\u001b[0m \u001b[1m0s\u001b[0m 3ms/step - accuracy: 0.8300 - loss: 0.4016 - val_accuracy: 0.8294 - val_loss: 0.4049\n",
      "Epoch 77/100\n",
      "\u001b[1m128/128\u001b[0m \u001b[32m━━━━━━━━━━━━━━━━━━━━\u001b[0m\u001b[37m\u001b[0m \u001b[1m0s\u001b[0m 3ms/step - accuracy: 0.8405 - loss: 0.3945 - val_accuracy: 0.8325 - val_loss: 0.4049\n",
      "Epoch 78/100\n",
      "\u001b[1m128/128\u001b[0m \u001b[32m━━━━━━━━━━━━━━━━━━━━\u001b[0m\u001b[37m\u001b[0m \u001b[1m0s\u001b[0m 2ms/step - accuracy: 0.8332 - loss: 0.4057 - val_accuracy: 0.8313 - val_loss: 0.4049\n",
      "Epoch 79/100\n",
      "\u001b[1m128/128\u001b[0m \u001b[32m━━━━━━━━━━━━━━━━━━━━\u001b[0m\u001b[37m\u001b[0m \u001b[1m0s\u001b[0m 3ms/step - accuracy: 0.8319 - loss: 0.4057 - val_accuracy: 0.8306 - val_loss: 0.4047\n",
      "Epoch 80/100\n",
      "\u001b[1m128/128\u001b[0m \u001b[32m━━━━━━━━━━━━━━━━━━━━\u001b[0m\u001b[37m\u001b[0m \u001b[1m0s\u001b[0m 3ms/step - accuracy: 0.8310 - loss: 0.4060 - val_accuracy: 0.8306 - val_loss: 0.4047\n",
      "Epoch 81/100\n",
      "\u001b[1m128/128\u001b[0m \u001b[32m━━━━━━━━━━━━━━━━━━━━\u001b[0m\u001b[37m\u001b[0m \u001b[1m0s\u001b[0m 3ms/step - accuracy: 0.8317 - loss: 0.4028 - val_accuracy: 0.8300 - val_loss: 0.4046\n",
      "Epoch 82/100\n",
      "\u001b[1m128/128\u001b[0m \u001b[32m━━━━━━━━━━━━━━━━━━━━\u001b[0m\u001b[37m\u001b[0m \u001b[1m0s\u001b[0m 3ms/step - accuracy: 0.8314 - loss: 0.4031 - val_accuracy: 0.8306 - val_loss: 0.4045\n",
      "Epoch 83/100\n",
      "\u001b[1m128/128\u001b[0m \u001b[32m━━━━━━━━━━━━━━━━━━━━\u001b[0m\u001b[37m\u001b[0m \u001b[1m0s\u001b[0m 3ms/step - accuracy: 0.8339 - loss: 0.3973 - val_accuracy: 0.8313 - val_loss: 0.4044\n",
      "Epoch 84/100\n",
      "\u001b[1m128/128\u001b[0m \u001b[32m━━━━━━━━━━━━━━━━━━━━\u001b[0m\u001b[37m\u001b[0m \u001b[1m0s\u001b[0m 3ms/step - accuracy: 0.8343 - loss: 0.4009 - val_accuracy: 0.8306 - val_loss: 0.4042\n",
      "Epoch 85/100\n",
      "\u001b[1m128/128\u001b[0m \u001b[32m━━━━━━━━━━━━━━━━━━━━\u001b[0m\u001b[37m\u001b[0m \u001b[1m0s\u001b[0m 3ms/step - accuracy: 0.8313 - loss: 0.3945 - val_accuracy: 0.8319 - val_loss: 0.4043\n",
      "Epoch 86/100\n",
      "\u001b[1m128/128\u001b[0m \u001b[32m━━━━━━━━━━━━━━━━━━━━\u001b[0m\u001b[37m\u001b[0m \u001b[1m0s\u001b[0m 3ms/step - accuracy: 0.8371 - loss: 0.3955 - val_accuracy: 0.8319 - val_loss: 0.4042\n",
      "Epoch 87/100\n",
      "\u001b[1m128/128\u001b[0m \u001b[32m━━━━━━━━━━━━━━━━━━━━\u001b[0m\u001b[37m\u001b[0m \u001b[1m0s\u001b[0m 3ms/step - accuracy: 0.8372 - loss: 0.3957 - val_accuracy: 0.8300 - val_loss: 0.4045\n",
      "Epoch 88/100\n",
      "\u001b[1m128/128\u001b[0m \u001b[32m━━━━━━━━━━━━━━━━━━━━\u001b[0m\u001b[37m\u001b[0m \u001b[1m0s\u001b[0m 3ms/step - accuracy: 0.8272 - loss: 0.4032 - val_accuracy: 0.8313 - val_loss: 0.4041\n",
      "Epoch 89/100\n",
      "\u001b[1m128/128\u001b[0m \u001b[32m━━━━━━━━━━━━━━━━━━━━\u001b[0m\u001b[37m\u001b[0m \u001b[1m0s\u001b[0m 3ms/step - accuracy: 0.8354 - loss: 0.3959 - val_accuracy: 0.8306 - val_loss: 0.4042\n",
      "Epoch 90/100\n",
      "\u001b[1m128/128\u001b[0m \u001b[32m━━━━━━━━━━━━━━━━━━━━\u001b[0m\u001b[37m\u001b[0m \u001b[1m0s\u001b[0m 3ms/step - accuracy: 0.8332 - loss: 0.4008 - val_accuracy: 0.8313 - val_loss: 0.4042\n",
      "Epoch 91/100\n",
      "\u001b[1m128/128\u001b[0m \u001b[32m━━━━━━━━━━━━━━━━━━━━\u001b[0m\u001b[37m\u001b[0m \u001b[1m0s\u001b[0m 3ms/step - accuracy: 0.8440 - loss: 0.3850 - val_accuracy: 0.8306 - val_loss: 0.4041\n",
      "Epoch 92/100\n",
      "\u001b[1m128/128\u001b[0m \u001b[32m━━━━━━━━━━━━━━━━━━━━\u001b[0m\u001b[37m\u001b[0m \u001b[1m0s\u001b[0m 2ms/step - accuracy: 0.8362 - loss: 0.3940 - val_accuracy: 0.8300 - val_loss: 0.4040\n",
      "Epoch 93/100\n",
      "\u001b[1m128/128\u001b[0m \u001b[32m━━━━━━━━━━━━━━━━━━━━\u001b[0m\u001b[37m\u001b[0m \u001b[1m0s\u001b[0m 3ms/step - accuracy: 0.8350 - loss: 0.3962 - val_accuracy: 0.8306 - val_loss: 0.4041\n",
      "Epoch 94/100\n",
      "\u001b[1m128/128\u001b[0m \u001b[32m━━━━━━━━━━━━━━━━━━━━\u001b[0m\u001b[37m\u001b[0m \u001b[1m0s\u001b[0m 3ms/step - accuracy: 0.8427 - loss: 0.3886 - val_accuracy: 0.8313 - val_loss: 0.4043\n",
      "Epoch 95/100\n",
      "\u001b[1m128/128\u001b[0m \u001b[32m━━━━━━━━━━━━━━━━━━━━\u001b[0m\u001b[37m\u001b[0m \u001b[1m0s\u001b[0m 3ms/step - accuracy: 0.8290 - loss: 0.4061 - val_accuracy: 0.8294 - val_loss: 0.4040\n",
      "Epoch 96/100\n",
      "\u001b[1m128/128\u001b[0m \u001b[32m━━━━━━━━━━━━━━━━━━━━\u001b[0m\u001b[37m\u001b[0m \u001b[1m0s\u001b[0m 3ms/step - accuracy: 0.8367 - loss: 0.3981 - val_accuracy: 0.8300 - val_loss: 0.4040\n",
      "Epoch 97/100\n",
      "\u001b[1m128/128\u001b[0m \u001b[32m━━━━━━━━━━━━━━━━━━━━\u001b[0m\u001b[37m\u001b[0m \u001b[1m0s\u001b[0m 3ms/step - accuracy: 0.8256 - loss: 0.4021 - val_accuracy: 0.8331 - val_loss: 0.4042\n",
      "Epoch 98/100\n",
      "\u001b[1m128/128\u001b[0m \u001b[32m━━━━━━━━━━━━━━━━━━━━\u001b[0m\u001b[37m\u001b[0m \u001b[1m0s\u001b[0m 3ms/step - accuracy: 0.8329 - loss: 0.3972 - val_accuracy: 0.8331 - val_loss: 0.4041\n",
      "Epoch 99/100\n",
      "\u001b[1m128/128\u001b[0m \u001b[32m━━━━━━━━━━━━━━━━━━━━\u001b[0m\u001b[37m\u001b[0m \u001b[1m0s\u001b[0m 3ms/step - accuracy: 0.8370 - loss: 0.3949 - val_accuracy: 0.8300 - val_loss: 0.4041\n",
      "Epoch 100/100\n",
      "\u001b[1m128/128\u001b[0m \u001b[32m━━━━━━━━━━━━━━━━━━━━\u001b[0m\u001b[37m\u001b[0m \u001b[1m0s\u001b[0m 3ms/step - accuracy: 0.8289 - loss: 0.4071 - val_accuracy: 0.8306 - val_loss: 0.4041\n"
     ]
    }
   ],
   "source": [
    "model_history = model.fit(X_train_trf,y_train,batch_size=50,epochs=100,verbose=1,validation_split=0.2)"
   ]
  },
  {
   "cell_type": "code",
   "execution_count": 18,
   "id": "7ef1acc9",
   "metadata": {
    "execution": {
     "iopub.execute_input": "2025-08-04T06:55:48.038452Z",
     "iopub.status.busy": "2025-08-04T06:55:48.038060Z",
     "iopub.status.idle": "2025-08-04T06:55:48.049052Z",
     "shell.execute_reply": "2025-08-04T06:55:48.047995Z"
    },
    "papermill": {
     "duration": 0.053466,
     "end_time": "2025-08-04T06:55:48.050611",
     "exception": false,
     "start_time": "2025-08-04T06:55:47.997145",
     "status": "completed"
    },
    "tags": []
   },
   "outputs": [
    {
     "data": {
      "text/plain": [
       "[array([[-3.06496233e-01, -1.14439875e-01,  2.22512707e-01,\n",
       "         -7.31906518e-02, -2.43226796e-01,  8.11411068e-02,\n",
       "         -3.03547651e-01, -4.47252169e-02, -7.40861371e-02,\n",
       "          6.34009093e-02, -6.82013184e-02],\n",
       "        [ 1.91259885e+00,  2.16021609e+00,  5.48787951e-01,\n",
       "         -2.08522248e+00,  2.58064938e+00,  4.96996164e-01,\n",
       "          6.65544152e-01, -2.07252431e+00,  3.20824832e-01,\n",
       "         -1.70285189e+00,  3.32435727e-01],\n",
       "        [ 3.43136907e-01,  4.60290164e-03,  2.63031811e-01,\n",
       "         -8.06050077e-02, -1.39944822e-01,  1.01411380e-01,\n",
       "          7.94921368e-02,  3.38402033e-01,  4.73456159e-02,\n",
       "         -1.26680076e-01,  7.18706772e-02],\n",
       "        [ 1.97379827e-01, -3.23641270e-01, -6.46605849e-01,\n",
       "         -6.74237490e-01, -3.16585571e-01, -5.81028819e-01,\n",
       "         -1.22422941e-01,  2.74718493e-01, -2.28062272e-01,\n",
       "         -6.70450509e-01, -9.36875939e-02],\n",
       "        [-1.91551507e-01, -1.52731046e-01, -1.63967814e-02,\n",
       "          2.00011373e-01,  5.03600575e-04,  1.28627852e-01,\n",
       "          3.78467292e-02, -1.37675963e-02,  9.62218791e-02,\n",
       "          7.74904117e-02, -6.43163621e-02],\n",
       "        [ 2.03421578e-01,  8.94118324e-02,  4.45325702e-01,\n",
       "          1.30461767e-01, -1.22753177e-02,  7.34338343e-01,\n",
       "          3.07794571e-01,  1.36950821e-01, -3.97673637e-01,\n",
       "          6.29002899e-02, -1.18449137e-01],\n",
       "        [ 6.20840490e-01,  1.16518927e+00,  1.27508867e+00,\n",
       "         -2.18715906e-01,  1.41921341e+00,  1.03884137e+00,\n",
       "          1.52618158e+00, -1.06084502e+00,  1.60623825e+00,\n",
       "         -1.66422173e-01,  1.50675142e+00],\n",
       "        [-2.06845134e-01, -6.85970020e-03,  1.32714748e-01,\n",
       "          5.11039160e-02, -6.59402758e-02,  4.80697542e-01,\n",
       "          6.48934171e-02,  1.37890652e-01, -3.00211072e-01,\n",
       "         -3.84081423e-01, -4.90006179e-01],\n",
       "        [ 5.57676733e-01,  2.33263895e-01, -5.25275528e-01,\n",
       "         -8.42590809e-01, -1.50445357e-01,  8.25907513e-02,\n",
       "          2.46446669e-01,  3.91546488e-02, -3.21822524e-01,\n",
       "         -1.18616116e+00, -8.11997354e-01],\n",
       "        [ 3.05565834e-01,  2.83835024e-01,  2.27872252e-01,\n",
       "          1.03418149e-01,  1.19763814e-01,  3.67641240e-01,\n",
       "          6.33612752e-01, -2.65692063e-02, -2.22238123e-01,\n",
       "          2.35560298e-01, -3.89805615e-01],\n",
       "        [-4.14762944e-01,  1.59957305e-01,  7.89975286e-01,\n",
       "          7.70715058e-01,  3.25796843e-01,  6.37753189e-01,\n",
       "          8.09974819e-02, -8.67419168e-02,  2.75303066e-01,\n",
       "          3.73984158e-01,  4.25002694e-01]], dtype=float32),\n",
       " array([ 0.49316812, -0.3588481 , -0.4657931 , -0.6361493 , -0.75350857,\n",
       "        -0.74409616, -1.2736161 ,  0.49247208,  0.01716375, -0.32647434,\n",
       "         0.00381678], dtype=float32)]"
      ]
     },
     "execution_count": 18,
     "metadata": {},
     "output_type": "execute_result"
    }
   ],
   "source": [
    "model.layers[0].get_weights()"
   ]
  },
  {
   "cell_type": "code",
   "execution_count": 19,
   "id": "fa0bedea",
   "metadata": {
    "execution": {
     "iopub.execute_input": "2025-08-04T06:55:48.199538Z",
     "iopub.status.busy": "2025-08-04T06:55:48.199195Z",
     "iopub.status.idle": "2025-08-04T06:55:48.208216Z",
     "shell.execute_reply": "2025-08-04T06:55:48.207377Z"
    },
    "papermill": {
     "duration": 0.11811,
     "end_time": "2025-08-04T06:55:48.209652",
     "exception": false,
     "start_time": "2025-08-04T06:55:48.091542",
     "status": "completed"
    },
    "tags": []
   },
   "outputs": [
    {
     "data": {
      "text/plain": [
       "[array([[-0.9917146 , -0.5203666 ,  0.6141562 ,  0.96298945, -0.2224908 ,\n",
       "         -0.8195638 ],\n",
       "        [-1.0996797 , -1.0288095 ,  0.14836752,  0.11038715, -0.7931991 ,\n",
       "         -0.6212257 ],\n",
       "        [ 0.85772336,  0.523448  , -0.6387674 , -0.49154988,  0.48714256,\n",
       "          0.7159192 ],\n",
       "        [ 0.44302464,  0.32672858,  0.06974576,  0.00845312,  0.12958981,\n",
       "          0.5373685 ],\n",
       "        [-0.39312845, -1.1909847 ,  0.9782231 ,  1.1900364 , -1.037636  ,\n",
       "         -0.9897657 ],\n",
       "        [ 0.06267921,  0.04395664, -0.40491152, -0.10166122,  0.13757883,\n",
       "          0.15166904],\n",
       "        [ 1.0573058 , -0.17904784, -1.0268679 , -0.96867764,  1.1024699 ,\n",
       "          0.9969346 ],\n",
       "        [ 0.07326908,  0.9234007 ,  0.04972882, -0.1073278 ,  0.83902735,\n",
       "          0.397508  ],\n",
       "        [ 0.9336263 ,  0.4601807 , -0.44069642, -1.1980648 ,  0.28117815,\n",
       "          0.6747488 ],\n",
       "        [-0.23244496,  0.7678563 ,  0.19069497, -0.19135877, -0.06900013,\n",
       "         -0.20876968],\n",
       "        [ 0.6270573 ,  0.22503507, -0.4030956 , -0.7432674 ,  1.2849439 ,\n",
       "          0.54757977]], dtype=float32),\n",
       " array([-0.44014555, -0.05282151,  0.24815592,  0.16711168, -0.19082133,\n",
       "        -0.3960631 ], dtype=float32)]"
      ]
     },
     "execution_count": 19,
     "metadata": {},
     "output_type": "execute_result"
    }
   ],
   "source": [
    "model.layers[1].get_weights()"
   ]
  },
  {
   "cell_type": "code",
   "execution_count": 20,
   "id": "52ef6faf",
   "metadata": {
    "execution": {
     "iopub.execute_input": "2025-08-04T06:55:48.292139Z",
     "iopub.status.busy": "2025-08-04T06:55:48.291821Z",
     "iopub.status.idle": "2025-08-04T06:55:48.300516Z",
     "shell.execute_reply": "2025-08-04T06:55:48.299628Z"
    },
    "papermill": {
     "duration": 0.05294,
     "end_time": "2025-08-04T06:55:48.302055",
     "exception": false,
     "start_time": "2025-08-04T06:55:48.249115",
     "status": "completed"
    },
    "tags": []
   },
   "outputs": [
    {
     "data": {
      "text/plain": [
       "[array([[-0.9544688 ,  0.70529026,  1.2249022 ],\n",
       "        [-1.3378193 ,  1.4607623 ,  0.7823593 ],\n",
       "        [ 0.99589854, -0.7979529 , -0.38249052],\n",
       "        [ 1.0086057 , -1.7323952 , -1.396625  ],\n",
       "        [-1.1482093 ,  1.0137328 ,  1.4069495 ],\n",
       "        [-0.89458615,  0.731668  ,  0.82651335]], dtype=float32),\n",
       " array([ 0.58654183, -0.30873224, -0.7388393 ], dtype=float32)]"
      ]
     },
     "execution_count": 20,
     "metadata": {},
     "output_type": "execute_result"
    }
   ],
   "source": [
    "model.layers[2].get_weights()"
   ]
  },
  {
   "cell_type": "code",
   "execution_count": 21,
   "id": "56dd05ca",
   "metadata": {
    "execution": {
     "iopub.execute_input": "2025-08-04T06:55:48.385140Z",
     "iopub.status.busy": "2025-08-04T06:55:48.384822Z",
     "iopub.status.idle": "2025-08-04T06:55:48.707122Z",
     "shell.execute_reply": "2025-08-04T06:55:48.705806Z"
    },
    "papermill": {
     "duration": 0.365962,
     "end_time": "2025-08-04T06:55:48.709425",
     "exception": false,
     "start_time": "2025-08-04T06:55:48.343463",
     "status": "completed"
    },
    "tags": []
   },
   "outputs": [
    {
     "name": "stdout",
     "output_type": "stream",
     "text": [
      "\u001b[1m63/63\u001b[0m \u001b[32m━━━━━━━━━━━━━━━━━━━━\u001b[0m\u001b[37m\u001b[0m \u001b[1m0s\u001b[0m 2ms/step\n"
     ]
    }
   ],
   "source": [
    "y_pred = model.predict(X_test_trf)"
   ]
  },
  {
   "cell_type": "code",
   "execution_count": 22,
   "id": "d733789f",
   "metadata": {
    "execution": {
     "iopub.execute_input": "2025-08-04T06:55:48.792607Z",
     "iopub.status.busy": "2025-08-04T06:55:48.792243Z",
     "iopub.status.idle": "2025-08-04T06:55:48.796916Z",
     "shell.execute_reply": "2025-08-04T06:55:48.796079Z"
    },
    "papermill": {
     "duration": 0.048216,
     "end_time": "2025-08-04T06:55:48.798386",
     "exception": false,
     "start_time": "2025-08-04T06:55:48.750170",
     "status": "completed"
    },
    "tags": []
   },
   "outputs": [],
   "source": [
    "y_pred_final = np.where(y_pred>0.5, 1, 0)"
   ]
  },
  {
   "cell_type": "code",
   "execution_count": 23,
   "id": "5525ca80",
   "metadata": {
    "execution": {
     "iopub.execute_input": "2025-08-04T06:55:48.882042Z",
     "iopub.status.busy": "2025-08-04T06:55:48.881713Z",
     "iopub.status.idle": "2025-08-04T06:55:48.887794Z",
     "shell.execute_reply": "2025-08-04T06:55:48.886870Z"
    },
    "papermill": {
     "duration": 0.048921,
     "end_time": "2025-08-04T06:55:48.889209",
     "exception": false,
     "start_time": "2025-08-04T06:55:48.840288",
     "status": "completed"
    },
    "tags": []
   },
   "outputs": [
    {
     "data": {
      "text/plain": [
       "array([[0],\n",
       "       [0],\n",
       "       [0],\n",
       "       ...,\n",
       "       [0],\n",
       "       [0],\n",
       "       [0]])"
      ]
     },
     "execution_count": 23,
     "metadata": {},
     "output_type": "execute_result"
    }
   ],
   "source": [
    "y_pred_final"
   ]
  },
  {
   "cell_type": "code",
   "execution_count": 24,
   "id": "dc4e5ae6",
   "metadata": {
    "execution": {
     "iopub.execute_input": "2025-08-04T06:55:48.973942Z",
     "iopub.status.busy": "2025-08-04T06:55:48.973587Z",
     "iopub.status.idle": "2025-08-04T06:55:48.980518Z",
     "shell.execute_reply": "2025-08-04T06:55:48.979562Z"
    },
    "papermill": {
     "duration": 0.050824,
     "end_time": "2025-08-04T06:55:48.982005",
     "exception": false,
     "start_time": "2025-08-04T06:55:48.931181",
     "status": "completed"
    },
    "tags": []
   },
   "outputs": [
    {
     "name": "stdout",
     "output_type": "stream",
     "text": [
      "Accuracy Score: 0.8445\n"
     ]
    }
   ],
   "source": [
    "from sklearn.metrics import accuracy_score\n",
    "print(f\"Accuracy Score: {accuracy_score(y_test,y_pred_final)}\")"
   ]
  },
  {
   "cell_type": "code",
   "execution_count": 25,
   "id": "75447e8a",
   "metadata": {
    "execution": {
     "iopub.execute_input": "2025-08-04T06:55:49.064758Z",
     "iopub.status.busy": "2025-08-04T06:55:49.064414Z",
     "iopub.status.idle": "2025-08-04T06:55:49.072283Z",
     "shell.execute_reply": "2025-08-04T06:55:49.071412Z"
    },
    "papermill": {
     "duration": 0.051986,
     "end_time": "2025-08-04T06:55:49.073862",
     "exception": false,
     "start_time": "2025-08-04T06:55:49.021876",
     "status": "completed"
    },
    "tags": []
   },
   "outputs": [
    {
     "data": {
      "text/plain": [
       "{'accuracy': [0.6681249737739563,\n",
       "  0.7957812547683716,\n",
       "  0.7957812547683716,\n",
       "  0.7957812547683716,\n",
       "  0.7957812547683716,\n",
       "  0.7957812547683716,\n",
       "  0.7957812547683716,\n",
       "  0.7957812547683716,\n",
       "  0.7957812547683716,\n",
       "  0.7957812547683716,\n",
       "  0.7957812547683716,\n",
       "  0.7957812547683716,\n",
       "  0.7957812547683716,\n",
       "  0.7957812547683716,\n",
       "  0.7957812547683716,\n",
       "  0.7957812547683716,\n",
       "  0.7957812547683716,\n",
       "  0.7957812547683716,\n",
       "  0.7957812547683716,\n",
       "  0.7957812547683716,\n",
       "  0.7957812547683716,\n",
       "  0.7964062690734863,\n",
       "  0.7959374785423279,\n",
       "  0.7970312237739563,\n",
       "  0.8051562309265137,\n",
       "  0.8101562261581421,\n",
       "  0.8151562213897705,\n",
       "  0.8154687285423279,\n",
       "  0.8196874856948853,\n",
       "  0.8217187523841858,\n",
       "  0.8240625262260437,\n",
       "  0.8231250047683716,\n",
       "  0.8246874809265137,\n",
       "  0.8253124952316284,\n",
       "  0.8259375095367432,\n",
       "  0.8253124952316284,\n",
       "  0.8257812261581421,\n",
       "  0.8271874785423279,\n",
       "  0.8270312547683716,\n",
       "  0.8267187476158142,\n",
       "  0.8260937333106995,\n",
       "  0.8268749713897705,\n",
       "  0.8264062404632568,\n",
       "  0.8259375095367432,\n",
       "  0.8259375095367432,\n",
       "  0.827343761920929,\n",
       "  0.8257812261581421,\n",
       "  0.8260937333106995,\n",
       "  0.8278124928474426,\n",
       "  0.8268749713897705,\n",
       "  0.8279687762260437,\n",
       "  0.8274999856948853,\n",
       "  0.8278124928474426,\n",
       "  0.827343761920929,\n",
       "  0.8265625238418579,\n",
       "  0.8265625238418579,\n",
       "  0.8285937309265137,\n",
       "  0.8292187452316284,\n",
       "  0.8292187452316284,\n",
       "  0.8274999856948853,\n",
       "  0.8271874785423279,\n",
       "  0.828125,\n",
       "  0.8299999833106995,\n",
       "  0.8287500143051147,\n",
       "  0.828906238079071,\n",
       "  0.8299999833106995,\n",
       "  0.8304687738418579,\n",
       "  0.8304687738418579,\n",
       "  0.8292187452316284,\n",
       "  0.8317187428474426,\n",
       "  0.8314062356948853,\n",
       "  0.8309375047683716,\n",
       "  0.8315625190734863,\n",
       "  0.8315625190734863,\n",
       "  0.83203125,\n",
       "  0.8315625190734863,\n",
       "  0.83203125,\n",
       "  0.8324999809265137,\n",
       "  0.8321874737739563,\n",
       "  0.8329687714576721,\n",
       "  0.8329687714576721,\n",
       "  0.8334375023841858,\n",
       "  0.8331249952316284,\n",
       "  0.8329687714576721,\n",
       "  0.8324999809265137,\n",
       "  0.8335937261581421,\n",
       "  0.8337500095367432,\n",
       "  0.8329687714576721,\n",
       "  0.8331249952316284,\n",
       "  0.8329687714576721,\n",
       "  0.8354687690734863,\n",
       "  0.8334375023841858,\n",
       "  0.8345312476158142,\n",
       "  0.8342187404632568,\n",
       "  0.8346874713897705,\n",
       "  0.8335937261581421,\n",
       "  0.8349999785423279,\n",
       "  0.8342187404632568,\n",
       "  0.8340625166893005,\n",
       "  0.8348437547683716],\n",
       " 'loss': [0.6509356498718262,\n",
       "  0.5555665493011475,\n",
       "  0.5202530026435852,\n",
       "  0.5069970488548279,\n",
       "  0.5014827251434326,\n",
       "  0.4978708028793335,\n",
       "  0.49341797828674316,\n",
       "  0.4869006276130676,\n",
       "  0.47853928804397583,\n",
       "  0.4692789912223816,\n",
       "  0.45988959074020386,\n",
       "  0.451241135597229,\n",
       "  0.44411253929138184,\n",
       "  0.438694030046463,\n",
       "  0.43472111225128174,\n",
       "  0.4321228861808777,\n",
       "  0.43032923340797424,\n",
       "  0.4290805459022522,\n",
       "  0.4282341003417969,\n",
       "  0.42751285433769226,\n",
       "  0.4269154667854309,\n",
       "  0.4265991449356079,\n",
       "  0.42634743452072144,\n",
       "  0.42557209730148315,\n",
       "  0.42514920234680176,\n",
       "  0.42461004853248596,\n",
       "  0.42403945326805115,\n",
       "  0.4232732653617859,\n",
       "  0.422616183757782,\n",
       "  0.42166924476623535,\n",
       "  0.42073139548301697,\n",
       "  0.4197487235069275,\n",
       "  0.4188268780708313,\n",
       "  0.41794514656066895,\n",
       "  0.4169500768184662,\n",
       "  0.41613754630088806,\n",
       "  0.415522038936615,\n",
       "  0.4147370159626007,\n",
       "  0.41403424739837646,\n",
       "  0.4134255647659302,\n",
       "  0.41287195682525635,\n",
       "  0.41242262721061707,\n",
       "  0.41170963644981384,\n",
       "  0.41133156418800354,\n",
       "  0.4108293056488037,\n",
       "  0.41031986474990845,\n",
       "  0.4098947048187256,\n",
       "  0.40944904088974,\n",
       "  0.4092607796192169,\n",
       "  0.40877723693847656,\n",
       "  0.40833091735839844,\n",
       "  0.40805381536483765,\n",
       "  0.40750399231910706,\n",
       "  0.40725022554397583,\n",
       "  0.40693554282188416,\n",
       "  0.4065670073032379,\n",
       "  0.40641486644744873,\n",
       "  0.4057527482509613,\n",
       "  0.40563827753067017,\n",
       "  0.40526875853538513,\n",
       "  0.40492305159568787,\n",
       "  0.4044130742549896,\n",
       "  0.4045983552932739,\n",
       "  0.4040229916572571,\n",
       "  0.40392205119132996,\n",
       "  0.4035140872001648,\n",
       "  0.4031188488006592,\n",
       "  0.40287429094314575,\n",
       "  0.40256690979003906,\n",
       "  0.40250080823898315,\n",
       "  0.4023459553718567,\n",
       "  0.401950865983963,\n",
       "  0.40163493156433105,\n",
       "  0.4012475907802582,\n",
       "  0.40124863386154175,\n",
       "  0.4011199474334717,\n",
       "  0.4006696343421936,\n",
       "  0.40039515495300293,\n",
       "  0.4003790020942688,\n",
       "  0.40000027418136597,\n",
       "  0.4001142978668213,\n",
       "  0.3996346592903137,\n",
       "  0.3996293544769287,\n",
       "  0.39941123127937317,\n",
       "  0.3990691900253296,\n",
       "  0.3989703357219696,\n",
       "  0.39892345666885376,\n",
       "  0.3985195457935333,\n",
       "  0.39829009771347046,\n",
       "  0.39817431569099426,\n",
       "  0.3980141580104828,\n",
       "  0.3979909121990204,\n",
       "  0.3978257477283478,\n",
       "  0.39744171500205994,\n",
       "  0.39783015847206116,\n",
       "  0.39741936326026917,\n",
       "  0.39700114727020264,\n",
       "  0.39700374007225037,\n",
       "  0.39688414335250854,\n",
       "  0.39671334624290466],\n",
       " 'val_accuracy': [0.796875,\n",
       "  0.796875,\n",
       "  0.796875,\n",
       "  0.796875,\n",
       "  0.796875,\n",
       "  0.796875,\n",
       "  0.796875,\n",
       "  0.796875,\n",
       "  0.796875,\n",
       "  0.796875,\n",
       "  0.796875,\n",
       "  0.796875,\n",
       "  0.796875,\n",
       "  0.796875,\n",
       "  0.796875,\n",
       "  0.796875,\n",
       "  0.796875,\n",
       "  0.796875,\n",
       "  0.796875,\n",
       "  0.796875,\n",
       "  0.796875,\n",
       "  0.796875,\n",
       "  0.7987499833106995,\n",
       "  0.7987499833106995,\n",
       "  0.8037499785423279,\n",
       "  0.8162500262260437,\n",
       "  0.8174999952316284,\n",
       "  0.8206250071525574,\n",
       "  0.8224999904632568,\n",
       "  0.8174999952316284,\n",
       "  0.8206250071525574,\n",
       "  0.8243749737739563,\n",
       "  0.8256250023841858,\n",
       "  0.8268749713897705,\n",
       "  0.8274999856948853,\n",
       "  0.8318750262260437,\n",
       "  0.8306249976158142,\n",
       "  0.8331249952316284,\n",
       "  0.8306249976158142,\n",
       "  0.8318750262260437,\n",
       "  0.8306249976158142,\n",
       "  0.8306249976158142,\n",
       "  0.8331249952316284,\n",
       "  0.8318750262260437,\n",
       "  0.831250011920929,\n",
       "  0.8324999809265137,\n",
       "  0.8324999809265137,\n",
       "  0.8324999809265137,\n",
       "  0.8306249976158142,\n",
       "  0.8349999785423279,\n",
       "  0.8318750262260437,\n",
       "  0.8318750262260437,\n",
       "  0.8337500095367432,\n",
       "  0.8356249928474426,\n",
       "  0.8343750238418579,\n",
       "  0.8349999785423279,\n",
       "  0.8349999785423279,\n",
       "  0.8318750262260437,\n",
       "  0.8362500071525574,\n",
       "  0.8362500071525574,\n",
       "  0.8368750214576721,\n",
       "  0.8362500071525574,\n",
       "  0.8362500071525574,\n",
       "  0.8368750214576721,\n",
       "  0.8337500095367432,\n",
       "  0.8331249952316284,\n",
       "  0.8337500095367432,\n",
       "  0.8337500095367432,\n",
       "  0.8337500095367432,\n",
       "  0.8331249952316284,\n",
       "  0.8331249952316284,\n",
       "  0.8318750262260437,\n",
       "  0.8318750262260437,\n",
       "  0.831250011920929,\n",
       "  0.8299999833106995,\n",
       "  0.8293750286102295,\n",
       "  0.8324999809265137,\n",
       "  0.831250011920929,\n",
       "  0.8306249976158142,\n",
       "  0.8306249976158142,\n",
       "  0.8299999833106995,\n",
       "  0.8306249976158142,\n",
       "  0.831250011920929,\n",
       "  0.8306249976158142,\n",
       "  0.8318750262260437,\n",
       "  0.8318750262260437,\n",
       "  0.8299999833106995,\n",
       "  0.831250011920929,\n",
       "  0.8306249976158142,\n",
       "  0.831250011920929,\n",
       "  0.8306249976158142,\n",
       "  0.8299999833106995,\n",
       "  0.8306249976158142,\n",
       "  0.831250011920929,\n",
       "  0.8293750286102295,\n",
       "  0.8299999833106995,\n",
       "  0.8331249952316284,\n",
       "  0.8331249952316284,\n",
       "  0.8299999833106995,\n",
       "  0.8306249976158142],\n",
       " 'val_loss': [0.5874295234680176,\n",
       "  0.5318678617477417,\n",
       "  0.5106706023216248,\n",
       "  0.5024572014808655,\n",
       "  0.4985484778881073,\n",
       "  0.4949134886264801,\n",
       "  0.48972076177597046,\n",
       "  0.48251965641975403,\n",
       "  0.4742698669433594,\n",
       "  0.4656895399093628,\n",
       "  0.4573698341846466,\n",
       "  0.45039212703704834,\n",
       "  0.4449446201324463,\n",
       "  0.4412674605846405,\n",
       "  0.438582181930542,\n",
       "  0.4369508624076843,\n",
       "  0.43584397435188293,\n",
       "  0.4349607229232788,\n",
       "  0.4346140921115875,\n",
       "  0.43413272500038147,\n",
       "  0.4336172044277191,\n",
       "  0.4331866204738617,\n",
       "  0.4328770041465759,\n",
       "  0.4323037266731262,\n",
       "  0.4316369295120239,\n",
       "  0.4309602975845337,\n",
       "  0.4300674498081207,\n",
       "  0.42929258942604065,\n",
       "  0.4282393157482147,\n",
       "  0.4267558753490448,\n",
       "  0.42560431361198425,\n",
       "  0.4242611229419708,\n",
       "  0.42321276664733887,\n",
       "  0.4218517243862152,\n",
       "  0.4207122325897217,\n",
       "  0.41971355676651,\n",
       "  0.4186926782131195,\n",
       "  0.41782432794570923,\n",
       "  0.4170475900173187,\n",
       "  0.41621333360671997,\n",
       "  0.41569313406944275,\n",
       "  0.4147980511188507,\n",
       "  0.41418421268463135,\n",
       "  0.41359439492225647,\n",
       "  0.4130024015903473,\n",
       "  0.4125126004219055,\n",
       "  0.4120732545852661,\n",
       "  0.4115949273109436,\n",
       "  0.41167137026786804,\n",
       "  0.41079676151275635,\n",
       "  0.4105242192745209,\n",
       "  0.4100835919380188,\n",
       "  0.40971219539642334,\n",
       "  0.40941372513771057,\n",
       "  0.4090399146080017,\n",
       "  0.4087216258049011,\n",
       "  0.40847355127334595,\n",
       "  0.40854212641716003,\n",
       "  0.4079517722129822,\n",
       "  0.40766438841819763,\n",
       "  0.40746521949768066,\n",
       "  0.4074348509311676,\n",
       "  0.40702107548713684,\n",
       "  0.40679439902305603,\n",
       "  0.40645870566368103,\n",
       "  0.4064601957798004,\n",
       "  0.40613895654678345,\n",
       "  0.40607380867004395,\n",
       "  0.40579473972320557,\n",
       "  0.4057829976081848,\n",
       "  0.40579187870025635,\n",
       "  0.4054500460624695,\n",
       "  0.405243843793869,\n",
       "  0.4053044617176056,\n",
       "  0.4051198959350586,\n",
       "  0.4049392640590668,\n",
       "  0.40492016077041626,\n",
       "  0.40485885739326477,\n",
       "  0.40472251176834106,\n",
       "  0.4046875238418579,\n",
       "  0.4045718312263489,\n",
       "  0.4044662117958069,\n",
       "  0.40442728996276855,\n",
       "  0.40422898530960083,\n",
       "  0.4042850434780121,\n",
       "  0.4042417109012604,\n",
       "  0.4044937491416931,\n",
       "  0.4041309356689453,\n",
       "  0.40420016646385193,\n",
       "  0.4041641354560852,\n",
       "  0.404133141040802,\n",
       "  0.4040312170982361,\n",
       "  0.4040757715702057,\n",
       "  0.40430182218551636,\n",
       "  0.40404239296913147,\n",
       "  0.40396934747695923,\n",
       "  0.4041960537433624,\n",
       "  0.40412986278533936,\n",
       "  0.4041118323802948,\n",
       "  0.40411728620529175]}"
      ]
     },
     "execution_count": 25,
     "metadata": {},
     "output_type": "execute_result"
    }
   ],
   "source": [
    "model_history.history"
   ]
  },
  {
   "cell_type": "code",
   "execution_count": 26,
   "id": "609d9b0f",
   "metadata": {
    "execution": {
     "iopub.execute_input": "2025-08-04T06:55:49.167880Z",
     "iopub.status.busy": "2025-08-04T06:55:49.167556Z",
     "iopub.status.idle": "2025-08-04T06:55:49.450341Z",
     "shell.execute_reply": "2025-08-04T06:55:49.449292Z"
    },
    "papermill": {
     "duration": 0.328382,
     "end_time": "2025-08-04T06:55:49.451907",
     "exception": false,
     "start_time": "2025-08-04T06:55:49.123525",
     "status": "completed"
    },
    "tags": []
   },
   "outputs": [
    {
     "data": {
      "text/plain": [
       "[<matplotlib.lines.Line2D at 0x7f092be43a50>]"
      ]
     },
     "execution_count": 26,
     "metadata": {},
     "output_type": "execute_result"
    },
    {
     "data": {
      "image/png": "[encoded data removed]",
      "text/plain": [
       "<Figure size 640x480 with 1 Axes>"
      ]
     },
     "metadata": {},
     "output_type": "display_data"
    }
   ],
   "source": [
    "import matplotlib.pyplot as plt\n",
    "\n",
    "plt.plot(model_history.history['loss'])\n",
    "plt.plot(model_history.history['val_loss'])"
   ]
  },
  {
   "cell_type": "code",
   "execution_count": 27,
   "id": "39ce9d03",
   "metadata": {
    "execution": {
     "iopub.execute_input": "2025-08-04T06:55:49.536457Z",
     "iopub.status.busy": "2025-08-04T06:55:49.536114Z",
     "iopub.status.idle": "2025-08-04T06:55:49.697994Z",
     "shell.execute_reply": "2025-08-04T06:55:49.696978Z"
    },
    "papermill": {
     "duration": 0.205216,
     "end_time": "2025-08-04T06:55:49.699508",
     "exception": false,
     "start_time": "2025-08-04T06:55:49.494292",
     "status": "completed"
    },
    "tags": []
   },
   "outputs": [
    {
     "data": {
      "text/plain": [
       "[<matplotlib.lines.Line2D at 0x7f08b873a510>]"
      ]
     },
     "execution_count": 27,
     "metadata": {},
     "output_type": "execute_result"
    },
    {
     "data": {
      "image/png": "[encoded data removed]",
      "text/plain": [
       "<Figure size 640x480 with 1 Axes>"
      ]
     },
     "metadata": {},
     "output_type": "display_data"
    }
   ],
   "source": [
    "plt.plot(model_history.history['accuracy'])\n",
    "plt.plot(model_history.history['val_accuracy'])"
   ]
  }
 ],
 "metadata": {
  "kaggle": {
   "accelerator": "none",
   "dataSources": [
    {
     "datasetId": 869651,
     "sourceId": 1481789,
     "sourceType": "datasetVersion"
    }
   ],
   "dockerImageVersionId": 31089,
   "isGpuEnabled": false,
   "isInternetEnabled": false,
   "language": "python",
   "sourceType": "notebook"
  },
  "kernelspec": {
   "display_name": "Python 3",
   "language": "python",
   "name": "python3"
  },
  "language_info": {
   "codemirror_mode": {
    "name": "ipython",
    "version": 3
   },
   "file_extension": ".py",
   "mimetype": "text/x-python",
   "name": "python",
   "nbconvert_exporter": "python",
   "pygments_lexer": "ipython3",
   "version": "3.11.13"
  },
  "papermill": {
   "default_parameters": {},
   "duration": 71.270077,
   "end_time": "2025-08-04T06:55:52.491049",
   "environment_variables": {},
   "exception": null,
   "input_path": "__notebook__.ipynb",
   "output_path": "__notebook__.ipynb",
   "parameters": {},
   "start_time": "2025-08-04T06:54:41.220972",
   "version": "2.6.0"
  }
 },
 "nbformat": 4,
 "nbformat_minor": 5
}
